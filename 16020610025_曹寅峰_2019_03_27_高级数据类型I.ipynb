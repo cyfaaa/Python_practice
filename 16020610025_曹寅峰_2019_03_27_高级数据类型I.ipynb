{
 "cells": [
  {
   "cell_type": "markdown",
   "metadata": {},
   "source": [
    "<font color=#ff0000 size=5 face=\"黑体\"> 练习1：利用print()函数实现简单的非刷新文本进度条。</font>\n",
    "\n",
    "基本思想：按照任务执行百分比将整个任务划分为100个单位，每执行$N\\%$输出一次进度条。每一行输出包含进度百分比，代表已完成的部分($**$)和未完成的部分($..$)，以及一个跟随完成度前进的小箭头，风格如下：\n",
    "\n",
    "$\\%10 [****->........................................]$"
   ]
  },
  {
   "cell_type": "code",
   "execution_count": 174,
   "metadata": {},
   "outputs": [
    {
     "name": "stdout",
     "output_type": "stream",
     "text": [
      "[%100 **************************************************************************************************** -> ]"
     ]
    }
   ],
   "source": [
    "# you need package time, and invoke time.sleep(0.1) to simulate the progress bar.\n",
    "import time\n",
    "#import os\n",
    "def processbar(N):\n",
    "    for i in range(int((100/N)+1)):\n",
    "        time.sleep(0.1)\n",
    "        prefix=N*i*'*'\n",
    "        suffix=(100-N*i)*'·'\n",
    "        print('\\r[%{} {} {} {}]'.format(i*N,prefix,'->',suffix),end='')\n",
    "        time.sleep(0.1)\n",
    "        #os.system('clear')\n",
    "processbar(1)\n",
    "    "
   ]
  },
  {
   "cell_type": "markdown",
   "metadata": {},
   "source": [
    "# <font color=#ff00ff size=5 face=\"黑体\"> 重要概念： </font>\n",
    "## 1) 按值传递\n",
    "## 2) 按引用传递\n",
    "## 3) 可变性"
   ]
  },
  {
   "cell_type": "code",
   "execution_count": 25,
   "metadata": {},
   "outputs": [],
   "source": [
    "def addOne(anInteger):\n",
    "    \"\"\"parameter is an integer\"\"\"\n",
    "    anInteger = anInteger + 1\n",
    "    print(\"anInteger:\",anInteger)"
   ]
  },
  {
   "cell_type": "code",
   "execution_count": 26,
   "metadata": {},
   "outputs": [
    {
     "name": "stdout",
     "output_type": "stream",
     "text": [
      "myInteger before addOne: 5\n",
      "anInteger: 6\n",
      "myInteger after addOne: 5\n"
     ]
    }
   ],
   "source": [
    "myInteger = 5\n",
    "print(\"myInteger before addOne:\", myInteger)\n",
    "addOne(myInteger) # call the function\n",
    "print(\"myInteger after addOne:\", myInteger)"
   ]
  },
  {
   "cell_type": "code",
   "execution_count": 27,
   "metadata": {},
   "outputs": [],
   "source": [
    "def addExc(aString):\n",
    "    \"\"\"parameter is a string\"\"\"\n",
    "    aString = aString + \"!\"\n",
    "    print(\"aString:\",aString)"
   ]
  },
  {
   "cell_type": "code",
   "execution_count": 28,
   "metadata": {},
   "outputs": [
    {
     "name": "stdout",
     "output_type": "stream",
     "text": [
      "myString before addExc: Hello, world\n",
      "aString: Hello, world!\n",
      "myString after addExc: Hello, world\n"
     ]
    }
   ],
   "source": [
    "myString = \"Hello, world\"\n",
    "print(\"myString before addExc:\",myString)\n",
    "\n",
    "addExc(myString)\n",
    "\n",
    "print(\"myString after addExc:\",myString)"
   ]
  },
  {
   "cell_type": "code",
   "execution_count": 29,
   "metadata": {},
   "outputs": [],
   "source": [
    "def addItem(aList):\n",
    "    \"\"\"parameter is a list\"\"\"\n",
    "    aList.append(\"New Item!\")\n",
    "    print(\"aList:\",aList)"
   ]
  },
  {
   "cell_type": "code",
   "execution_count": 30,
   "metadata": {},
   "outputs": [
    {
     "name": "stdout",
     "output_type": "stream",
     "text": [
      "myList before addItem: ['One', 'Two', 'Three']\n",
      "aList: ['One', 'Two', 'Three', 'New Item!']\n",
      "myList after addItem: ['One', 'Two', 'Three', 'New Item!']\n"
     ]
    }
   ],
   "source": [
    "myList = [\"One\",\"Two\",\"Three\"]\n",
    "print(\"myList before addItem:\",myList)\n",
    "addItem(myList) # [\"One\",\"Two\",\"Three\",\"New Item!\"]\n",
    "print(\"myList after addItem:\",myList)"
   ]
  },
  {
   "cell_type": "code",
   "execution_count": 31,
   "metadata": {},
   "outputs": [
    {
     "name": "stdout",
     "output_type": "stream",
     "text": [
      "The memory address of myInteger before:  4510233840\n",
      "The memory address of myInteger after: 4510233872\n",
      "The memory address of myList before:  4562555208\n",
      "The memory address of myList after:  4562555208\n"
     ]
    }
   ],
   "source": [
    "myInt1 = 5\n",
    "print(\"The memory address of myInteger before: \", id(myInt1))\n",
    "myInt1 = 6\n",
    "print(\"The memory address of myInteger after:\", id(myInt1))\n",
    "\n",
    "myList = ['one','two','three']\n",
    "print(\"The memory address of myList before: \", id(myList))\n",
    "myList.append('four')\n",
    "print(\"The memory address of myList after: \", id(myList))"
   ]
  },
  {
   "cell_type": "code",
   "execution_count": 32,
   "metadata": {},
   "outputs": [
    {
     "name": "stdout",
     "output_type": "stream",
     "text": [
      "True\n"
     ]
    }
   ],
   "source": [
    "myInt1 = 5\n",
    "myInt2 = 5\n",
    "print(id(myInt1) == id(myInt2))"
   ]
  },
  {
   "cell_type": "code",
   "execution_count": 33,
   "metadata": {},
   "outputs": [
    {
     "name": "stdout",
     "output_type": "stream",
     "text": [
      "False\n"
     ]
    }
   ],
   "source": [
    "myList1 = ['one', 'two', 'three']\n",
    "myList2 = ['one', 'two', 'three']\n",
    "print(id(myList1) == id(myList2))"
   ]
  },
  {
   "cell_type": "code",
   "execution_count": 34,
   "metadata": {},
   "outputs": [
    {
     "name": "stdout",
     "output_type": "stream",
     "text": [
      "['one', 'two', 'three']\n",
      "['one', 'two', 'three', 'four']\n"
     ]
    }
   ],
   "source": [
    "myList2.append('four')\n",
    "print(myList1)\n",
    "print(myList2)"
   ]
  },
  {
   "cell_type": "markdown",
   "metadata": {},
   "source": [
    "# <font color=#0000ff size=5 face=\"黑体\"> 字符串</font>\n"
   ]
  },
  {
   "cell_type": "code",
   "execution_count": 35,
   "metadata": {},
   "outputs": [
    {
     "name": "stdout",
     "output_type": "stream",
     "text": [
      "True\n"
     ]
    }
   ],
   "source": [
    "a = \"1234\"\n",
    "b = \"1234\"\n",
    "print(id(a) == id(b))"
   ]
  },
  {
   "cell_type": "code",
   "execution_count": 36,
   "metadata": {},
   "outputs": [
    {
     "name": "stdout",
     "output_type": "stream",
     "text": [
      "True\n"
     ]
    }
   ],
   "source": [
    "c = \"1234\"*50\n",
    "d = \"1234\"*50\n",
    "print(id(c) == id(d))"
   ]
  },
  {
   "cell_type": "code",
   "execution_count": 37,
   "metadata": {},
   "outputs": [
    {
     "name": "stdout",
     "output_type": "stream",
     "text": [
      "True\n"
     ]
    }
   ],
   "source": [
    "print(id(c[0]) == id(d[0]))"
   ]
  },
  {
   "cell_type": "code",
   "execution_count": 38,
   "metadata": {},
   "outputs": [
    {
     "name": "stdout",
     "output_type": "stream",
     "text": [
      "'12345'\n",
      "\"12345\"\n",
      "\"'12345'\"\n",
      "'''12345'''\n",
      "12345\n",
      "                    67890\n"
     ]
    }
   ],
   "source": [
    "myString1 = \"'12345'\"\n",
    "print(myString1)\n",
    "\n",
    "myString2 = '\"12345\"'\n",
    "print(myString2)\n",
    "\n",
    "myString3 = '''\"'12345'\"'''\n",
    "print(myString3)\n",
    "\n",
    "myString4 = \"'''12345'''\"\n",
    "print(myString4)\n",
    "\n",
    "myString5 = '''12345\n",
    "                    67890'''\n",
    "print(myString5)"
   ]
  },
  {
   "cell_type": "markdown",
   "metadata": {},
   "source": [
    "## <font color=#0000ff size=5 face=\"黑体\">转义字符</font>\n",
    "- \\n: 换行符\n",
    "- \\r：回到行首\n",
    "- \\t：水平制表符\n",
    "- \\v: 垂直制表符"
   ]
  },
  {
   "cell_type": "code",
   "execution_count": 39,
   "metadata": {},
   "outputs": [
    {
     "name": "stdout",
     "output_type": "stream",
     "text": [
      "12345\n",
      "\u000b",
      "67890\n"
     ]
    }
   ],
   "source": [
    "myString5 = '''12345\\n\\v67890'''\n",
    "print(myString5)"
   ]
  },
  {
   "cell_type": "code",
   "execution_count": 40,
   "metadata": {},
   "outputs": [
    {
     "name": "stdout",
     "output_type": "stream",
     "text": [
      "12345\n",
      "67890\n"
     ]
    }
   ],
   "source": [
    "myStringWithNewline = \"12345\\n67890\"\n",
    "print(myStringWithNewline)"
   ]
  },
  {
   "cell_type": "code",
   "execution_count": 41,
   "metadata": {},
   "outputs": [
    {
     "name": "stdout",
     "output_type": "stream",
     "text": [
      "12345\n",
      "67890\tabcde\"fghijklm\\no\n"
     ]
    }
   ],
   "source": [
    "myString = \"12345\\n67890\\tabcde\\\"fghijklm\\\\no\"\n",
    "print(myString)"
   ]
  },
  {
   "cell_type": "code",
   "execution_count": 42,
   "metadata": {},
   "outputs": [
    {
     "name": "stdout",
     "output_type": "stream",
     "text": [
      "It's my pleasure\n"
     ]
    }
   ],
   "source": [
    "mystring = \"It's my pleasure\"\n",
    "print(mystring)"
   ]
  },
  {
   "cell_type": "code",
   "execution_count": 43,
   "metadata": {},
   "outputs": [
    {
     "name": "stdout",
     "output_type": "stream",
     "text": [
      "<class 'str'>\n"
     ]
    }
   ],
   "source": [
    "print(type(mystring))"
   ]
  },
  {
   "cell_type": "markdown",
   "metadata": {},
   "source": [
    "###  <font color=\"0000ff\">函数和方法</font>"
   ]
  },
  {
   "cell_type": "code",
   "execution_count": 44,
   "metadata": {},
   "outputs": [
    {
     "name": "stdout",
     "output_type": "stream",
     "text": [
      "True\n",
      "False\n"
     ]
    }
   ],
   "source": [
    "myNumericString = '123456'\n",
    "myNonNumericString = 'ABCDEF'\n",
    "print(myNumericString.isdigit())\n",
    "print(myNonNumericString.isdigit())"
   ]
  },
  {
   "cell_type": "code",
   "execution_count": 45,
   "metadata": {},
   "outputs": [
    {
     "name": "stdout",
     "output_type": "stream",
     "text": [
      "1\n",
      "BC was found!\n",
      "-1\n",
      "GH was not found!\n"
     ]
    }
   ],
   "source": [
    "def checkInString(checkString,searchString):\n",
    "    if checkString.find(searchString) >= 0:\n",
    "        print(searchString + \" was found!\")\n",
    "    else:\n",
    "        print(searchString + \" was not found!\")\n",
    "\n",
    "\n",
    "myString = \"ABCDE\"\n",
    "print(myString.find(\"BC\"))\n",
    "checkInString(myString,\"BC\")\n",
    "\n",
    "print(myString.find(\"GH\"))\n",
    "checkInString(myString,\"GH\")"
   ]
  },
  {
   "cell_type": "markdown",
   "metadata": {},
   "source": [
    "###  <font color=\"0000ff\">find(text,[start],[end])</font>\n",
    "\n",
    "- str.find(\"substring\")\n",
    "- str.find(\"substring\",start)\n",
    "- str.find(\"substring\", start, end)"
   ]
  },
  {
   "cell_type": "code",
   "execution_count": 46,
   "metadata": {},
   "outputs": [
    {
     "name": "stdout",
     "output_type": "stream",
     "text": [
      "The length of myString is 15\n",
      "From beginning to end, find substring CDE at: 2\n",
      "From position 13, find substring CDE at: -1\n",
      "From position 4 to position 10, find substring CDE at 7\n"
     ]
    }
   ],
   "source": [
    "myString = \"ABCDEABCDEABCDE\"\n",
    "print(\"The length of myString is\",len(myString))\n",
    "print(\"From beginning to end, find substring CDE at:\",myString.find(\"CDE\")) \n",
    "print(\"From position 13, find substring CDE at:\",myString.find(\"CDE\",13)) \n",
    "print(\"From position 4 to position 10, find substring CDE at\",myString.find(\"CDE\",4,10))"
   ]
  },
  {
   "cell_type": "markdown",
   "metadata": {},
   "source": [
    "## <font color=#ff00ff size=5 face=\"黑体\"> [字符串常见的方法包括](https://docs.python.org/3.6/library/stdtypes.html#string-methods)： </font>\n",
    "- <font color=#0000ff face=\"黑体\">capitalize():</font>\n",
    "- <font color=#0000ff face=\"黑体\">lower():</font>\n",
    "- <font color=#0000ff face=\"黑体\">upper():</font>\n",
    "- <font color=#0000ff face=\"黑体\">title():</font>\n",
    "- <font color=#0000ff face=\"黑体\">strip():</font>\n",
    "- <font color=#0000ff face=\"黑体\">replace(old,new):</font>\n",
    "- <font color=#0000ff face=\"黑体\">join(list):</font>\n",
    "- <font color=#0000ff face=\"黑体\">index(item):</font>\n",
    "- <font color=#0000ff face=\"黑体\">count(item):</font>\n",
    "- <font color=#0000ff face=\"黑体\">split():</font>\n",
    "\n",
    "### 补充完整以上每个方法的返回值\n",
    "\n",
    "关于字符串，python还有一些布尔方法，用来判断字符串是否满足某种标准，如果是就返回True,否则返回False，例如 \n",
    "- <font color=#0000ff face=\"黑体\">endswith(suffix):</font>\n",
    "- <font color=#0000ff face=\"黑体\">startswith(prefix):</font>\n",
    "- <font color=#0000ff face=\"黑体\">isalnum():</font>\n",
    "- <font color=#0000ff face=\"黑体\">isalpha():</font>\n",
    "- <font color=#0000ff face=\"黑体\">isdecimal():</font>\n",
    "- <font color=#0000ff face=\"黑体\">islower():</font>\n",
    "- <font color=#0000ff face=\"黑体\">isupper():</font>\n",
    "- <font color=#0000ff face=\"黑体\">istitle():</font>\n",
    "\n"
   ]
  },
  {
   "cell_type": "code",
   "execution_count": 47,
   "metadata": {},
   "outputs": [
    {
     "name": "stdout",
     "output_type": "stream",
     "text": [
      "[original]: this is MY test string!   \n",
      "[capitalize method]: This is my test string!   \n",
      "[lower method]: this is my test string!   \n",
      "[upper method]: THIS IS MY TEST STRING!   \n",
      "[title method]: This Is My Test String!   \n",
      "[strip method]: this is MY test string!\n",
      "[replace method]: this is YOUR test string!   \n",
      "[join method]: this-is-MY-test-string!\n",
      "Finally, my string is: this is MY test string!   \n"
     ]
    }
   ],
   "source": [
    "myString = \"this is MY test string!   \"\n",
    "print(\"[original]: \" + myString)\n",
    "print(\"[capitalize method]: \" + myString.capitalize())\n",
    "print(\"[lower method]: \" + myString.lower())\n",
    "print(\"[upper method]: \" + myString.upper())\n",
    "print(\"[title method]: \" + myString.title())\n",
    "print(\"[strip method]: \" + myString.strip())\n",
    "print(\"[replace method]: \" + myString.replace(\"MY\", \"YOUR\"))\n",
    "\n",
    "myList = myString.split()\n",
    "print(\"[join method]: \" + \"-\".join(myList))\n",
    "\n",
    "print(\"Finally, my string is: \" + myString)"
   ]
  },
  {
   "cell_type": "code",
   "execution_count": 48,
   "metadata": {},
   "outputs": [
    {
     "name": "stdout",
     "output_type": "stream",
     "text": [
      "aaa bb c d e ff\n"
     ]
    }
   ],
   "source": [
    "string1 = \"aaa       bb      c d e ff    \"\n",
    "print(' '.join(string1.split()))\n",
    "# 删除字符串中多余的空白字符，如果有连续多个空白字符，只保留一个"
   ]
  },
  {
   "cell_type": "code",
   "execution_count": 49,
   "metadata": {},
   "outputs": [
    {
     "name": "stdout",
     "output_type": "stream",
     "text": [
      "['aaa', '?bb', '', 'd e', 'ff']\n"
     ]
    }
   ],
   "source": [
    "string1 = \"aaa%?bb%%d e%ff\"\n",
    "slist = string1.split(\"%\")\n",
    "print(slist)"
   ]
  },
  {
   "cell_type": "markdown",
   "metadata": {},
   "source": [
    "### <font color=#0000ff size=5 face=\"黑体\">字符串的连接</font>"
   ]
  },
  {
   "cell_type": "code",
   "execution_count": 50,
   "metadata": {},
   "outputs": [
    {
     "name": "stdout",
     "output_type": "stream",
     "text": [
      "helloworld\n"
     ]
    }
   ],
   "source": [
    "string1 = \"hello\"\n",
    "string2 = \"world\"\n",
    "new_string = string1 + string2\n",
    "print(new_string)"
   ]
  },
  {
   "cell_type": "code",
   "execution_count": 51,
   "metadata": {},
   "outputs": [
    {
     "name": "stdout",
     "output_type": "stream",
     "text": [
      "hellohellohellohello\n"
     ]
    }
   ],
   "source": [
    "print(string1 * 4)"
   ]
  },
  {
   "cell_type": "code",
   "execution_count": 52,
   "metadata": {},
   "outputs": [
    {
     "name": "stdout",
     "output_type": "stream",
     "text": [
      "4\n"
     ]
    }
   ],
   "source": [
    "print((string1 * 4).count('o'))"
   ]
  },
  {
   "cell_type": "markdown",
   "metadata": {},
   "source": [
    "### <font color=#0000ff size=5 face=\"黑体\">字符串的切片和索引</font>"
   ]
  },
  {
   "cell_type": "code",
   "execution_count": 53,
   "metadata": {},
   "outputs": [
    {
     "name": "stdout",
     "output_type": "stream",
     "text": [
      "First three characters: ABC\n",
      "Character 1 through 3: BCD\n",
      "Characters from 2 to the end:CDE\n"
     ]
    }
   ],
   "source": [
    "myString = \"ABCDE\"\n",
    "print(\"First three characters: \" + myString[:3]) \n",
    "print(\"Character 1 through 3: \" + myString[1:4])  \n",
    "print(\"Characters from 2 to the end:\" + myString[2:]) "
   ]
  },
  {
   "cell_type": "code",
   "execution_count": 54,
   "metadata": {},
   "outputs": [
    {
     "name": "stdout",
     "output_type": "stream",
     "text": [
      "Last two characters: DE\n",
      "All but the last two characters: ABC\n",
      "Last two characters: DE\n",
      "EDCBA\n"
     ]
    }
   ],
   "source": [
    "myString = \"ABCDE\"\n",
    "print(\"Last two characters: \" + myString[len(myString)-2:]) \n",
    "\n",
    "print(\"All but the last two characters: \" + myString[:-2]) \n",
    "print(\"Last two characters: \" + myString[-2:])\n",
    "\n",
    "print(myString[::-1])"
   ]
  },
  {
   "cell_type": "code",
   "execution_count": 55,
   "metadata": {},
   "outputs": [
    {
     "name": "stdout",
     "output_type": "stream",
     "text": [
      "desserts\n",
      "arahc\n",
      "\n",
      "time\n",
      "\n",
      "emit\n",
      "emit\n",
      "emit\n",
      "\n",
      "enil\n",
      "enil\n",
      "enil\n",
      "enil\n",
      "enil\n",
      "\n",
      "nile\n",
      "nile\n"
     ]
    }
   ],
   "source": [
    "# reverse long_word\n",
    "long_word = \"stressed\"\n",
    "print(long_word[::-1])\n",
    "# print the first 5 letters of long_word in reverse\n",
    "long_word = \"characteristics\"\n",
    "print(long_word[4::-1])\n",
    "print()\n",
    "\n",
    "long_word = \"timeline\"\n",
    "# print the first 4 letters of long_word\n",
    "print(long_word[0:4])\n",
    "print()\n",
    "# print the first 4 letters of long_word in reverse\n",
    "print(long_word[-len(long_word)+3:-len(long_word)-1:-1])\n",
    "print(long_word[-len(long_word)+3::-1])\n",
    "print(long_word[3::-1])\n",
    "print()\n",
    "# print the last 4 letters of long_word in reverse\n",
    "print(long_word[len(long_word)-1:len(long_word)-5:-1])\n",
    "print(long_word[7:3:-1])\n",
    "print(long_word[:3:-1])\n",
    "print(long_word[:-5:-1])\n",
    "print(long_word[-1:-5:-1])\n",
    "print()\n",
    "# print the letters spanning indexes 3 to 6 of long_word in Reverse\n",
    "print(long_word[6:2:-1])\n",
    "print(long_word[-2:-6:-1])\n"
   ]
  },
  {
   "cell_type": "markdown",
   "metadata": {},
   "source": [
    "<font color=#ff0000 size=5 face=\"黑体\"> 练习2：</font>"
   ]
  },
  {
   "cell_type": "code",
   "execution_count": 92,
   "metadata": {},
   "outputs": [
    {
     "name": "stdout",
     "output_type": "stream",
     "text": [
      "My own function: True\n",
      "Built-in function: True\n",
      "My own function: False\n",
      "Built-in function: False\n"
     ]
    }
   ],
   "source": [
    "\"\"\"\n",
    "write a function named isdigit, it takes a parameter input_string, \n",
    "it will return True if input_string is a numeric string, \n",
    "or return False if input_string is a non-numeric string.\n",
    "\"\"\"\n",
    "import string\n",
    "# you can import string package, using string.digits to create the ten numbers.\n",
    "string.digits = '0123456789'\n",
    " \n",
    "# your code is here\n",
    "import string\n",
    "def isdigit(input_string):\n",
    "    num=list(string.digits)\n",
    "    for i in range(len(input_string)):\n",
    "        if input_string[i] in num:\n",
    "            continue\n",
    "        else:\n",
    "            return False\n",
    "    return True\n",
    "\n",
    "\n",
    "\n",
    "\n",
    "# the following is used to test your function\n",
    "# and compare with the method isdigit\n",
    "myString1 = '54367'\n",
    "print(\"My own function:\",isdigit(myString1))  # test your function\n",
    "print(\"Built-in function:\",myString1.isdigit()) # test the method isdigit\n",
    "\n",
    "myString2 = 'as67'\n",
    "print(\"My own function:\",isdigit(myString2))\n",
    "print(\"Built-in function:\",myString2.isdigit())"
   ]
  },
  {
   "cell_type": "markdown",
   "metadata": {},
   "source": [
    "<font color=#ff0000 size=5 face=\"黑体\"> 练习3：</font>"
   ]
  },
  {
   "cell_type": "code",
   "execution_count": 157,
   "metadata": {
    "scrolled": true
   },
   "outputs": [
    {
     "name": "stdout",
     "output_type": "stream",
     "text": [
      "[]\n"
     ]
    }
   ],
   "source": [
    "# we can use find() to print the indices of all the appearance\n",
    "# of a particular string within another string.\n",
    "def findall(input_string,find_string):\n",
    "    currentLocation = 0\n",
    "    res=[]\n",
    "    i=0\n",
    "    while(currentLocation!=-1): \n",
    "        currentLocation=input_string.find(find_string,i)\n",
    "        res.append(currentLocation)\n",
    "        i=currentLocation+1\n",
    "    res.pop()\n",
    "    return res\n",
    "        \n",
    "        \n",
    "        \n",
    "    \n",
    "myString = \"ABCDEABCDEABCDEFGHIJFGHIJABCDEABCDEFGHIJ\"\n",
    "findString = \"CDE\"\n",
    "print(findall(myString,findString))\n",
    "# add your code here\n",
    "\n"
   ]
  },
  {
   "cell_type": "markdown",
   "metadata": {},
   "source": [
    "<font color=#ff0000 size=5 face=\"黑体\"> 作业1：</font>"
   ]
  },
  {
   "cell_type": "code",
   "execution_count": 173,
   "metadata": {},
   "outputs": [
    {
     "name": "stdout",
     "output_type": "stream",
     "text": [
      "ab -> ba\n",
      "abc -> bca\n",
      "railroad -> roadrail\n",
      "fireworks -> worksfire\n"
     ]
    }
   ],
   "source": [
    "\"\"\"\n",
    "Write a function called \"scramble\" that accepts a string\n",
    "as an argument and returns a new string. The new string\n",
    "should start with the last half of the original string\n",
    "and end with the first half.\n",
    "#\n",
    "If the length of the string is odd, split the string\n",
    "at the floor of the length / 2 (in other words, the second\n",
    "half is the longer half).\n",
    "\n",
    "#For example:\n",
    "  scramble(\"ab\") -> \"ba\"1\n",
    "  screamble(\"abc\") -> \"bca\"1\n",
    "  scramble(\"railroad\")) -> \"roadrail\"4\n",
    "  scramble(\"fireworks\")) -> \"worksfire\"4\n",
    "\"\"\"\n",
    "\n",
    "#Write your function here!\n",
    "def scramble(input_string):\n",
    "    p=int(len(input_string)/2)\n",
    "    res=input_string[p:]+input_string[:p]\n",
    "    return res\n",
    "\n",
    "\n",
    "#The following lines test your function. \n",
    "#feel free to change them to test things out.\n",
    "string1 = \"ab\"\n",
    "string2 = \"abc\"\n",
    "string3 = \"railroad\"\n",
    "string4 = \"fireworks\"\n",
    "print(string1 + \" -> \" + scramble(string1))\n",
    "print(string2 + \" -> \" + scramble(string2))\n",
    "print(string3 + \" -> \" + scramble(string3))\n",
    "print(string4 + \" -> \" + scramble(string4))"
   ]
  },
  {
   "cell_type": "markdown",
   "metadata": {},
   "source": [
    "<font color=#ff0000 size=5 face=\"黑体\"> 作业2：</font>"
   ]
  },
  {
   "cell_type": "code",
   "execution_count": 191,
   "metadata": {},
   "outputs": [
    {
     "name": "stdout",
     "output_type": "stream",
     "text": [
      "******\n",
      "*   *\n",
      "*  *\n",
      "* *\n",
      "**\n",
      "*\n"
     ]
    }
   ],
   "source": [
    "\"\"\"\n",
    "Write a program that asks the user for an input 'n'\n",
    "(assume that the user enters a positive integer)\n",
    "and prints only the boundaries of the triangle using\n",
    "asterisks \"*\" of height 'n'.\n",
    "For example if the user enters 6 then the height of\n",
    "the triangle should be 6 as shown below and there\n",
    "should be no spaces between the asterisks on the top line:\n",
    "******\n",
    "*   *\n",
    "*  *\n",
    "* *\n",
    "**\n",
    "*\n",
    "\"\"\"\n",
    "def drawtriangle(n):\n",
    "    print(n*'*')\n",
    "    for i in range(n-2,0,-1):\n",
    "        print('*'+(i-1)*' '+'*')\n",
    "    print('*')    \n",
    "drawtriangle(6)\n",
    "#Write your code here!\n"
   ]
  },
  {
   "cell_type": "code",
   "execution_count": null,
   "metadata": {},
   "outputs": [],
   "source": [
    "cyf\n"
   ]
  },
  {
   "cell_type": "code",
   "execution_count": null,
   "metadata": {},
   "outputs": [],
   "source": []
  },
  {
   "cell_type": "code",
   "execution_count": null,
   "metadata": {},
   "outputs": [],
   "source": []
  },
  {
   "cell_type": "code",
   "execution_count": null,
   "metadata": {},
   "outputs": [],
   "source": []
  },
  {
   "cell_type": "code",
   "execution_count": null,
   "metadata": {},
   "outputs": [],
   "source": []
  },
  {
   "cell_type": "code",
   "execution_count": null,
   "metadata": {},
   "outputs": [],
   "source": []
  },
  {
   "cell_type": "code",
   "execution_count": null,
   "metadata": {},
   "outputs": [],
   "source": []
  },
  {
   "cell_type": "code",
   "execution_count": null,
   "metadata": {},
   "outputs": [],
   "source": []
  }
 ],
 "metadata": {
  "kernelspec": {
   "display_name": "Python 3",
   "language": "python",
   "name": "python3"
  },
  "language_info": {
   "codemirror_mode": {
    "name": "ipython",
    "version": 3
   },
   "file_extension": ".py",
   "mimetype": "text/x-python",
   "name": "python",
   "nbconvert_exporter": "python",
   "pygments_lexer": "ipython3",
   "version": "3.7.1"
  }
 },
 "nbformat": 4,
 "nbformat_minor": 2
}
