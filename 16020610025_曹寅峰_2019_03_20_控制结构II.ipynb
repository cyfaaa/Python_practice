{
 "cells": [
  {
   "cell_type": "markdown",
   "metadata": {},
   "source": [
    "### <font color='#0000FF'>练习1：实现如何将成绩从百分制变换到等级制</font>\n",
    "百分制分数|等级\n",
    ":---|:---|:---\n",
    "90-100 | $A$\n",
    "80-89  | $B$\n",
    "70-79  | $C$\n",
    "60-69  | $D$\n",
    "59-0   | $E$"
   ]
  },
  {
   "cell_type": "code",
   "execution_count": 1,
   "metadata": {},
   "outputs": [
    {
     "name": "stdout",
     "output_type": "stream",
     "text": [
      "输入你的成绩89\n",
      "B\n"
     ]
    }
   ],
   "source": [
    "grade=float(input(\"输入你的成绩\"))\n",
    "res=''\n",
    "if grade>=90:\n",
    "    res='A'\n",
    "elif grade>=80:\n",
    "    res='B'\n",
    "elif grade>=70:\n",
    "    res='C'\n",
    "elif grade>=60:\n",
    "    res='D'\n",
    "else:\n",
    "    res='E'\n",
    "print(\"{}\".format(res))"
   ]
  },
  {
   "cell_type": "markdown",
   "metadata": {},
   "source": [
    "### <font color='#0000FF'>函数</font>\n",
    "- <font color='#ff0000'>内置函数(built-in functions)</font>\n",
    "- <font color='#ff00FF'>自定义函数</font>\n",
    "   * 基本语法：\n",
    "       * 函数头\n",
    "       * 函数体"
   ]
  },
  {
   "cell_type": "code",
   "execution_count": 2,
   "metadata": {},
   "outputs": [
    {
     "name": "stdout",
     "output_type": "stream",
     "text": [
      "You need Python.\n",
      "Please input your name: cyf\n",
      "Help on class int in module builtins:\n",
      "\n",
      "class int(object)\n",
      " |  int([x]) -> integer\n",
      " |  int(x, base=10) -> integer\n",
      " |  \n",
      " |  Convert a number or string to an integer, or return 0 if no arguments\n",
      " |  are given.  If x is a number, return x.__int__().  For floating point\n",
      " |  numbers, this truncates towards zero.\n",
      " |  \n",
      " |  If x is not a number or if base is given, then x must be a string,\n",
      " |  bytes, or bytearray instance representing an integer literal in the\n",
      " |  given base.  The literal can be preceded by '+' or '-' and be surrounded\n",
      " |  by whitespace.  The base defaults to 10.  Valid bases are 0 and 2-36.\n",
      " |  Base 0 means to interpret the base from the string as an integer literal.\n",
      " |  >>> int('0b100', base=0)\n",
      " |  4\n",
      " |  \n",
      " |  Methods defined here:\n",
      " |  \n",
      " |  __abs__(self, /)\n",
      " |      abs(self)\n",
      " |  \n",
      " |  __add__(self, value, /)\n",
      " |      Return self+value.\n",
      " |  \n",
      " |  __and__(self, value, /)\n",
      " |      Return self&value.\n",
      " |  \n",
      " |  __bool__(self, /)\n",
      " |      self != 0\n",
      " |  \n",
      " |  __ceil__(...)\n",
      " |      Ceiling of an Integral returns itself.\n",
      " |  \n",
      " |  __divmod__(self, value, /)\n",
      " |      Return divmod(self, value).\n",
      " |  \n",
      " |  __eq__(self, value, /)\n",
      " |      Return self==value.\n",
      " |  \n",
      " |  __float__(self, /)\n",
      " |      float(self)\n",
      " |  \n",
      " |  __floor__(...)\n",
      " |      Flooring an Integral returns itself.\n",
      " |  \n",
      " |  __floordiv__(self, value, /)\n",
      " |      Return self//value.\n",
      " |  \n",
      " |  __format__(self, format_spec, /)\n",
      " |      Default object formatter.\n",
      " |  \n",
      " |  __ge__(self, value, /)\n",
      " |      Return self>=value.\n",
      " |  \n",
      " |  __getattribute__(self, name, /)\n",
      " |      Return getattr(self, name).\n",
      " |  \n",
      " |  __getnewargs__(self, /)\n",
      " |  \n",
      " |  __gt__(self, value, /)\n",
      " |      Return self>value.\n",
      " |  \n",
      " |  __hash__(self, /)\n",
      " |      Return hash(self).\n",
      " |  \n",
      " |  __index__(self, /)\n",
      " |      Return self converted to an integer, if self is suitable for use as an index into a list.\n",
      " |  \n",
      " |  __int__(self, /)\n",
      " |      int(self)\n",
      " |  \n",
      " |  __invert__(self, /)\n",
      " |      ~self\n",
      " |  \n",
      " |  __le__(self, value, /)\n",
      " |      Return self<=value.\n",
      " |  \n",
      " |  __lshift__(self, value, /)\n",
      " |      Return self<<value.\n",
      " |  \n",
      " |  __lt__(self, value, /)\n",
      " |      Return self<value.\n",
      " |  \n",
      " |  __mod__(self, value, /)\n",
      " |      Return self%value.\n",
      " |  \n",
      " |  __mul__(self, value, /)\n",
      " |      Return self*value.\n",
      " |  \n",
      " |  __ne__(self, value, /)\n",
      " |      Return self!=value.\n",
      " |  \n",
      " |  __neg__(self, /)\n",
      " |      -self\n",
      " |  \n",
      " |  __or__(self, value, /)\n",
      " |      Return self|value.\n",
      " |  \n",
      " |  __pos__(self, /)\n",
      " |      +self\n",
      " |  \n",
      " |  __pow__(self, value, mod=None, /)\n",
      " |      Return pow(self, value, mod).\n",
      " |  \n",
      " |  __radd__(self, value, /)\n",
      " |      Return value+self.\n",
      " |  \n",
      " |  __rand__(self, value, /)\n",
      " |      Return value&self.\n",
      " |  \n",
      " |  __rdivmod__(self, value, /)\n",
      " |      Return divmod(value, self).\n",
      " |  \n",
      " |  __repr__(self, /)\n",
      " |      Return repr(self).\n",
      " |  \n",
      " |  __rfloordiv__(self, value, /)\n",
      " |      Return value//self.\n",
      " |  \n",
      " |  __rlshift__(self, value, /)\n",
      " |      Return value<<self.\n",
      " |  \n",
      " |  __rmod__(self, value, /)\n",
      " |      Return value%self.\n",
      " |  \n",
      " |  __rmul__(self, value, /)\n",
      " |      Return value*self.\n",
      " |  \n",
      " |  __ror__(self, value, /)\n",
      " |      Return value|self.\n",
      " |  \n",
      " |  __round__(...)\n",
      " |      Rounding an Integral returns itself.\n",
      " |      Rounding with an ndigits argument also returns an integer.\n",
      " |  \n",
      " |  __rpow__(self, value, mod=None, /)\n",
      " |      Return pow(value, self, mod).\n",
      " |  \n",
      " |  __rrshift__(self, value, /)\n",
      " |      Return value>>self.\n",
      " |  \n",
      " |  __rshift__(self, value, /)\n",
      " |      Return self>>value.\n",
      " |  \n",
      " |  __rsub__(self, value, /)\n",
      " |      Return value-self.\n",
      " |  \n",
      " |  __rtruediv__(self, value, /)\n",
      " |      Return value/self.\n",
      " |  \n",
      " |  __rxor__(self, value, /)\n",
      " |      Return value^self.\n",
      " |  \n",
      " |  __sizeof__(self, /)\n",
      " |      Returns size in memory, in bytes.\n",
      " |  \n",
      " |  __str__(self, /)\n",
      " |      Return str(self).\n",
      " |  \n",
      " |  __sub__(self, value, /)\n",
      " |      Return self-value.\n",
      " |  \n",
      " |  __truediv__(self, value, /)\n",
      " |      Return self/value.\n",
      " |  \n",
      " |  __trunc__(...)\n",
      " |      Truncating an Integral returns itself.\n",
      " |  \n",
      " |  __xor__(self, value, /)\n",
      " |      Return self^value.\n",
      " |  \n",
      " |  bit_length(self, /)\n",
      " |      Number of bits necessary to represent self in binary.\n",
      " |      \n",
      " |      >>> bin(37)\n",
      " |      '0b100101'\n",
      " |      >>> (37).bit_length()\n",
      " |      6\n",
      " |  \n",
      " |  conjugate(...)\n",
      " |      Returns self, the complex conjugate of any int.\n",
      " |  \n",
      " |  to_bytes(self, /, length, byteorder, *, signed=False)\n",
      " |      Return an array of bytes representing an integer.\n",
      " |      \n",
      " |      length\n",
      " |        Length of bytes object to use.  An OverflowError is raised if the\n",
      " |        integer is not representable with the given number of bytes.\n",
      " |      byteorder\n",
      " |        The byte order used to represent the integer.  If byteorder is 'big',\n",
      " |        the most significant byte is at the beginning of the byte array.  If\n",
      " |        byteorder is 'little', the most significant byte is at the end of the\n",
      " |        byte array.  To request the native byte order of the host system, use\n",
      " |        `sys.byteorder' as the byte order value.\n",
      " |      signed\n",
      " |        Determines whether two's complement is used to represent the integer.\n",
      " |        If signed is False and a negative integer is given, an OverflowError\n",
      " |        is raised.\n",
      " |  \n",
      " |  ----------------------------------------------------------------------\n",
      " |  Class methods defined here:\n",
      " |  \n",
      " |  from_bytes(bytes, byteorder, *, signed=False) from builtins.type\n",
      " |      Return the integer represented by the given array of bytes.\n",
      " |      \n",
      " |      bytes\n",
      " |        Holds the array of bytes to convert.  The argument must either\n",
      " |        support the buffer protocol or be an iterable object producing bytes.\n",
      " |        Bytes and bytearray are examples of built-in objects that support the\n",
      " |        buffer protocol.\n",
      " |      byteorder\n",
      " |        The byte order used to represent the integer.  If byteorder is 'big',\n",
      " |        the most significant byte is at the beginning of the byte array.  If\n",
      " |        byteorder is 'little', the most significant byte is at the end of the\n",
      " |        byte array.  To request the native byte order of the host system, use\n",
      " |        `sys.byteorder' as the byte order value.\n",
      " |      signed\n",
      " |        Indicates whether two's complement is used to represent the integer.\n",
      " |  \n",
      " |  ----------------------------------------------------------------------\n",
      " |  Static methods defined here:\n",
      " |  \n",
      " |  __new__(*args, **kwargs) from builtins.type\n",
      " |      Create and return a new object.  See help(type) for accurate signature.\n",
      " |  \n",
      " |  ----------------------------------------------------------------------\n",
      " |  Data descriptors defined here:\n",
      " |  \n",
      " |  denominator\n",
      " |      the denominator of a rational number in lowest terms\n",
      " |  \n",
      " |  imag\n",
      " |      the imaginary part of a complex number\n",
      " |  \n",
      " |  numerator\n",
      " |      the numerator of a rational number in lowest terms\n",
      " |  \n",
      " |  real\n",
      " |      the real part of a complex number\n",
      "\n"
     ]
    },
    {
     "data": {
      "text/plain": [
       "str"
      ]
     },
     "execution_count": 2,
     "metadata": {},
     "output_type": "execute_result"
    }
   ],
   "source": [
    "# 基本输出函数，默认输出到屏幕，相邻数据使用空格分隔，以换行符结束所有数据的输出\n",
    "print(\"You\",\"need\",\"Python.\")\n",
    "\n",
    "# 显示提示，接收键盘输入的内容，返回字符串\n",
    "name = input(\"Please input your name: \")\n",
    "\n",
    "# 返回与x等价的布尔值True或False；\n",
    "bool('5.0')\n",
    "\n",
    "# 把整数或字符串想转换为浮点数并返回；\n",
    "float('3.4')\n",
    "\n",
    "# 返回实数，分数或高精度实数的整数部分，或把d进制的字符串x转换为十进制返回，d默认为十进制\n",
    "int('10',2)\n",
    "\n",
    "# 把对象直接转换为字符串\n",
    "str(5)\n",
    "\n",
    "# 返回对象的帮助信息\n",
    "help(int)\n",
    "\n",
    "# 返回指定对象或模块的成员列表，如果不带参数，则返回当前作用域内所有标识符\n",
    "dir(__builtin__)\n",
    "\n",
    "# 测试对象是否属于指定类型的实例（如果有多个类型的话需要放到元组中）\n",
    "isinstance(3,int)\n",
    "\n",
    "# 返回对象包含的元素个数，适用于列表，元组，集合，字典，字符串以及range对象，不适用与具有惰性求值特点的生成器对象和map,zip等迭代对象\n",
    "len(\"python\")\n",
    "\n",
    "# range([start,]stop[,step]): 返回range对象，其中包含左闭右开区间[start,stop)内以step为步长的整数\n",
    "range(10,0,-2)\n",
    "\n",
    "# sum(x): 返回序列x中所有元素之和，允许指定起始值start,返回start+sum(x)\n",
    "sum([1,2,3,4,5])\n",
    "\n",
    "# 返回对象的类型\n",
    "type('python')"
   ]
  },
  {
   "cell_type": "markdown",
   "metadata": {},
   "source": [
    "### 分别运行以上每一个内置函数，并理解和掌握它们的用法\n"
   ]
  },
  {
   "cell_type": "code",
   "execution_count": 5,
   "metadata": {},
   "outputs": [
    {
     "data": {
      "text/plain": [
       "'2'"
      ]
     },
     "execution_count": 5,
     "metadata": {},
     "output_type": "execute_result"
    }
   ],
   "source": [
    "str(int('10',2))"
   ]
  },
  {
   "cell_type": "code",
   "execution_count": 4,
   "metadata": {},
   "outputs": [
    {
     "data": {
      "text/plain": [
       "30"
      ]
     },
     "execution_count": 4,
     "metadata": {},
     "output_type": "execute_result"
    }
   ],
   "source": [
    "sum(range(10,0,-2))"
   ]
  },
  {
   "cell_type": "code",
   "execution_count": 6,
   "metadata": {},
   "outputs": [
    {
     "data": {
      "text/plain": [
       "int"
      ]
     },
     "execution_count": 6,
     "metadata": {},
     "output_type": "execute_result"
    }
   ],
   "source": [
    "type(len('python'))"
   ]
  },
  {
   "cell_type": "code",
   "execution_count": 10,
   "metadata": {},
   "outputs": [],
   "source": [
    "def myTAs(firstTA,secondTA,thirdTA):\n",
    "    return \"{0}, {1}, and {2} are awesome!\".format(firstTA, secondTA, thirdTA)"
   ]
  },
  {
   "cell_type": "code",
   "execution_count": 11,
   "metadata": {},
   "outputs": [
    {
     "name": "stdout",
     "output_type": "stream",
     "text": [
      "a, bb, and ccc are awesome!\n"
     ]
    }
   ],
   "source": [
    "testFirstTA = 'a'\n",
    "testSecondTA ='bb' \n",
    "testThirdTA = 'ccc'\n",
    "print(myTAs(testFirstTA, testSecondTA, testThirdTA))"
   ]
  },
  {
   "cell_type": "markdown",
   "metadata": {},
   "source": [
    "## <font color='#0000FF'>函数参数</font>"
   ]
  },
  {
   "cell_type": "markdown",
   "metadata": {},
   "source": [
    "### <font color='#0000FF'>位置参数</font>"
   ]
  },
  {
   "cell_type": "code",
   "execution_count": 12,
   "metadata": {},
   "outputs": [],
   "source": [
    "def polynomial(x,y,z):\n",
    "    return 1 + 2*x + y*y + y*z"
   ]
  },
  {
   "cell_type": "code",
   "execution_count": 13,
   "metadata": {},
   "outputs": [
    {
     "name": "stdout",
     "output_type": "stream",
     "text": [
      "13\n"
     ]
    }
   ],
   "source": [
    "print(polynomial(1,2,3))"
   ]
  },
  {
   "cell_type": "markdown",
   "metadata": {},
   "source": [
    "### <font color='#0000FF'>默认值参数</font>"
   ]
  },
  {
   "cell_type": "code",
   "execution_count": 14,
   "metadata": {},
   "outputs": [],
   "source": [
    "def polynomial2(x,y,z=3):\n",
    "    return 1 + 2*x + y*y + y*z"
   ]
  },
  {
   "cell_type": "code",
   "execution_count": 15,
   "metadata": {},
   "outputs": [
    {
     "data": {
      "text/plain": [
       "13"
      ]
     },
     "execution_count": 15,
     "metadata": {},
     "output_type": "execute_result"
    }
   ],
   "source": [
    "polynomial2(1,2)"
   ]
  },
  {
   "cell_type": "code",
   "execution_count": 16,
   "metadata": {},
   "outputs": [
    {
     "data": {
      "text/plain": [
       "17"
      ]
     },
     "execution_count": 16,
     "metadata": {},
     "output_type": "execute_result"
    }
   ],
   "source": [
    "polynomial(1,2,5)"
   ]
  },
  {
   "cell_type": "markdown",
   "metadata": {},
   "source": [
    "### <font color='#0000FF'>关键字参数</font>"
   ]
  },
  {
   "cell_type": "code",
   "execution_count": 17,
   "metadata": {},
   "outputs": [
    {
     "name": "stdout",
     "output_type": "stream",
     "text": [
      "A B C\n"
     ]
    }
   ],
   "source": [
    "print(\"A\", \"B\", \"C\")"
   ]
  },
  {
   "cell_type": "code",
   "execution_count": 18,
   "metadata": {},
   "outputs": [
    {
     "name": "stdout",
     "output_type": "stream",
     "text": [
      "ABC"
     ]
    }
   ],
   "source": [
    "print(\"A\", \"B\", \"C\", sep=\"\", end=\"\")"
   ]
  },
  {
   "cell_type": "markdown",
   "metadata": {},
   "source": [
    "### <font color='#0000FF'>练习2：用函数来计算斐波那契数列中小于参数n的所有值</font>"
   ]
  },
  {
   "cell_type": "code",
   "execution_count": 53,
   "metadata": {},
   "outputs": [],
   "source": [
    "# define a function named Fibonacci\n",
    "# which takes an integer n as parameter\n",
    "# the function return the numbers less than n in Fibonacci sequence.\n",
    "# your code is here\n",
    "def Fibonacci(n):\n",
    "    res=[0,1]\n",
    "    if n==0 or n==1:\n",
    "        return [0]\n",
    "    last=0\n",
    "    while(last<n):\n",
    "        res.append(res[-1]+res[-2])\n",
    "        last=res[-1]\n",
    "    del res[-1]\n",
    "    return res\n",
    "    \n",
    "    \n",
    "    \n",
    "    \n"
   ]
  },
  {
   "cell_type": "code",
   "execution_count": 55,
   "metadata": {},
   "outputs": [
    {
     "name": "stdout",
     "output_type": "stream",
     "text": [
      "[0, 1, 1]\n"
     ]
    }
   ],
   "source": [
    "# 打印出斐波那契数列中小于200的所有值\n",
    "print(Fibonacci(2))"
   ]
  },
  {
   "cell_type": "markdown",
   "metadata": {},
   "source": [
    "### <font color='#0000FF'>练习3：用函数来实现如何将成绩从百分制变换到等级制</font>\n",
    "百分制分数|等级\n",
    ":---|:---|:---\n",
    "90-100 | $A$\n",
    "80-89  | $B$\n",
    "70-79  | $C$\n",
    "60-69  | $D$\n",
    "59-0   | $E$"
   ]
  },
  {
   "cell_type": "code",
   "execution_count": 39,
   "metadata": {},
   "outputs": [],
   "source": [
    "# define a function named grade_transform which takes score as parameter\n",
    "# the function return the rank of each score according to the above table\n",
    "def grade_transform(grade):\n",
    "    res=''\n",
    "    if grade>=90:\n",
    "        res='A'\n",
    "    elif grade>=80:\n",
    "        res='B'\n",
    "    elif grade>=70:\n",
    "        res='C'\n",
    "    elif grade>=60:\n",
    "        res='D'\n",
    "    else:\n",
    "        res='E'\n",
    "    print(\"{}\".format(res))\n"
   ]
  },
  {
   "cell_type": "code",
   "execution_count": 40,
   "metadata": {},
   "outputs": [
    {
     "name": "stdout",
     "output_type": "stream",
     "text": [
      "输入你的成绩53\n",
      "E\n"
     ]
    }
   ],
   "source": [
    "# use input to get the score and test your function\n",
    "grade_transform(float(input(\"输入你的成绩\")))\n"
   ]
  },
  {
   "cell_type": "markdown",
   "metadata": {},
   "source": [
    "### <font color='#0000FF'>异常处理</font>"
   ]
  },
  {
   "cell_type": "code",
   "execution_count": 41,
   "metadata": {},
   "outputs": [
    {
     "ename": "ValueError",
     "evalue": "invalid literal for int() with base 10: '5.0'",
     "output_type": "error",
     "traceback": [
      "\u001b[0;31m---------------------------------------------------------------------------\u001b[0m",
      "\u001b[0;31mValueError\u001b[0m                                Traceback (most recent call last)",
      "\u001b[0;32m<ipython-input-41-d5397f9f9df5>\u001b[0m in \u001b[0;36m<module>\u001b[0;34m\u001b[0m\n\u001b[0;32m----> 1\u001b[0;31m \u001b[0mprint\u001b[0m\u001b[0;34m(\u001b[0m\u001b[0mint\u001b[0m\u001b[0;34m(\u001b[0m\u001b[0;34m\"5.0\"\u001b[0m\u001b[0;34m)\u001b[0m\u001b[0;34m)\u001b[0m\u001b[0;34m\u001b[0m\u001b[0;34m\u001b[0m\u001b[0m\n\u001b[0m",
      "\u001b[0;31mValueError\u001b[0m: invalid literal for int() with base 10: '5.0'"
     ]
    }
   ],
   "source": [
    "print(int(\"5.0\"))"
   ]
  },
  {
   "cell_type": "code",
   "execution_count": 42,
   "metadata": {},
   "outputs": [
    {
     "name": "stdout",
     "output_type": "stream",
     "text": [
      "Converting myString to int...\n"
     ]
    },
    {
     "ename": "ValueError",
     "evalue": "invalid literal for int() with base 10: 'This string is not a number!'",
     "output_type": "error",
     "traceback": [
      "\u001b[0;31m---------------------------------------------------------------------------\u001b[0m",
      "\u001b[0;31mValueError\u001b[0m                                Traceback (most recent call last)",
      "\u001b[0;32m<ipython-input-42-54c5d6829a88>\u001b[0m in \u001b[0;36m<module>\u001b[0;34m\u001b[0m\n\u001b[1;32m      1\u001b[0m \u001b[0mmyString\u001b[0m \u001b[0;34m=\u001b[0m \u001b[0;34m\"This string is not a number!\"\u001b[0m\u001b[0;34m\u001b[0m\u001b[0;34m\u001b[0m\u001b[0m\n\u001b[1;32m      2\u001b[0m \u001b[0mprint\u001b[0m\u001b[0;34m(\u001b[0m\u001b[0;34m\"Converting myString to int...\"\u001b[0m\u001b[0;34m)\u001b[0m\u001b[0;34m\u001b[0m\u001b[0;34m\u001b[0m\u001b[0m\n\u001b[0;32m----> 3\u001b[0;31m \u001b[0mmyInt\u001b[0m \u001b[0;34m=\u001b[0m \u001b[0mint\u001b[0m\u001b[0;34m(\u001b[0m\u001b[0mmyString\u001b[0m\u001b[0;34m)\u001b[0m\u001b[0;34m\u001b[0m\u001b[0;34m\u001b[0m\u001b[0m\n\u001b[0m\u001b[1;32m      4\u001b[0m \u001b[0mprint\u001b[0m\u001b[0;34m(\u001b[0m\u001b[0mmyInt\u001b[0m\u001b[0;34m)\u001b[0m\u001b[0;34m\u001b[0m\u001b[0;34m\u001b[0m\u001b[0m\n\u001b[1;32m      5\u001b[0m \u001b[0mprint\u001b[0m\u001b[0;34m(\u001b[0m\u001b[0;34m\"Done!\"\u001b[0m\u001b[0;34m)\u001b[0m\u001b[0;34m\u001b[0m\u001b[0;34m\u001b[0m\u001b[0m\n",
      "\u001b[0;31mValueError\u001b[0m: invalid literal for int() with base 10: 'This string is not a number!'"
     ]
    }
   ],
   "source": [
    "myString = \"This string is not a number!\"\n",
    "print(\"Converting myString to int...\")\n",
    "myInt = int(myString)\n",
    "print(myInt)\n",
    "print(\"Done!\")"
   ]
  },
  {
   "cell_type": "markdown",
   "metadata": {},
   "source": [
    "### <font color=\"ff00ff\">try...except...</font>"
   ]
  },
  {
   "cell_type": "code",
   "execution_count": null,
   "metadata": {},
   "outputs": [],
   "source": [
    "myString = \"This string is not a number!\"\n",
    "try:\n",
    "    print(\"Converting myString to int...\")\n",
    "    myInt = int(myString)\n",
    "    print(myInt)\n",
    "except:\n",
    "    pass\n",
    "print(\"Done!\")"
   ]
  },
  {
   "cell_type": "code",
   "execution_count": null,
   "metadata": {},
   "outputs": [],
   "source": [
    "myString = \"This string is not a number!\"\n",
    "try:\n",
    "    print(\"Converting myString to int...\")\n",
    "    print(\"String #\" + 1 + \": \" + myString)\n",
    "    myInt = int(myString)\n",
    "    print(myInt)\n",
    "except:\n",
    "    print(\"Can't convert; myString not a number.\")\n",
    "print(\"Done!\")"
   ]
  },
  {
   "cell_type": "code",
   "execution_count": null,
   "metadata": {},
   "outputs": [],
   "source": [
    "myString = \"This string is not a number!\"\n",
    "try:\n",
    "    print(\"Converting myString to int...\")\n",
    "    print(\"String #\" + 1 + \": \" + myString)\n",
    "    myInt = int(myString)\n",
    "    print(myInt)\n",
    "except TypeError:\n",
    "    print(\"Can't convert; myString not a number.\")\n",
    "print(\"Done!\")"
   ]
  },
  {
   "cell_type": "code",
   "execution_count": null,
   "metadata": {},
   "outputs": [],
   "source": [
    "myString = \"This string is not a number!\"\n",
    "try:\n",
    "    print(\"Converting myString to int...\")\n",
    "    #print(\"String #\" + 1 + \": \" + myString)\n",
    "    myInt = int(myString)\n",
    "    print(myInt)\n",
    "except TypeError:\n",
    "    print(\"Can't convert; myString not a number.\")\n",
    "print(\"Done!\")"
   ]
  },
  {
   "cell_type": "markdown",
   "metadata": {},
   "source": [
    "### <font color=\"ff00ff\">带有多个except的异常处理结构</font>\n",
    "\n",
    "一旦try中的代码抛出异常，按照顺利依次检查与哪一个except子句匹配，如果某个except子句捕捉到了异常，其他的except子句将不会再尝试捕获异常"
   ]
  },
  {
   "cell_type": "code",
   "execution_count": null,
   "metadata": {},
   "outputs": [],
   "source": [
    "myString = \"This string is not a number!\"\n",
    "try:\n",
    "    print(\"Converting myString to int...\")\n",
    "    print(1/0) #\n",
    "    print(\"String #\" + 1 + \": \" + myString) #\n",
    "    myInt = int(myString) #\n",
    "    print(myInt)\n",
    "    print(1/0)\n",
    "# if an error occurs, check if it's a ValueError\n",
    "except ValueError as error:\n",
    "    print(error)\n",
    "# if an error occurs, check if it's a TypeError\n",
    "except TypeError as error:\n",
    "#    print(error)\n",
    "except ZeroDivisionError as error:\n",
    "    print(error)\n",
    "    \n",
    "print(\"Done!\")"
   ]
  },
  {
   "cell_type": "markdown",
   "metadata": {},
   "source": [
    "### <font color=\"ff00ff\">try...except...else...</font>"
   ]
  },
  {
   "cell_type": "code",
   "execution_count": null,
   "metadata": {},
   "outputs": [],
   "source": [
    "myString = \"1\"\n",
    "try:\n",
    "    print(\"Converting myString to int...\")\n",
    "    myInt = int(myString)\n",
    "    print(myInt)\n",
    "    print(1/0)\n",
    "# if an error occurs, check if it's a ValueError\n",
    "except (ValueError,TypeError) as error:\n",
    "    print(\"A ValueError or TypeError occurred.\")\n",
    "# if an error occurs, check if it's a TypeError\n",
    "except Exception as error:\n",
    "    print(\"Some other type of error occurred.\")\n",
    "else:\n",
    "    print(\"No errors occurred!\")\n",
    "print(\"Done!\")"
   ]
  },
  {
   "cell_type": "markdown",
   "metadata": {},
   "source": [
    "### <font color=\"ff00ff\">try...except...else...finally</font>"
   ]
  },
  {
   "cell_type": "code",
   "execution_count": null,
   "metadata": {},
   "outputs": [],
   "source": [
    "try:\n",
    "    #Open InputFile.txt in read-only mode\n",
    "    inputFile = open(\"NumberAndLetterFile.txt\", mode=\"r\")\n",
    "    try:\n",
    "        #For each line in the file\n",
    "        for line in inputFile:\n",
    "            #Print the line\n",
    "            print(int(line))\n",
    "    #Catch a ValueError\n",
    "    except ValueError:\n",
    "        print(\"A value error occurred!\")\n",
    "    else:\n",
    "        print(\"No errors occurred converting the file!\")\n",
    "    finally:\n",
    "        #Close the file\n",
    "        inputFile.close()\n",
    "#Catch an IOError\n",
    "except IOError as error:\n",
    "    #print(\"An error occurred reading the file!\")\n",
    "    print(error)"
   ]
  },
  {
   "cell_type": "markdown",
   "metadata": {},
   "source": [
    "###  <font color='#0000FF'> 作业1：判断一个数是否为素数</font>（尽量想出效率最高，最快速的算法）"
   ]
  },
  {
   "cell_type": "code",
   "execution_count": 59,
   "metadata": {},
   "outputs": [],
   "source": [
    "# define a function named is_prime\n",
    "# which takes an integer anum as parameter；\n",
    "# if anum is a prime, then return True; else return False;\n",
    "# your code is here\n",
    "def is_prime(n):\n",
    "    composite = {}\n",
    "    primes = [2]\n",
    "    for i in range(3, int(n ** 0.5) + 1, 2):\n",
    "        if i not in composite:\n",
    "            for j in range(i ** 2, n + 1, i): \n",
    "                composite[j] = 1\n",
    "    for k in range(3, n + 1, 2):\n",
    "        if k not in composite: \n",
    "            primes.append(k)\n",
    "\n",
    "    return primes\n"
   ]
  },
  {
   "cell_type": "code",
   "execution_count": 60,
   "metadata": {},
   "outputs": [
    {
     "name": "stdout",
     "output_type": "stream",
     "text": [
      "[2, 3, 5, 7, 11, 13, 17, 19, 23, 29, 31, 37, 41, 43, 47, 53, 59, 61, 67, 71, 73, 79, 83, 89, 97]\n"
     ]
    }
   ],
   "source": [
    "# 调用函数，输出100以内的所有素数\n",
    "print(is_prime(100))\n"
   ]
  },
  {
   "cell_type": "markdown",
   "metadata": {},
   "source": [
    "###  <font color='#0000FF'> 作业2：一个整数加上100是一个完全平方数，再加168又是一个完全平方数，请问该数是多少？"
   ]
  },
  {
   "cell_type": "code",
   "execution_count": 61,
   "metadata": {},
   "outputs": [
    {
     "name": "stdout",
     "output_type": "stream",
     "text": [
      "1581\n",
      "261\n",
      "21\n",
      "-99\n"
     ]
    }
   ],
   "source": [
    "for n in range(1,14):\n",
    "    y=(84.0/n)-(n/2.0);\n",
    "    if int(y)==y:\n",
    "        x=int(y*y-100);\n",
    "        print(x)\n",
    "    "
   ]
  },
  {
   "cell_type": "code",
   "execution_count": null,
   "metadata": {},
   "outputs": [],
   "source": []
  }
 ],
 "metadata": {
  "kernelspec": {
   "display_name": "Python 3",
   "language": "python",
   "name": "python3"
  },
  "language_info": {
   "codemirror_mode": {
    "name": "ipython",
    "version": 3
   },
   "file_extension": ".py",
   "mimetype": "text/x-python",
   "name": "python",
   "nbconvert_exporter": "python",
   "pygments_lexer": "ipython3",
   "version": "3.7.1"
  }
 },
 "nbformat": 4,
 "nbformat_minor": 2
}
