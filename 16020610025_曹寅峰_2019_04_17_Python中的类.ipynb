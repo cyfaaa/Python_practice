{
 "cells": [
  {
   "cell_type": "markdown",
   "metadata": {},
   "source": [
    "### <font color=\"0000ff\">类的定义和使用</font>"
   ]
  },
  {
   "cell_type": "code",
   "execution_count": 1,
   "metadata": {},
   "outputs": [
    {
     "name": "stdout",
     "output_type": "stream",
     "text": [
      "[no first name]\n",
      "[no last name]\n",
      "[no eye color]\n",
      "-1\n",
      "David\n"
     ]
    }
   ],
   "source": [
    "class Person(object):\n",
    "    def __init__(self):\n",
    "        self.first_name = \"[no first name]\"\n",
    "        self.last_name = \"[no last name]\"\n",
    "        self.eye_color = \"[no eye color]\"\n",
    "        self.age = -1\n",
    "\n",
    "\n",
    "myPerson = Person()   # 实例化对象\n",
    "print(myPerson.first_name)\n",
    "print(myPerson.last_name)\n",
    "print(myPerson.eye_color)\n",
    "print(myPerson.age)\n",
    "\n",
    "myPerson.first_name = 'David'\n",
    "print(myPerson.first_name)"
   ]
  },
  {
   "cell_type": "code",
   "execution_count": 2,
   "metadata": {},
   "outputs": [],
   "source": [
    "class Name:\n",
    "    def __init__(self):\n",
    "        self.first_name = \"[no first name]\"\n",
    "        self.last_name = \"[no last name]\""
   ]
  },
  {
   "cell_type": "code",
   "execution_count": 3,
   "metadata": {},
   "outputs": [],
   "source": [
    "class Person:\n",
    "    def __init__(self):\n",
    "        self.name = Name()\n",
    "        self.eye_color = \"[no eye color]\"\n",
    "        self.age = -1"
   ]
  },
  {
   "cell_type": "code",
   "execution_count": 4,
   "metadata": {},
   "outputs": [
    {
     "name": "stdout",
     "output_type": "stream",
     "text": [
      "<__main__.Name object at 0x106f235c0>\n"
     ]
    }
   ],
   "source": [
    "david = Person()\n",
    "print(david.name)"
   ]
  },
  {
   "cell_type": "code",
   "execution_count": 5,
   "metadata": {},
   "outputs": [
    {
     "ename": "AttributeError",
     "evalue": "'Person' object has no attribute 'first_name'",
     "output_type": "error",
     "traceback": [
      "\u001b[0;31m---------------------------------------------------------------------------\u001b[0m",
      "\u001b[0;31mAttributeError\u001b[0m                            Traceback (most recent call last)",
      "\u001b[0;32m<ipython-input-5-c2602342d547>\u001b[0m in \u001b[0;36m<module>\u001b[0;34m\u001b[0m\n\u001b[0;32m----> 1\u001b[0;31m \u001b[0mprint\u001b[0m\u001b[0;34m(\u001b[0m\u001b[0mdavid\u001b[0m\u001b[0;34m.\u001b[0m\u001b[0mfirst_name\u001b[0m\u001b[0;34m)\u001b[0m\u001b[0;34m\u001b[0m\u001b[0;34m\u001b[0m\u001b[0m\n\u001b[0m",
      "\u001b[0;31mAttributeError\u001b[0m: 'Person' object has no attribute 'first_name'"
     ]
    }
   ],
   "source": [
    "print(david.first_name)"
   ]
  },
  {
   "cell_type": "markdown",
   "metadata": {},
   "source": [
    "### <font color=\"ff00ff\">练习1</font>"
   ]
  },
  {
   "cell_type": "code",
   "execution_count": 6,
   "metadata": {},
   "outputs": [
    {
     "name": "stdout",
     "output_type": "stream",
     "text": [
      "red\n",
      "128\n"
     ]
    }
   ],
   "source": [
    "# 创建一个类名为 Phone;\n",
    "# 在构造方法中，创建两个数据成员分别为 storage 和 color;\n",
    "# storage 的值为 128;\n",
    "# color 的值为 red\n",
    "# your code is here\n",
    "class Phone(object):\n",
    "    def __init__(self):\n",
    "        self.storage=128\n",
    "        self.color='red'\n",
    "new_phone=Phone()\n",
    "print(new_phone.color)\n",
    "print(new_phone.storage)\n",
    "    \n",
    "    \n",
    "\n",
    "\n",
    "# 创建一个实例名为 new_phone\n",
    "# print the value of the storage and color\n",
    "\n"
   ]
  },
  {
   "cell_type": "markdown",
   "metadata": {},
   "source": [
    "### <font color=\"ff00ff\">练习2</font>"
   ]
  },
  {
   "cell_type": "code",
   "execution_count": 7,
   "metadata": {},
   "outputs": [
    {
     "name": "stdout",
     "output_type": "stream",
     "text": [
      "False\n",
      "101\n"
     ]
    }
   ],
   "source": [
    "# Write a class named \"Number\" with one attribute called  \"value\" which defaults to 0\n",
    "# and another attribute called \"even\" which defaults to True.\n",
    "# Next, create an instance of this class and assign it to a variable called \"number_instance\".\n",
    "# Then, set the value attribute to 101 and the even attribute to False.\n",
    "# Finally, print the value of the two attribute\n",
    "# Write your code here!\n",
    "class Number(object):\n",
    "    def __init__(self):\n",
    "        self.Value=0\n",
    "        self.even=True\n",
    "number_instance=Number()\n",
    "number_instance.Value=101\n",
    "number_instance.even=False\n",
    "print(number_instance.even)\n",
    "print(number_instance.Value)\n",
    "\n",
    "\n"
   ]
  },
  {
   "cell_type": "markdown",
   "metadata": {},
   "source": [
    "### <font color=\"0000ff\">Object vs Dictionary</font>"
   ]
  },
  {
   "cell_type": "code",
   "execution_count": 11,
   "metadata": {},
   "outputs": [],
   "source": [
    "# Define the class Name\n",
    "class Name:\n",
    "    def __init__(self):\n",
    "        self.first_name = \"[no first name]\"\n",
    "        self.last_name = \"[no last name]\"\n",
    "\n",
    "# Define instances of Name\n",
    "myNameInst = Name()\n",
    "myNameInst.first_name = \"David\"\n",
    "myNameInst.last_name = \"Joyner\""
   ]
  },
  {
   "cell_type": "code",
   "execution_count": 12,
   "metadata": {},
   "outputs": [],
   "source": [
    "# Define dictionaries with keys firstname and lastname\n",
    "myNameDict = {\"first_name\": \"David\",\n",
    "              \"last_name\": \"Joyner\"}"
   ]
  },
  {
   "cell_type": "code",
   "execution_count": 13,
   "metadata": {},
   "outputs": [
    {
     "name": "stdout",
     "output_type": "stream",
     "text": [
      "Dictionary: David\n",
      "Instance: David\n"
     ]
    }
   ],
   "source": [
    "print(\"Dictionary: \" + myNameDict[\"first_name\"])\n",
    "print(\"Instance: \" + myNameInst.first_name)"
   ]
  },
  {
   "cell_type": "code",
   "execution_count": 14,
   "metadata": {},
   "outputs": [
    {
     "name": "stdout",
     "output_type": "stream",
     "text": [
      "person 1:\n",
      "[no first name]\n",
      "[no last name]\n",
      "\n",
      "person 2:\n",
      "David\n",
      "[no last name]\n",
      "\n",
      "person 3:\n",
      "lorraine\n",
      "[no last name]\n",
      "\n",
      "person 4:\n",
      "lorraine\n",
      "wang\n"
     ]
    }
   ],
   "source": [
    "class Person:\n",
    "    # Create a new instance of Person\n",
    "    def __init__(self, first_name=\"[no first name]\", last_name=\"[no last name]\"):\n",
    "        self.first_name = first_name\n",
    "        self.last_name = last_name\n",
    "        self.eye_color = \"[no eye color]\"\n",
    "        self.age = -1\n",
    "\n",
    "print(\"person 1:\")\n",
    "myPerson1 = Person()\n",
    "print(myPerson1.first_name)\n",
    "print(myPerson1.last_name)\n",
    "print()\n",
    "\n",
    "print(\"person 2:\")\n",
    "myPerson2 = Person(first_name=\"David\")\n",
    "print(myPerson2.first_name)\n",
    "print(myPerson2.last_name)\n",
    "print()\n",
    "\n",
    "print(\"person 3:\")\n",
    "myPerson3 = Person(\"lorraine\")\n",
    "print(myPerson3.first_name)\n",
    "print(myPerson3.last_name)\n",
    "print()\n",
    "\n",
    "print(\"person 4:\")\n",
    "myPerson3 = Person(\"lorraine\",\"wang\")\n",
    "print(myPerson3.first_name)\n",
    "print(myPerson3.last_name)"
   ]
  },
  {
   "cell_type": "markdown",
   "metadata": {},
   "source": [
    "### <font color=\"ff00ff\">练习3</font>"
   ]
  },
  {
   "cell_type": "code",
   "execution_count": 15,
   "metadata": {},
   "outputs": [
    {
     "name": "stdout",
     "output_type": "stream",
     "text": [
      "False\n",
      "101\n"
     ]
    }
   ],
   "source": [
    "# 创建一个类名为 Number\n",
    "# 类的每个实例具有两个数据属性value和even\n",
    "# 通过构造函数给数据成员value和even赋初值\n",
    "\n",
    "# 然后创建类的一个实例名为 number_instance\n",
    "# 实参value和even的值分别为101和False\n",
    "\n",
    "#Write your code here!\n",
    "class Number(object):\n",
    "    def __init__(self):\n",
    "        self.Value=0\n",
    "        self.even=True\n",
    "number_instance=Number()\n",
    "number_instance.Value=101\n",
    "number_instance.even=False\n",
    "print(number_instance.even)\n",
    "print(number_instance.Value)\n",
    "\n"
   ]
  },
  {
   "cell_type": "code",
   "execution_count": 16,
   "metadata": {},
   "outputs": [
    {
     "name": "stdout",
     "output_type": "stream",
     "text": [
      "20.0\n"
     ]
    }
   ],
   "source": [
    "class BankAccount:\n",
    "    def __init__(self, name, balance=0.0):\n",
    "        self.log(\"Account created!\")\n",
    "        self.name = name\n",
    "        self.balance = balance\n",
    "\n",
    "    def getBalance(self):\n",
    "        self.log(\"Balance checked at \" + str(self.balance))\n",
    "        return self.balance\n",
    "\n",
    "    def setBalance(self, newBalance):\n",
    "        self.log(\"Balance changed to \" + str(newBalance))\n",
    "        self.balance = newBalance\n",
    "\n",
    "    def log(self, message):\n",
    "        myLog = open(\"Log0.txt\", \"a\")\n",
    "        print(message, file=myLog)\n",
    "        myLog.close()\n",
    "\n",
    "\n",
    "myBankAccount = BankAccount(\"David Joyner\")\n",
    "myBankAccount.setBalance(20.0)\n",
    "print(myBankAccount.getBalance())"
   ]
  },
  {
   "cell_type": "code",
   "execution_count": 17,
   "metadata": {},
   "outputs": [
    {
     "name": "stdout",
     "output_type": "stream",
     "text": [
      "20.0\n",
      "10.0\n"
     ]
    }
   ],
   "source": [
    "class BankAccount:\n",
    "    def __init__(self, name, balance=0.0):\n",
    "        self.log(\"Account created!\")\n",
    "        self.name = name\n",
    "        self.balance = balance\n",
    "\n",
    "    def getBalance(self):\n",
    "        self.log(\"Balance checked at \" + str(self.balance))\n",
    "        return self.balance\n",
    "\n",
    "    def deposit(self, amount):\n",
    "        self.balance += amount\n",
    "        self.log(\"+\" + str(amount) + \": \" + str(self.balance))\n",
    "\n",
    "    def withdraw(self, amount):\n",
    "        self.balance -= amount\n",
    "        self.log(\"-\" + str(amount) + \": \" + str(self.balance))\n",
    "\n",
    "    def log(self, message):\n",
    "        myLog = open(\"Log1.txt\", \"a\")\n",
    "        print(message, file=myLog)\n",
    "        myLog.close()\n",
    "\n",
    "\n",
    "myBankAccount = BankAccount(\"David Joyner\")\n",
    "myBankAccount.deposit(20.0)\n",
    "print(myBankAccount.getBalance())\n",
    "myBankAccount.withdraw(10.0)\n",
    "print(myBankAccount.getBalance())"
   ]
  },
  {
   "cell_type": "markdown",
   "metadata": {},
   "source": [
    "### <font color=\"ff00ff\">练习4</font>"
   ]
  },
  {
   "cell_type": "code",
   "execution_count": 22,
   "metadata": {},
   "outputs": [
    {
     "name": "stdout",
     "output_type": "stream",
     "text": [
      "1\n",
      "2\n",
      "3\n",
      "5\n",
      "8\n"
     ]
    }
   ],
   "source": [
    "\"\"\"\n",
    "The Fibonacci sequence is a number sequence where each\n",
    "number is the sum of the previous two numbers. The first\n",
    "two numbers are defined as 0 and 1, so the third number is\n",
    "1 (0 + 1 = 1), the fourth number is 2 (1 + 1 = 2), the\n",
    "fifth number is 3 (1 + 2 = 3), the sixth number is 5\n",
    "(2 + 3 = 5), and so on.\n",
    "#\n",
    "Below we've started a class called FibSeq. At any time,\n",
    "FibSeq holds two values from the Fibonacci sequence:\n",
    "back1 and back2.\n",
    "#\n",
    "Create a new method inside FibSeq called next_number. The\n",
    "next_number method should:\n",
    "\n",
    "# - Calculate and return the next number in the sequence,\n",
    "#   based on the previous 2.\n",
    "# - Update back2 with the former value of back1, and update\n",
    "#   back1 with the new next item in the sequence.\n",
    "\n",
    "This means that consecutive calls to next_number should\n",
    "yield each consecutive number from the Fibonacci sequence.\n",
    "Calling next_number 5 times would print 1, 2, 3, 5, and 8.\n",
    "\"\"\"\n",
    "# your class is here \n",
    "class FibSeq:\n",
    "    def __init__(self, back1, back2):\n",
    "        self.back1 = back1\n",
    "        self.back2 = back2\n",
    "    def next_number(self):\n",
    "        nextnum = self.back1+self.back2\n",
    "        self.back2 = self.back1\n",
    "        self.back1 = nextnum\n",
    "        return nextnum\n",
    "Fibonacci=FibSeq(1,0)\n",
    "for i in range(0,5):\n",
    "    print(Fibonacci.next_number())\n",
    "\n",
    "#The code below will test your method.\n",
    "# As written, it should print 1, 2, 3, 5, and 8.\n",
    "\n",
    "\n"
   ]
  },
  {
   "cell_type": "markdown",
   "metadata": {},
   "source": [
    "### instance assignment"
   ]
  },
  {
   "cell_type": "code",
   "execution_count": 23,
   "metadata": {},
   "outputs": [],
   "source": [
    "class Person:\n",
    "    def __init__(self, name, eye_color, age):\n",
    "        self.name = name\n",
    "        self.eye_color = eye_color\n",
    "        self.age = age\n",
    "\n",
    "\n",
    "class Name:\n",
    "    def __init__(self, first_name, last_name):\n",
    "        self.first_name = first_name\n",
    "        self.last_name = last_name"
   ]
  },
  {
   "cell_type": "code",
   "execution_count": 24,
   "metadata": {},
   "outputs": [
    {
     "name": "stdout",
     "output_type": "stream",
     "text": [
      "myPerson1's eyecolor: blue\n",
      "myPerson2's eyecolor: blue\n"
     ]
    }
   ],
   "source": [
    "myPerson1 = Person(Name(\"David\", \"Joyner\"), \"brown\", 30)\n",
    "myPerson2 = myPerson1\n",
    "myPerson2.eyecolor = \"blue\"\n",
    "print(\"myPerson1's eyecolor: \" + myPerson1.eyecolor)\n",
    "print(\"myPerson2's eyecolor: \" + myPerson2.eyecolor)"
   ]
  },
  {
   "cell_type": "code",
   "execution_count": 25,
   "metadata": {},
   "outputs": [
    {
     "name": "stdout",
     "output_type": "stream",
     "text": [
      "myPerson1 eye color: brown\n",
      "myPerson2 eye color: blue\n",
      "myPerson1 first name: lorraine\n",
      "myPerson2 first name: lorraine\n"
     ]
    }
   ],
   "source": [
    "myPerson1 = Person(Name(\"David\", \"Joyner\"), \"brown\", 30)\n",
    "myPerson2 = Person(myPerson1.name, myPerson1.eye_color, myPerson1.age)\n",
    "\n",
    "myPerson2.eye_color = \"blue\"\n",
    "print(\"myPerson1 eye color:\",myPerson1.eye_color)  # brown\n",
    "print(\"myPerson2 eye color:\",myPerson2.eye_color) # blue\n",
    "\n",
    "myPerson2.name.first_name = \"lorraine\"\n",
    "print(\"myPerson1 first name:\",myPerson1.name.first_name)  #\n",
    "print(\"myPerson2 first name:\",myPerson2.name.first_name)"
   ]
  },
  {
   "cell_type": "code",
   "execution_count": 26,
   "metadata": {},
   "outputs": [
    {
     "name": "stdout",
     "output_type": "stream",
     "text": [
      "myPerson1 eye color: brown\n",
      "myPerson2 eye color: blue\n",
      "myPerson1 first name: David\n",
      "myPerson2 first name: lorraine\n"
     ]
    }
   ],
   "source": [
    "myPerson1 = Person(Name(\"David\", \"Joyner\"), \"brown\", 30)\n",
    "myPerson2 = Person(Name(myPerson1.name.first_name,myPerson1.name.last_name),\n",
    "                   myPerson1.eye_color,\n",
    "                   myPerson1.age)\n",
    "\n",
    "myPerson2.eye_color = \"blue\"\n",
    "print(\"myPerson1 eye color:\",myPerson1.eye_color)\n",
    "print(\"myPerson2 eye color:\",myPerson2.eye_color)\n",
    "\n",
    "myPerson2.name.first_name = \"lorraine\"\n",
    "print(\"myPerson1 first name:\",myPerson1.name.first_name)\n",
    "print(\"myPerson2 first name:\",myPerson2.name.first_name)"
   ]
  },
  {
   "cell_type": "code",
   "execution_count": 27,
   "metadata": {},
   "outputs": [],
   "source": [
    "class Person:\n",
    "    def __init__(self, name, eye_color, age):\n",
    "        self.name = name\n",
    "        self.eye_color = eye_color\n",
    "        self.age = age\n",
    "\n",
    "class Name:\n",
    "    def __init__(self, first_name, last_name):\n",
    "        self.first_name = first_name\n",
    "        self.last_name = last_name"
   ]
  },
  {
   "cell_type": "code",
   "execution_count": 28,
   "metadata": {},
   "outputs": [],
   "source": [
    "def capitalizeName(name):\n",
    "    name.first_name = name.first_name.upper()\n",
    "    name.last_name = name.last_name.upper()"
   ]
  },
  {
   "cell_type": "code",
   "execution_count": 29,
   "metadata": {},
   "outputs": [
    {
     "name": "stdout",
     "output_type": "stream",
     "text": [
      "DAVID\n",
      "JOYNER\n"
     ]
    }
   ],
   "source": [
    "myPerson = Person(Name(\"David\", \"Joyner\"), \"brown\", 30)\n",
    "capitalizeName(myPerson.name)\n",
    "print(myPerson.name.first_name)\n",
    "print(myPerson.name.last_name)"
   ]
  },
  {
   "cell_type": "markdown",
   "metadata": {},
   "source": [
    "### <font color=\"0000ff\">继承</font>"
   ]
  },
  {
   "cell_type": "code",
   "execution_count": 30,
   "metadata": {},
   "outputs": [],
   "source": [
    "class A(object):\n",
    "    def __init__(self):\n",
    "        self.a = 1\n",
    "\n",
    "    def x(self):\n",
    "        print(\"A.x\")\n",
    "\n",
    "    def y(self):\n",
    "        print(\"A.y\")\n",
    "\n",
    "    def z(self):\n",
    "        print(\"A.z\")"
   ]
  },
  {
   "cell_type": "code",
   "execution_count": 31,
   "metadata": {},
   "outputs": [],
   "source": [
    "class B(A):\n",
    "    def __init__(self):\n",
    "        A.__init__(self)\n",
    "        self.a = 2\n",
    "        self.b = 3\n",
    "\n",
    "    def y(self):\n",
    "        print(\"B.y\")\n",
    "\n",
    "    def z(self):\n",
    "        print(\"B.z\")"
   ]
  },
  {
   "cell_type": "code",
   "execution_count": 32,
   "metadata": {},
   "outputs": [],
   "source": [
    "class C(object):\n",
    "    def __init__(self):\n",
    "        self.a = 4\n",
    "        self.c = 5\n",
    "\n",
    "    def y(self):\n",
    "        print(\"C.y\")\n",
    "\n",
    "    def z(self):\n",
    "        print(\"C.z\")"
   ]
  },
  {
   "cell_type": "code",
   "execution_count": 33,
   "metadata": {},
   "outputs": [],
   "source": [
    "class D(C, B):\n",
    "    def __init__(self):\n",
    "        C.__init__(self)\n",
    "        B.__init__(self)\n",
    "        self.d = 6\n",
    "\n",
    "    def z(self):\n",
    "        print(\"D.z\")"
   ]
  },
  {
   "cell_type": "code",
   "execution_count": 34,
   "metadata": {},
   "outputs": [
    {
     "name": "stdout",
     "output_type": "stream",
     "text": [
      "obj.a: 2\n",
      "obj.b: 3\n",
      "obj.c: 5\n",
      "obj.d: 6\n"
     ]
    }
   ],
   "source": [
    "obj = D()\n",
    "\n",
    "print(\"obj.a:\",obj.a)\n",
    "print(\"obj.b:\",obj.b)\n",
    "print(\"obj.c:\",obj.c)\n",
    "print(\"obj.d:\",obj.d)"
   ]
  },
  {
   "cell_type": "code",
   "execution_count": 35,
   "metadata": {},
   "outputs": [
    {
     "name": "stdout",
     "output_type": "stream",
     "text": [
      "A.x\n"
     ]
    }
   ],
   "source": [
    "obj.x()"
   ]
  },
  {
   "cell_type": "code",
   "execution_count": 36,
   "metadata": {},
   "outputs": [
    {
     "name": "stdout",
     "output_type": "stream",
     "text": [
      "C.y\n"
     ]
    }
   ],
   "source": [
    "obj.y()"
   ]
  },
  {
   "cell_type": "code",
   "execution_count": 37,
   "metadata": {},
   "outputs": [
    {
     "name": "stdout",
     "output_type": "stream",
     "text": [
      "D.z\n"
     ]
    }
   ],
   "source": [
    "obj.z()"
   ]
  },
  {
   "cell_type": "markdown",
   "metadata": {},
   "source": [
    "### <font color=\"0000ff\">作业1：</font>"
   ]
  },
  {
   "cell_type": "code",
   "execution_count": 40,
   "metadata": {},
   "outputs": [],
   "source": [
    "\"\"\"\n",
    "Below are the two class definitions: Artist and Song.\n",
    "Write a function called \"get_song_string\". It should accept\n",
    "one argument which will be a Song object. It should return\n",
    "a string in the following format:\n",
    "\n",
    " \"<song name>\" - <artist name> (<song year>)\n",
    " e.g:\n",
    "\"You Belong With Me\" - Taylor Swift (2008)\n",
    "\n",
    "The quotation marks around the song title should be *part*\n",
    "of the string.\n",
    "\n",
    "Hint: You're writing a function, not a method. That means\n",
    "the function get_song_string should not be inside either\n",
    "of these classes.\n",
    "\"\"\"\n",
    "\n",
    "\n",
    "class Artist:\n",
    "    def __init__(self, name, label):\n",
    "        self.name = name\n",
    "        self.label = label\n",
    "\n",
    "\n",
    "class Song:\n",
    "    def __init__(self, name, album, year, artist):\n",
    "        self.name = name\n",
    "        self.album = album\n",
    "        self.year = year\n",
    "        self.artist = artist\n",
    "\n",
    "# Write your code here!\n",
    "def get_song_string(song):\n",
    "    return \"\\\"\"+song.name+\"\\\" - \"+song.artist.name+\" (\"+str(song.year)+\")\""
   ]
  },
  {
   "cell_type": "code",
   "execution_count": 41,
   "metadata": {},
   "outputs": [
    {
     "name": "stdout",
     "output_type": "stream",
     "text": [
      "\"You Belong With Me\" - Taylor Swift (2008)\n"
     ]
    }
   ],
   "source": [
    "# The code below will test your function,\n",
    "# so feel free to modify it.\n",
    "newArtist = Artist(\"Taylor Swift\", \"Big Machine Records, LLC\")\n",
    "newSong = Song(\"You Belong With Me\", \"Fearless\", 2008, newArtist)\n",
    "print(get_song_string(newSong))"
   ]
  },
  {
   "cell_type": "markdown",
   "metadata": {},
   "source": [
    "### <font color=\"0000ff\">作业2：</font>"
   ]
  },
  {
   "cell_type": "code",
   "execution_count": 46,
   "metadata": {},
   "outputs": [],
   "source": [
    "\"\"\"\n",
    "Rewrite the following class so that it uses getters and\n",
    "setters for all three variables (title, description,completed).\n",
    "The getters should be called: getTitle, getDescription, getCompleted.\n",
    "The setters should be called: setTitle, setDescription, setCompleted.\n",
    "\n",
    "Whenever a getter is called, the method should print \"<attribute name> accessed\".\n",
    "For example, when calling getTitle(), the program should print \"title accessed\".\n",
    "\n",
    "Whenever a setter is called, the method should print \"<attribute name> changed\".\n",
    "For example, when calling the method setCompleted(True), the program should print\n",
    "\"completed changed\".\n",
    "\n",
    "In addition, the setter should check to make sure that the new value is the correct type:\n",
    "title and description should always be of type str, and completed should always be of type bool.\n",
    "If the value is not the right type, print \"invalid value\" in addition to \"<attribute name> changed\",\n",
    "and set the value of the corresponding attribute to None (the keyword, not the string \"None\").\n",
    "\n",
    "Note that when assigning variables their initial values inside the constructor,\n",
    "you should use the getters and setters, not modify the variables directly.\n",
    "\n",
    "To summarize (and give a to-do list):\n",
    "# - Create getters and setters for each variable.\n",
    "# - Print a log statement when the getters and setters are called.\n",
    "# - Check the type of the new value inside the setters,\n",
    "#   and print an error if it's the wrong type.\n",
    "# - Modify the constructor body to use the getters and/or\n",
    "#   setters instead of assigning values directly.\n",
    "\n",
    "See the bottom of the code for hints!\n",
    "\"\"\"\n",
    "\n",
    "class TodoItem:\n",
    "    def __init__(self, title, description, completed=False):\n",
    "        # change the body of the constructor\n",
    "        self.title = title\n",
    "        self.description = description\n",
    "        self.completed = completed\n",
    "        \n",
    "    # add three getter methods \n",
    "    def getTitle(self):\n",
    "        print(\"title accessed\")\n",
    "        return self.title\n",
    "    \n",
    "    def getDescription(self):\n",
    "        print(\"description accessed\")\n",
    "        return self.description\n",
    "    \n",
    "    def getCompleted(self):\n",
    "        print(\"completed accessed\")\n",
    "        return self.completed\n",
    "    \n",
    "    def setTitle(self, new_title):\n",
    "        self.title = new_title\n",
    "        print(\"title changed\")\n",
    "        if type(self.title)!=str:\n",
    "            self.title = None\n",
    "            print(\"invalid value\")\n",
    "            \n",
    "            \n",
    "    def setDescription(self, new_description):\n",
    "        self.description = new_description\n",
    "        print(\"description changed\")\n",
    "        if type(self.description)!=str:\n",
    "            self.description = None\n",
    "            print(\"invalid value\")\n",
    "            \n",
    "            \n",
    "    def setCompleted(self, new_completed):\n",
    "        self.completed = new_completed\n",
    "        print(\"completed changed\")\n",
    "        if type(self.completed)!=bool:\n",
    "            self.completed = None\n",
    "            print(\"invalid value\")\n",
    "            \n",
    "    \n",
    "    \n",
    "    \n",
    "\n",
    "\n",
    "#Hint 1: You can check to see if a variable is a string by\n",
    "#checking the logical expression type(var) == str, where\n",
    "#var is the variable you're checking. For integers, use\n",
    "#int instead of str. For floats, use float. For booleans,\n",
    "#use bool.\n",
    "#\n",
    "#Hint 2: Remember to put self before any instance variables\n",
    "#or methods you're trying to access. For example, to access\n",
    "#the method setTitle from within the constructor, you would\n",
    "#need to write self.setTitle()."
   ]
  },
  {
   "cell_type": "markdown",
   "metadata": {},
   "source": [
    "###  test the class and methods"
   ]
  },
  {
   "cell_type": "code",
   "execution_count": 47,
   "metadata": {},
   "outputs": [
    {
     "name": "stdout",
     "output_type": "stream",
     "text": [
      "title accessed\n",
      "title: homework\n",
      "\n",
      "description accessed\n",
      "description: Python\n",
      "\n",
      "completed accessed\n",
      "completed: False\n"
     ]
    }
   ],
   "source": [
    "things = TodoItem(\"homework\",\"Python\")\n",
    "print(\"title:\",things.getTitle())\n",
    "print()\n",
    "\n",
    "print(\"description:\",things.getDescription())\n",
    "print()\n",
    "\n",
    "print(\"completed:\",things.getCompleted())"
   ]
  },
  {
   "cell_type": "code",
   "execution_count": 48,
   "metadata": {},
   "outputs": [
    {
     "name": "stdout",
     "output_type": "stream",
     "text": [
      "title accessed\n",
      "title: 5\n",
      "\n",
      "description accessed\n",
      "description: Python\n",
      "\n",
      "completed accessed\n",
      "completed: False\n"
     ]
    }
   ],
   "source": [
    "thing2 = TodoItem(5,\"Python\")\n",
    "print(\"title:\",thing2.getTitle())\n",
    "print()\n",
    "\n",
    "print(\"description:\",thing2.getDescription())\n",
    "print()\n",
    "\n",
    "print(\"completed:\",thing2.getCompleted())"
   ]
  },
  {
   "cell_type": "code",
   "execution_count": null,
   "metadata": {},
   "outputs": [],
   "source": []
  }
 ],
 "metadata": {
  "kernelspec": {
   "display_name": "Python 3",
   "language": "python",
   "name": "python3"
  },
  "language_info": {
   "codemirror_mode": {
    "name": "ipython",
    "version": 3
   },
   "file_extension": ".py",
   "mimetype": "text/x-python",
   "name": "python",
   "nbconvert_exporter": "python",
   "pygments_lexer": "ipython3",
   "version": "3.7.1"
  }
 },
 "nbformat": 4,
 "nbformat_minor": 2
}
