{
 "cells": [
  {
   "cell_type": "markdown",
   "metadata": {},
   "source": [
    "## 1.1基本语法"
   ]
  },
  {
   "cell_type": "code",
   "execution_count": 1,
   "metadata": {},
   "outputs": [
    {
     "name": "stdout",
     "output_type": "stream",
     "text": [
      "hello world\n",
      "hello world\n"
     ]
    }
   ],
   "source": [
    "print('hello world') \n",
    "print(\"hello world\")"
   ]
  },
  {
   "cell_type": "code",
   "execution_count": 2,
   "metadata": {},
   "outputs": [
    {
     "name": "stdout",
     "output_type": "stream",
     "text": [
      "<class 'int'>\n",
      "4\n",
      "6 9 1.5 1.5\n"
     ]
    }
   ],
   "source": [
    "x = 3 \n",
    "print(type(x)) \n",
    "print(x+1) \n",
    "print(x*2,x**2,x/2,x/2.0) "
   ]
  },
  {
   "cell_type": "code",
   "execution_count": 3,
   "metadata": {},
   "outputs": [
    {
     "name": "stdout",
     "output_type": "stream",
     "text": [
      "4\n"
     ]
    }
   ],
   "source": [
    "x += 1\n",
    "print(x)"
   ]
  },
  {
   "cell_type": "code",
   "execution_count": 4,
   "metadata": {},
   "outputs": [
    {
     "ename": "SyntaxError",
     "evalue": "invalid syntax (<ipython-input-4-d0de4467246f>, line 2)",
     "output_type": "error",
     "traceback": [
      "\u001b[0;36m  File \u001b[0;32m\"<ipython-input-4-d0de4467246f>\"\u001b[0;36m, line \u001b[0;32m2\u001b[0m\n\u001b[0;31m    x++\u001b[0m\n\u001b[0m        ^\u001b[0m\n\u001b[0;31mSyntaxError\u001b[0m\u001b[0;31m:\u001b[0m invalid syntax\n"
     ]
    }
   ],
   "source": [
    "# python 中没有++运算，下面代码会出错\n",
    "x++ "
   ]
  },
  {
   "cell_type": "markdown",
   "metadata": {},
   "source": [
    "## 1.2 数据类型：数字"
   ]
  },
  {
   "cell_type": "code",
   "execution_count": 5,
   "metadata": {},
   "outputs": [
    {
     "name": "stdout",
     "output_type": "stream",
     "text": [
      "<class 'int'>\n",
      "4 2 6 1.5 9\n"
     ]
    }
   ],
   "source": [
    "x = 3\n",
    "print(type(x)) \n",
    "print(x + 1,x - 1, x * 2, x/2, x ** 2) "
   ]
  },
  {
   "cell_type": "code",
   "execution_count": 6,
   "metadata": {},
   "outputs": [
    {
     "name": "stdout",
     "output_type": "stream",
     "text": [
      "4\n"
     ]
    }
   ],
   "source": [
    "x += 1\n",
    "print(x)  # Print \"4\""
   ]
  },
  {
   "cell_type": "code",
   "execution_count": 7,
   "metadata": {},
   "outputs": [
    {
     "name": "stdout",
     "output_type": "stream",
     "text": [
      "8\n"
     ]
    }
   ],
   "source": [
    "x *= 2\n",
    "print(x)  # Print \"8\""
   ]
  },
  {
   "cell_type": "code",
   "execution_count": 8,
   "metadata": {},
   "outputs": [
    {
     "name": "stdout",
     "output_type": "stream",
     "text": [
      "<class 'float'>\n",
      "2.5 3.5 5.0 6.25\n"
     ]
    }
   ],
   "source": [
    "y = 2.5\n",
    "print(type(y)) \n",
    "print(y, y + 1, y * 2, y ** 2) "
   ]
  },
  {
   "cell_type": "markdown",
   "metadata": {
    "collapsed": true
   },
   "source": [
    "## 1.3 数据类型：布尔"
   ]
  },
  {
   "cell_type": "code",
   "execution_count": 9,
   "metadata": {},
   "outputs": [
    {
     "name": "stdout",
     "output_type": "stream",
     "text": [
      "<class 'bool'>\n",
      "False\n",
      "True\n",
      "False\n",
      "True\n"
     ]
    }
   ],
   "source": [
    "t = True\n",
    "f = False\n",
    "print(type(t)) \n",
    "print(t and f) \n",
    "print(t or f)   \n",
    "print(not t)   \n",
    "print(t != f)  "
   ]
  },
  {
   "cell_type": "code",
   "execution_count": 10,
   "metadata": {},
   "outputs": [
    {
     "ename": "SyntaxError",
     "evalue": "invalid syntax (<ipython-input-10-15776208281b>, line 1)",
     "output_type": "error",
     "traceback": [
      "\u001b[0;36m  File \u001b[0;32m\"<ipython-input-10-15776208281b>\"\u001b[0;36m, line \u001b[0;32m1\u001b[0m\n\u001b[0;31m    print(t || f)\u001b[0m\n\u001b[0m             ^\u001b[0m\n\u001b[0;31mSyntaxError\u001b[0m\u001b[0;31m:\u001b[0m invalid syntax\n"
     ]
    }
   ],
   "source": [
    "print(t || f) "
   ]
  },
  {
   "cell_type": "markdown",
   "metadata": {},
   "source": [
    "## 1.4 数据类型：字符串\n"
   ]
  },
  {
   "cell_type": "code",
   "execution_count": 11,
   "metadata": {},
   "outputs": [
    {
     "name": "stdout",
     "output_type": "stream",
     "text": [
      "11\n"
     ]
    }
   ],
   "source": [
    "S = 'Princetechs'\n",
    "print(len(S))"
   ]
  },
  {
   "cell_type": "code",
   "execution_count": 12,
   "metadata": {},
   "outputs": [
    {
     "name": "stdout",
     "output_type": "stream",
     "text": [
      "P\n",
      "r\n",
      "s\n",
      "h\n",
      "s\n"
     ]
    }
   ],
   "source": [
    "print(S[0])\n",
    "print(S[1])\n",
    "print(S[-1])\n",
    "print(S[-2])\n",
    "print(S[len(S)-1]) "
   ]
  },
  {
   "cell_type": "code",
   "execution_count": 13,
   "metadata": {},
   "outputs": [
    {
     "name": "stdout",
     "output_type": "stream",
     "text": [
      "Princetechs\n",
      "ri\n",
      "rincetechs\n",
      "Pri\n",
      "Princetech\n",
      "Princetechs\n"
     ]
    }
   ],
   "source": [
    "print(S)\n",
    "print(S[1:3])\n",
    "print(S[1:])\n",
    "print(S[:3])\n",
    "print(S[:-1])\n",
    "print(S[:]) "
   ]
  },
  {
   "cell_type": "code",
   "execution_count": 14,
   "metadata": {},
   "outputs": [
    {
     "name": "stdout",
     "output_type": "stream",
     "text": [
      "Princetechsxyz\n",
      "PrincetechsPrincetechsPrincetechs\n"
     ]
    }
   ],
   "source": [
    "print(S+'xyz')\n",
    "print(S*3) "
   ]
  },
  {
   "cell_type": "code",
   "execution_count": 15,
   "metadata": {},
   "outputs": [
    {
     "ename": "TypeError",
     "evalue": "'str' object does not support item assignment",
     "output_type": "error",
     "traceback": [
      "\u001b[0;31m---------------------------------------------------------------------------\u001b[0m",
      "\u001b[0;31mTypeError\u001b[0m                                 Traceback (most recent call last)",
      "\u001b[0;32m<ipython-input-15-17e1bbdda012>\u001b[0m in \u001b[0;36m<module>\u001b[0;34m\u001b[0m\n\u001b[1;32m      1\u001b[0m \u001b[0mS\u001b[0m \u001b[0;34m=\u001b[0m \u001b[0;34m'Princetechs'\u001b[0m\u001b[0;34m\u001b[0m\u001b[0;34m\u001b[0m\u001b[0m\n\u001b[0;32m----> 2\u001b[0;31m \u001b[0mS\u001b[0m\u001b[0;34m[\u001b[0m\u001b[0;36m0\u001b[0m\u001b[0;34m]\u001b[0m\u001b[0;34m=\u001b[0m\u001b[0;34m'Z'\u001b[0m\u001b[0;34m\u001b[0m\u001b[0;34m\u001b[0m\u001b[0m\n\u001b[0m",
      "\u001b[0;31mTypeError\u001b[0m: 'str' object does not support item assignment"
     ]
    }
   ],
   "source": [
    "S = 'Princetechs'\n",
    "S[0]='Z'"
   ]
  },
  {
   "cell_type": "code",
   "execution_count": null,
   "metadata": {},
   "outputs": [],
   "source": [
    "S = 'Z'+ S[1:]\n",
    "S"
   ]
  },
  {
   "cell_type": "markdown",
   "metadata": {},
   "source": [
    "字符串特定函数"
   ]
  },
  {
   "cell_type": "code",
   "execution_count": 16,
   "metadata": {},
   "outputs": [
    {
     "data": {
      "text/plain": [
       "0"
      ]
     },
     "execution_count": 16,
     "metadata": {},
     "output_type": "execute_result"
    }
   ],
   "source": [
    "S.find('Prince')"
   ]
  },
  {
   "cell_type": "code",
   "execution_count": 17,
   "metadata": {},
   "outputs": [
    {
     "name": "stdout",
     "output_type": "stream",
     "text": [
      "XYZtechs\n"
     ]
    }
   ],
   "source": [
    "print(S.replace('Prince','XYZ'))"
   ]
  },
  {
   "cell_type": "code",
   "execution_count": 18,
   "metadata": {},
   "outputs": [
    {
     "name": "stdout",
     "output_type": "stream",
     "text": [
      "PRINCETECHS\n"
     ]
    }
   ],
   "source": [
    "print(S.upper())"
   ]
  },
  {
   "cell_type": "code",
   "execution_count": 19,
   "metadata": {},
   "outputs": [
    {
     "name": "stdout",
     "output_type": "stream",
     "text": [
      "['aa', 'bb', 'ccc', 'dd']\n"
     ]
    }
   ],
   "source": [
    "line='aa,bb,ccc,dd'\n",
    "print(line.split(','))"
   ]
  },
  {
   "cell_type": "code",
   "execution_count": 20,
   "metadata": {},
   "outputs": [
    {
     "name": "stdout",
     "output_type": "stream",
     "text": [
      "aa,bb,ccc,dd\n"
     ]
    }
   ],
   "source": [
    "line='aa,bb,ccc,dd\\n'\n",
    "print(line.rstrip())"
   ]
  },
  {
   "cell_type": "code",
   "execution_count": 21,
   "metadata": {},
   "outputs": [
    {
     "name": "stdout",
     "output_type": "stream",
     "text": [
      "world\n"
     ]
    }
   ],
   "source": [
    "print('  world '.strip())"
   ]
  },
  {
   "cell_type": "code",
   "execution_count": 22,
   "metadata": {},
   "outputs": [
    {
     "name": "stdout",
     "output_type": "stream",
     "text": [
      "hello world 12\n"
     ]
    }
   ],
   "source": [
    "hw12='%s %s %d' % ('hello','world',12)\n",
    "print(hw12)"
   ]
  },
  {
   "cell_type": "code",
   "execution_count": 23,
   "metadata": {},
   "outputs": [
    {
     "name": "stdout",
     "output_type": "stream",
     "text": [
      "hello test 12\n"
     ]
    }
   ],
   "source": [
    "hw12='{0}{1}{2}'.format('hello ','test ',12) \n",
    "print(hw12)"
   ]
  },
  {
   "cell_type": "markdown",
   "metadata": {},
   "source": [
    "## 1.5 列表"
   ]
  },
  {
   "cell_type": "code",
   "execution_count": 24,
   "metadata": {},
   "outputs": [
    {
     "name": "stdout",
     "output_type": "stream",
     "text": [
      "cat\n",
      "dog\n",
      "monkey\n"
     ]
    }
   ],
   "source": [
    "animals = ['cat', 'dog', 'monkey']\n",
    "for animal in animals:\n",
    "    print(animal)"
   ]
  },
  {
   "cell_type": "code",
   "execution_count": 25,
   "metadata": {},
   "outputs": [
    {
     "name": "stdout",
     "output_type": "stream",
     "text": [
      "#1: cat\n",
      "#2: dog\n",
      "#3: monkey\n"
     ]
    }
   ],
   "source": [
    "for idx, animal in enumerate(animals):\n",
    "    print('#%d: %s' % (idx + 1, animal))"
   ]
  },
  {
   "cell_type": "code",
   "execution_count": 26,
   "metadata": {},
   "outputs": [
    {
     "name": "stdout",
     "output_type": "stream",
     "text": [
      "['catcat', 'dogdog', 'monkeymonkey']\n"
     ]
    }
   ],
   "source": [
    "squares = [x*2 for x in animals]\n",
    "print(squares)"
   ]
  },
  {
   "cell_type": "code",
   "execution_count": 27,
   "metadata": {},
   "outputs": [
    {
     "name": "stdout",
     "output_type": "stream",
     "text": [
      "['good', 45, 32, 55]\n"
     ]
    }
   ],
   "source": [
    "list1 = [12,45,32,55]\n",
    "list1[0] = \"good\"\n",
    "print(list1)"
   ]
  },
  {
   "cell_type": "code",
   "execution_count": 28,
   "metadata": {},
   "outputs": [
    {
     "name": "stdout",
     "output_type": "stream",
     "text": [
      "['goodgoodgood', 135, 96, 165]\n"
     ]
    }
   ],
   "source": [
    "list2 = [x*3 for x in list1]\n",
    "print(list2)"
   ]
  },
  {
   "cell_type": "markdown",
   "metadata": {},
   "source": [
    "## 1.6 元组"
   ]
  },
  {
   "cell_type": "code",
   "execution_count": 29,
   "metadata": {},
   "outputs": [
    {
     "name": "stdout",
     "output_type": "stream",
     "text": [
      "(1, 2, 3)\n"
     ]
    }
   ],
   "source": [
    "T = (1,2,3) \n",
    "print(T)"
   ]
  },
  {
   "cell_type": "code",
   "execution_count": 30,
   "metadata": {},
   "outputs": [
    {
     "name": "stdout",
     "output_type": "stream",
     "text": [
      "(1, 2, 3, 4, 5)\n"
     ]
    }
   ],
   "source": [
    "T = T + (4,5) \n",
    "print(T)"
   ]
  },
  {
   "cell_type": "code",
   "execution_count": 31,
   "metadata": {},
   "outputs": [
    {
     "name": "stdout",
     "output_type": "stream",
     "text": [
      "(42,)\n",
      "<class 'tuple'>\n"
     ]
    }
   ],
   "source": [
    "t = (42,) \n",
    "print(t)\n",
    "print(type(t))"
   ]
  },
  {
   "cell_type": "code",
   "execution_count": 32,
   "metadata": {},
   "outputs": [
    {
     "name": "stdout",
     "output_type": "stream",
     "text": [
      "42\n",
      "<class 'int'>\n"
     ]
    }
   ],
   "source": [
    "t = 42\n",
    "print(t)\n",
    "print(type(t))"
   ]
  },
  {
   "cell_type": "code",
   "execution_count": 33,
   "metadata": {},
   "outputs": [
    {
     "name": "stdout",
     "output_type": "stream",
     "text": [
      "12\n"
     ]
    }
   ],
   "source": [
    "list1 = (12,45,32,55)\n",
    "print(list1[0])"
   ]
  },
  {
   "cell_type": "code",
   "execution_count": 34,
   "metadata": {},
   "outputs": [
    {
     "ename": "TypeError",
     "evalue": "'tuple' object does not support item assignment",
     "output_type": "error",
     "traceback": [
      "\u001b[0;31m---------------------------------------------------------------------------\u001b[0m",
      "\u001b[0;31mTypeError\u001b[0m                                 Traceback (most recent call last)",
      "\u001b[0;32m<ipython-input-34-64e001decf8d>\u001b[0m in \u001b[0;36m<module>\u001b[0;34m\u001b[0m\n\u001b[1;32m      1\u001b[0m \u001b[0mlist1\u001b[0m \u001b[0;34m=\u001b[0m \u001b[0;34m(\u001b[0m\u001b[0;36m12\u001b[0m\u001b[0;34m,\u001b[0m\u001b[0;36m45\u001b[0m\u001b[0;34m,\u001b[0m\u001b[0;36m32\u001b[0m\u001b[0;34m,\u001b[0m\u001b[0;36m55\u001b[0m\u001b[0;34m)\u001b[0m\u001b[0;34m\u001b[0m\u001b[0;34m\u001b[0m\u001b[0m\n\u001b[0;32m----> 2\u001b[0;31m \u001b[0mlist1\u001b[0m\u001b[0;34m[\u001b[0m\u001b[0;36m0\u001b[0m\u001b[0;34m]\u001b[0m \u001b[0;34m=\u001b[0m \u001b[0;34m\"good\"\u001b[0m\u001b[0;34m\u001b[0m\u001b[0;34m\u001b[0m\u001b[0m\n\u001b[0m\u001b[1;32m      3\u001b[0m \u001b[0mprint\u001b[0m\u001b[0;34m(\u001b[0m\u001b[0mlist1\u001b[0m\u001b[0;34m[\u001b[0m\u001b[0;36m0\u001b[0m\u001b[0;34m]\u001b[0m\u001b[0;34m)\u001b[0m\u001b[0;34m\u001b[0m\u001b[0;34m\u001b[0m\u001b[0m\n",
      "\u001b[0;31mTypeError\u001b[0m: 'tuple' object does not support item assignment"
     ]
    }
   ],
   "source": [
    "list1 = (12,45,32,55)\n",
    "list1[0] = \"good\"\n",
    "print(list1[0]) "
   ]
  },
  {
   "cell_type": "markdown",
   "metadata": {},
   "source": [
    "## 1.7 集合\n"
   ]
  },
  {
   "cell_type": "code",
   "execution_count": 35,
   "metadata": {},
   "outputs": [
    {
     "name": "stdout",
     "output_type": "stream",
     "text": [
      "False\n"
     ]
    }
   ],
   "source": [
    "sample_set = {'Prince', 'Techs'}\n",
    "print('Data' in sample_set)     "
   ]
  },
  {
   "cell_type": "code",
   "execution_count": 36,
   "metadata": {},
   "outputs": [
    {
     "name": "stdout",
     "output_type": "stream",
     "text": [
      "True\n",
      "{'Data', 'Techs', 'Prince'}\n"
     ]
    }
   ],
   "source": [
    "sample_set.add('Data')      \n",
    "print('Data' in sample_set) \n",
    "print(sample_set)"
   ]
  },
  {
   "cell_type": "code",
   "execution_count": 37,
   "metadata": {},
   "outputs": [
    {
     "name": "stdout",
     "output_type": "stream",
     "text": [
      "3\n",
      "{'Techs', 'Prince'}\n",
      "2\n"
     ]
    }
   ],
   "source": [
    "print(len(sample_set))       \n",
    "sample_set.remove('Data')    \n",
    "print(sample_set)\n",
    "print(len(sample_set)) "
   ]
  },
  {
   "cell_type": "code",
   "execution_count": 38,
   "metadata": {},
   "outputs": [
    {
     "name": "stdout",
     "output_type": "stream",
     "text": [
      "{'Techs', 'Prince'}\n"
     ]
    }
   ],
   "source": [
    "sample_set = {'Prince','Techs','Prince'}\n",
    "print(sample_set)"
   ]
  },
  {
   "cell_type": "code",
   "execution_count": 39,
   "metadata": {},
   "outputs": [
    {
     "name": "stdout",
     "output_type": "stream",
     "text": [
      "#1: Techs\n",
      "#2: Prince\n"
     ]
    }
   ],
   "source": [
    "for idx, word in enumerate(sample_set):\n",
    "    print('#%d: %s' % (idx + 1, word))"
   ]
  },
  {
   "cell_type": "code",
   "execution_count": 40,
   "metadata": {},
   "outputs": [
    {
     "name": "stdout",
     "output_type": "stream",
     "text": [
      "{0, 1, 2, 3, 4, 5, 6, 7, 8, 9}\n"
     ]
    }
   ],
   "source": [
    "from math import sqrt\n",
    "nums = {int(sqrt(x)) for x in range(100)}\n",
    "print(nums)  "
   ]
  },
  {
   "cell_type": "code",
   "execution_count": 41,
   "metadata": {},
   "outputs": [
    {
     "name": "stdout",
     "output_type": "stream",
     "text": [
      "10\n",
      "{0, 1, 2, 3, 4, 5, 6, 7, 8, 9}\n"
     ]
    }
   ],
   "source": [
    "from math import sqrt\n",
    "nums = {int(sqrt(x)) for x in range(100)}\n",
    "print(len(nums))\n",
    "print(nums)"
   ]
  },
  {
   "cell_type": "markdown",
   "metadata": {},
   "source": [
    "## 1.8 字典"
   ]
  },
  {
   "cell_type": "code",
   "execution_count": 42,
   "metadata": {},
   "outputs": [
    {
     "name": "stdout",
     "output_type": "stream",
     "text": [
      "{'food': 'Spam', 'quantity': 4, 'color': 'pink'}\n",
      "{'food': 'Spam', 'quantity': 4, 'color': 'pink'}\n",
      "{'food': '1', 'b': '2'}\n"
     ]
    }
   ],
   "source": [
    "D1 = {'food':'Spam','quantity':4,'color':'pink'}\n",
    "print(D1)\n",
    "\n",
    "D2 = dict(food='Spam',quantity=4, color='pink')\n",
    "print(D2)\n",
    "\n",
    "D3 = dict([(\"food\", \"1\"),(\"b\", \"2\")])\n",
    "print(D3)"
   ]
  },
  {
   "cell_type": "code",
   "execution_count": 43,
   "metadata": {},
   "outputs": [
    {
     "name": "stdout",
     "output_type": "stream",
     "text": [
      "{'food': 'Spam', 'quantity': 4, 'color': 'pink'}\n",
      "{'food': 'Spam', 'quantity': 4, 'color': 'red'}\n"
     ]
    }
   ],
   "source": [
    "x = dict(food='Spam',quantity=4, color='pink')\n",
    "y = x.copy()\n",
    "y['color'] = 'red'\n",
    "print(x) \n",
    "print(y) "
   ]
  },
  {
   "cell_type": "code",
   "execution_count": 44,
   "metadata": {},
   "outputs": [
    {
     "name": "stdout",
     "output_type": "stream",
     "text": [
      "None\n",
      "键值不存在！\n"
     ]
    }
   ],
   "source": [
    "d={}\n",
    "#print d['name'] #得到错误信息\n",
    "print(d.get('name')) #打印出：None\n",
    "print(d.get('name',u'键值不存在！'))"
   ]
  },
  {
   "cell_type": "code",
   "execution_count": 45,
   "metadata": {},
   "outputs": [
    {
     "name": "stdout",
     "output_type": "stream",
     "text": [
      "dict_keys(['title', 'url', 'spam'])\n",
      "dict_values(['hackdata', 'www.hackdata.cn', 0])\n",
      "dict_items([('title', 'hackdata'), ('url', 'www.hackdata.cn'), ('spam', 0)])\n"
     ]
    }
   ],
   "source": [
    "d = dict(title='hackdata',url='www.hackdata.cn',spam=0)\n",
    "print(d.keys())\n",
    "print(d.values())\n",
    "print(d.items())"
   ]
  },
  {
   "cell_type": "markdown",
   "metadata": {},
   "source": [
    "## 1.9 控制流"
   ]
  },
  {
   "cell_type": "code",
   "execution_count": 46,
   "metadata": {},
   "outputs": [
    {
     "name": "stdout",
     "output_type": "stream",
     "text": [
      "negative\n"
     ]
    }
   ],
   "source": [
    "review_sentiment = -1\n",
    "if review_sentiment > 0:\n",
    "    print('positive')\n",
    "elif review_sentiment == 0:\n",
    "    print('neutral')\n",
    "else:\n",
    "    print('negative')"
   ]
  },
  {
   "cell_type": "code",
   "execution_count": 47,
   "metadata": {},
   "outputs": [
    {
     "name": "stdout",
     "output_type": "stream",
     "text": [
      "False\n",
      "False\n",
      "False\n",
      "False\n",
      "False\n",
      "False\n",
      "False\n"
     ]
    }
   ],
   "source": [
    "tests = [False,None,0,(),{},[],\"\"]\n",
    "for test in tests:\n",
    "    if test:\n",
    "        print(True)\n",
    "    else:\n",
    "        print(False)"
   ]
  },
  {
   "cell_type": "code",
   "execution_count": 48,
   "metadata": {},
   "outputs": [
    {
     "name": "stdout",
     "output_type": "stream",
     "text": [
      "<class 'bool'>\n",
      "False\n",
      "True\n",
      "False\n"
     ]
    }
   ],
   "source": [
    "t = True\n",
    "f = False\n",
    "print(type(t)) \n",
    "print(t and f) \n",
    "print(t or f) \n",
    "print(not t)"
   ]
  },
  {
   "cell_type": "code",
   "execution_count": 49,
   "metadata": {},
   "outputs": [
    {
     "name": "stdout",
     "output_type": "stream",
     "text": [
      "1\n",
      "3\n",
      "6\n",
      "10\n"
     ]
    }
   ],
   "source": [
    "x,y = 1,1\n",
    "while x <= 20 and y <= 20:\n",
    "    print(x)\n",
    "    if x > 9:\n",
    "        break\n",
    "    y += 1;x = x + y"
   ]
  },
  {
   "cell_type": "code",
   "execution_count": 50,
   "metadata": {},
   "outputs": [
    {
     "name": "stdout",
     "output_type": "stream",
     "text": [
      "[6, -1, 5, 1, 2, 4]\n"
     ]
    }
   ],
   "source": [
    "L = [5,-2,4,0,1,3]\n",
    "for x in range(len(L)):\n",
    "    L[x]+=1\n",
    "print(L)"
   ]
  },
  {
   "cell_type": "code",
   "execution_count": 51,
   "metadata": {},
   "outputs": [
    {
     "name": "stdout",
     "output_type": "stream",
     "text": [
      "A person has 2 legs\n",
      "A spider has 8 legs\n"
     ]
    }
   ],
   "source": [
    "d = {'person':2,'spider':8}\n",
    "for animal in d:\n",
    "    legs = d[animal]\n",
    "    print('A %s has %d legs' % (animal,legs))"
   ]
  },
  {
   "cell_type": "markdown",
   "metadata": {},
   "source": [
    "## 1.10 函数"
   ]
  },
  {
   "cell_type": "code",
   "execution_count": 52,
   "metadata": {},
   "outputs": [
    {
     "data": {
      "text/plain": [
       "[0, 1, 1, 2, 3, 5, 8]"
      ]
     },
     "execution_count": 52,
     "metadata": {},
     "output_type": "execute_result"
    }
   ],
   "source": [
    "def fibs(num,b=3):\n",
    "    result=[0,1]\n",
    "    for i in range(num-2):\n",
    "        result.append(result[-2]+result[-1])\n",
    "    return result\n",
    "\n",
    "fibs(7) "
   ]
  },
  {
   "cell_type": "code",
   "execution_count": 53,
   "metadata": {},
   "outputs": [
    {
     "name": "stdout",
     "output_type": "stream",
     "text": [
      "hello, world!\n",
      "Greetings, world!\n",
      "Greetings, universe!\n",
      "hello, Gumby!\n"
     ]
    }
   ],
   "source": [
    "def hello(greeting='hello',name='world'):\n",
    "    print('%s, %s!' % (greeting, name))\n",
    "    \n",
    "hello() \n",
    "hello('Greetings') \n",
    "hello('Greetings','universe') \n",
    "hello(name='Gumby') "
   ]
  },
  {
   "cell_type": "code",
   "execution_count": 113,
   "metadata": {},
   "outputs": [
    {
     "name": "stdout",
     "output_type": "stream",
     "text": [
      "Please enter the first number: 1\n",
      "Please enter the second number: 2\n",
      "1\n"
     ]
    }
   ],
   "source": [
    "x = int(input('Please enter the first number: '))\n",
    "y = int(input('Please enter the second number: '))\n",
    "print(x**y)"
   ]
  },
  {
   "cell_type": "markdown",
   "metadata": {
    "collapsed": true
   },
   "source": [
    "# 2.科学计算"
   ]
  },
  {
   "cell_type": "markdown",
   "metadata": {},
   "source": [
    "## 2.1 numpy"
   ]
  },
  {
   "cell_type": "code",
   "execution_count": 55,
   "metadata": {},
   "outputs": [
    {
     "name": "stdout",
     "output_type": "stream",
     "text": [
      "<class 'numpy.ndarray'>\n",
      "(3,)\n",
      "1 2 3\n",
      "[5 2 3]\n",
      "(2, 3)\n",
      "1 2 4\n"
     ]
    }
   ],
   "source": [
    "import numpy as np\n",
    "\n",
    "a = np.array([1, 2, 3])  \n",
    "print(type(a))           \n",
    "print(a.shape)            \n",
    "print(a[0], a[1], a[2])   \n",
    "a[0] = 5                \n",
    "print(a)                  \n",
    "\n",
    "b = np.array([[1,2,3],[4,5,6]])   \n",
    "print(b.shape)                    \n",
    "print(b[0, 0], b[0, 1], b[1, 0])  "
   ]
  },
  {
   "cell_type": "code",
   "execution_count": 56,
   "metadata": {},
   "outputs": [
    {
     "name": "stdout",
     "output_type": "stream",
     "text": [
      "float64\n",
      "int32\n"
     ]
    }
   ],
   "source": [
    "arr1 = np.array([1,2,3],dtype=np.float64)\n",
    "arr2 = np.array([1,2,3],dtype=np.int32)\n",
    "\n",
    "print(arr1.dtype)\n",
    "print(arr2.dtype)"
   ]
  },
  {
   "cell_type": "code",
   "execution_count": 57,
   "metadata": {},
   "outputs": [
    {
     "name": "stdout",
     "output_type": "stream",
     "text": [
      "[0 1 2 3 4 5 6 7 8 9]\n",
      "[5 6 7]\n",
      "[  0   1   2   3   4   5 999   7   8   9]\n",
      "[ 0  1  2  3  4 14 14 14  8  9]\n"
     ]
    }
   ],
   "source": [
    "arr = np.arange(10)\n",
    "print(arr)\n",
    "arr_slice = arr[5:8]\n",
    "print(arr_slice)\n",
    "arr_slice[1] = 999\n",
    "print(arr)\n",
    "\n",
    "arr_slice[:]=14\n",
    "print(arr)"
   ]
  },
  {
   "cell_type": "code",
   "execution_count": 58,
   "metadata": {},
   "outputs": [
    {
     "name": "stdout",
     "output_type": "stream",
     "text": [
      "[[-3.   2.   0.  -1. ]\n",
      " [ 2.5  1.7 -0.2  1. ]]\n",
      "\n",
      "[[ 0.  -1. ]\n",
      " [-0.2  1. ]]\n"
     ]
    }
   ],
   "source": [
    "names = np.array(['Bob','Will','Bob','Joe'])\n",
    "data = np.array([[-3,2,0,-1],\n",
    "                 [1,2,3,-4],\n",
    "                 [2.5,1.7,-0.2,1],\n",
    "                 [-8,-4,9,10]])\n",
    "\n",
    "print(data[names=='Bob'])\n",
    "print()\n",
    "print(data[names=='Bob',2:])"
   ]
  },
  {
   "cell_type": "code",
   "execution_count": 59,
   "metadata": {},
   "outputs": [
    {
     "name": "stdout",
     "output_type": "stream",
     "text": [
      "[[ 0  1  2  3  4]\n",
      " [ 5  6  7  8  9]\n",
      " [10 11 12 13 14]\n",
      " [15 16 17 18 19]]\n",
      "9.5\n",
      "190\n",
      "[ 2.  7. 12. 17.]\n",
      "[30 34 38 42 46]\n"
     ]
    }
   ],
   "source": [
    "#基本统计方法\n",
    "arr = np.arange(20).reshape((4,5))\n",
    "print(arr)\n",
    "print(arr.mean())\n",
    "print(arr.sum())\n",
    "print(arr.mean(1))\n",
    "print(arr.sum(0))"
   ]
  },
  {
   "cell_type": "code",
   "execution_count": 60,
   "metadata": {},
   "outputs": [
    {
     "name": "stdout",
     "output_type": "stream",
     "text": [
      "[[ 0  1  2  3  4]\n",
      " [ 5  7  9 11 13]\n",
      " [15 18 21 24 27]\n",
      " [30 34 38 42 46]]\n",
      "[[      0       0       0       0       0]\n",
      " [      5      30     210    1680   15120]\n",
      " [     10     110    1320   17160  240240]\n",
      " [     15     240    4080   73440 1395360]]\n"
     ]
    }
   ],
   "source": [
    "print(arr.cumsum(0))\n",
    "print(arr.cumprod(1))"
   ]
  },
  {
   "cell_type": "code",
   "execution_count": 61,
   "metadata": {},
   "outputs": [
    {
     "name": "stdout",
     "output_type": "stream",
     "text": [
      "[[ 2.06821429 -0.14516046 -1.69938547  0.39927992]\n",
      " [-0.8430455   0.86355109  0.98827202 -0.17433668]\n",
      " [-2.47391825 -1.10071052 -0.67884302  1.49738621]\n",
      " [ 0.39685632  0.60080058 -1.99750907  0.16351985]]\n"
     ]
    }
   ],
   "source": [
    "samples = np.random.normal(size=(4,4))\n",
    "print(samples)"
   ]
  },
  {
   "cell_type": "code",
   "execution_count": 62,
   "metadata": {},
   "outputs": [
    {
     "name": "stdout",
     "output_type": "stream",
     "text": [
      "1.05 s ± 39.3 ms per loop (mean ± std. dev. of 7 runs, 1 loop each)\n",
      "42.7 ms ± 5.83 ms per loop (mean ± std. dev. of 7 runs, 10 loops each)\n"
     ]
    }
   ],
   "source": [
    "#随机数生成速度\n",
    "from random import normalvariate\n",
    "N = 1000000\n",
    "#Python内置抽样函数\n",
    "%timeit samples=[normalvariate(0,1) for _ in range(N)]\n",
    "#Numpy抽样函数\n",
    "%timeit np.random.normal(size=N)"
   ]
  },
  {
   "cell_type": "markdown",
   "metadata": {},
   "source": [
    "## 2.2 matplotlib"
   ]
  },
  {
   "cell_type": "code",
   "execution_count": 63,
   "metadata": {},
   "outputs": [
    {
     "name": "stdout",
     "output_type": "stream",
     "text": [
      "Populating the interactive namespace from numpy and matplotlib\n"
     ]
    },
    {
     "name": "stderr",
     "output_type": "stream",
     "text": [
      "/Users/cyf/anaconda3/lib/python3.7/site-packages/IPython/core/magics/pylab.py:160: UserWarning: pylab import has clobbered these variables: ['sqrt', 'f', 'test']\n",
      "`%matplotlib` prevents importing * from pylab and numpy\n",
      "  \"\\n`%matplotlib` prevents importing * from pylab and numpy\"\n"
     ]
    },
    {
     "data": {
      "image/png": "[encoded data removed]",
      "text/plain": [
       "<Figure size 432x288 with 1 Axes>"
      ]
     },
     "metadata": {
      "needs_background": "light"
     },
     "output_type": "display_data"
    }
   ],
   "source": [
    "#plot绘图\n",
    "%pylab inline\n",
    "import numpy as np\n",
    "import matplotlib.pyplot as plt\n",
    "\n",
    "x = np.arange(0, 3 * np.pi, 0.1)\n",
    "y = np.sin(x)\n",
    "\n",
    "#绘制曲线图\n",
    "plt.plot(x, y)\n",
    "plt.show()"
   ]
  },
  {
   "cell_type": "code",
   "execution_count": 64,
   "metadata": {},
   "outputs": [
    {
     "data": {
      "image/png": "[encoded data removed]",
      "text/plain": [
       "<Figure size 432x288 with 2 Axes>"
      ]
     },
     "metadata": {
      "needs_background": "light"
     },
     "output_type": "display_data"
    }
   ],
   "source": [
    "#子图绘制\n",
    "x = np.arange(0, 3 * np.pi, 0.1)\n",
    "y_sin = np.sin(x)\n",
    "y_cos = np.cos(x)\n",
    "\n",
    "plt.subplot(2, 1, 1)\n",
    "plt.plot(x, y_sin) # 绘制第一个子图\n",
    "plt.title('Sine')\n",
    "\n",
    "plt.subplot(2, 1, 2) # 绘制第二个子图\n",
    "plt.plot(x, y_cos)\n",
    "plt.title('Cosine')\n",
    "\n",
    "plt.show()"
   ]
  },
  {
   "cell_type": "markdown",
   "metadata": {},
   "source": [
    "## 2.3 Pandas"
   ]
  },
  {
   "cell_type": "code",
   "execution_count": 65,
   "metadata": {},
   "outputs": [
    {
     "name": "stdout",
     "output_type": "stream",
     "text": [
      "d    1\n",
      "b    2\n",
      "a    3\n",
      "c    4\n",
      "dtype: int64\n",
      "[1 2 3 4]\n",
      "Index(['d', 'b', 'a', 'c'], dtype='object')\n"
     ]
    }
   ],
   "source": [
    "import pandas as pd\n",
    "ts = pd.Series([1,2,3,4],index=list('dbac'))\n",
    "print(ts)\n",
    "print(ts.values)\n",
    "print(ts.index)"
   ]
  },
  {
   "cell_type": "code",
   "execution_count": 66,
   "metadata": {},
   "outputs": [
    {
     "name": "stdout",
     "output_type": "stream",
     "text": [
      "m    1\n",
      "n    2\n",
      "o    3\n",
      "p    4\n",
      "dtype: int64\n"
     ]
    }
   ],
   "source": [
    "ts.index = list('mnop') \n",
    "print(ts)"
   ]
  },
  {
   "cell_type": "code",
   "execution_count": 67,
   "metadata": {},
   "outputs": [
    {
     "name": "stdout",
     "output_type": "stream",
     "text": [
      "d    4\n",
      "b    7\n",
      "a   -5\n",
      "c    3\n",
      "dtype: int64\n"
     ]
    }
   ],
   "source": [
    "dict1 = dict(d = 4,b = 7,a = -5,c = 3) \n",
    "ts2 = pd.Series(dict1)\n",
    "print(ts2)"
   ]
  },
  {
   "cell_type": "code",
   "execution_count": 68,
   "metadata": {},
   "outputs": [
    {
     "name": "stdout",
     "output_type": "stream",
     "text": [
      "None\n"
     ]
    }
   ],
   "source": [
    "print(ts2.index.name)"
   ]
  },
  {
   "cell_type": "code",
   "execution_count": 69,
   "metadata": {},
   "outputs": [
    {
     "name": "stdout",
     "output_type": "stream",
     "text": [
      "    name  age\n",
      "0  Jerry   21\n",
      "1    Jim   19\n",
      "2   Mike   20\n"
     ]
    }
   ],
   "source": [
    "data={'name':['Jerry','Jim','Mike'],\n",
    "        'age':[21,19,20],\n",
    "    }\n",
    "frame = pd.DataFrame(data)\n",
    "print(frame) "
   ]
  },
  {
   "cell_type": "code",
   "execution_count": 70,
   "metadata": {},
   "outputs": [
    {
     "name": "stdout",
     "output_type": "stream",
     "text": [
      "0    Jerry\n",
      "1      Jim\n",
      "2     Mike\n",
      "Name: name, dtype: object\n"
     ]
    }
   ],
   "source": [
    "print(frame['name'])"
   ]
  },
  {
   "cell_type": "code",
   "execution_count": 71,
   "metadata": {},
   "outputs": [
    {
     "name": "stdout",
     "output_type": "stream",
     "text": [
      "name    Jim\n",
      "age      19\n",
      "Name: 1, dtype: object\n"
     ]
    }
   ],
   "source": [
    "print(frame.loc[1])"
   ]
  },
  {
   "cell_type": "code",
   "execution_count": 72,
   "metadata": {},
   "outputs": [
    {
     "name": "stdout",
     "output_type": "stream",
     "text": [
      "   age\n",
      "0   21\n",
      "1   19\n",
      "2   20\n",
      "    name  age\n",
      "0  Jerry   21\n",
      "1    Jim   19\n",
      "2   Mike   20\n"
     ]
    }
   ],
   "source": [
    "print(frame.drop('name',axis=1))\n",
    "print(frame) "
   ]
  },
  {
   "cell_type": "code",
   "execution_count": 73,
   "metadata": {},
   "outputs": [
    {
     "name": "stdout",
     "output_type": "stream",
     "text": [
      "   age\n",
      "0   21\n",
      "1   19\n",
      "2   20\n"
     ]
    }
   ],
   "source": [
    "del frame['name']\n",
    "print(frame)"
   ]
  },
  {
   "cell_type": "code",
   "execution_count": 74,
   "metadata": {},
   "outputs": [
    {
     "data": {
      "text/html": [
       "<div>\n",
       "<style scoped>\n",
       "    .dataframe tbody tr th:only-of-type {\n",
       "        vertical-align: middle;\n",
       "    }\n",
       "\n",
       "    .dataframe tbody tr th {\n",
       "        vertical-align: top;\n",
       "    }\n",
       "\n",
       "    .dataframe thead th {\n",
       "        text-align: right;\n",
       "    }\n",
       "</style>\n",
       "<table border=\"1\" class=\"dataframe\">\n",
       "  <thead>\n",
       "    <tr style=\"text-align: right;\">\n",
       "      <th></th>\n",
       "      <th>age</th>\n",
       "    </tr>\n",
       "  </thead>\n",
       "  <tbody>\n",
       "    <tr>\n",
       "      <th>0</th>\n",
       "      <td>21</td>\n",
       "    </tr>\n",
       "    <tr>\n",
       "      <th>2</th>\n",
       "      <td>20</td>\n",
       "    </tr>\n",
       "  </tbody>\n",
       "</table>\n",
       "</div>"
      ],
      "text/plain": [
       "   age\n",
       "0   21\n",
       "2   20"
      ]
     },
     "execution_count": 74,
     "metadata": {},
     "output_type": "execute_result"
    }
   ],
   "source": [
    "frame[frame['age'] > 19]"
   ]
  },
  {
   "cell_type": "code",
   "execution_count": 75,
   "metadata": {},
   "outputs": [
    {
     "data": {
      "text/html": [
       "<div>\n",
       "<style scoped>\n",
       "    .dataframe tbody tr th:only-of-type {\n",
       "        vertical-align: middle;\n",
       "    }\n",
       "\n",
       "    .dataframe tbody tr th {\n",
       "        vertical-align: top;\n",
       "    }\n",
       "\n",
       "    .dataframe thead th {\n",
       "        text-align: right;\n",
       "    }\n",
       "</style>\n",
       "<table border=\"1\" class=\"dataframe\">\n",
       "  <thead>\n",
       "    <tr style=\"text-align: right;\">\n",
       "      <th></th>\n",
       "      <th>age</th>\n",
       "    </tr>\n",
       "  </thead>\n",
       "  <tbody>\n",
       "    <tr>\n",
       "      <th>count</th>\n",
       "      <td>3.0</td>\n",
       "    </tr>\n",
       "    <tr>\n",
       "      <th>mean</th>\n",
       "      <td>20.0</td>\n",
       "    </tr>\n",
       "    <tr>\n",
       "      <th>std</th>\n",
       "      <td>1.0</td>\n",
       "    </tr>\n",
       "    <tr>\n",
       "      <th>min</th>\n",
       "      <td>19.0</td>\n",
       "    </tr>\n",
       "    <tr>\n",
       "      <th>25%</th>\n",
       "      <td>19.5</td>\n",
       "    </tr>\n",
       "    <tr>\n",
       "      <th>50%</th>\n",
       "      <td>20.0</td>\n",
       "    </tr>\n",
       "    <tr>\n",
       "      <th>75%</th>\n",
       "      <td>20.5</td>\n",
       "    </tr>\n",
       "    <tr>\n",
       "      <th>max</th>\n",
       "      <td>21.0</td>\n",
       "    </tr>\n",
       "  </tbody>\n",
       "</table>\n",
       "</div>"
      ],
      "text/plain": [
       "        age\n",
       "count   3.0\n",
       "mean   20.0\n",
       "std     1.0\n",
       "min    19.0\n",
       "25%    19.5\n",
       "50%    20.0\n",
       "75%    20.5\n",
       "max    21.0"
      ]
     },
     "execution_count": 75,
     "metadata": {},
     "output_type": "execute_result"
    }
   ],
   "source": [
    "frame.describe()"
   ]
  },
  {
   "cell_type": "code",
   "execution_count": 76,
   "metadata": {},
   "outputs": [
    {
     "data": {
      "text/html": [
       "<div>\n",
       "<style scoped>\n",
       "    .dataframe tbody tr th:only-of-type {\n",
       "        vertical-align: middle;\n",
       "    }\n",
       "\n",
       "    .dataframe tbody tr th {\n",
       "        vertical-align: top;\n",
       "    }\n",
       "\n",
       "    .dataframe thead th {\n",
       "        text-align: right;\n",
       "    }\n",
       "</style>\n",
       "<table border=\"1\" class=\"dataframe\">\n",
       "  <thead>\n",
       "    <tr style=\"text-align: right;\">\n",
       "      <th></th>\n",
       "      <th>age</th>\n",
       "      <th>num_friends</th>\n",
       "    </tr>\n",
       "  </thead>\n",
       "  <tbody>\n",
       "    <tr>\n",
       "      <th>age</th>\n",
       "      <td>1.0</td>\n",
       "      <td>-1.000000</td>\n",
       "    </tr>\n",
       "    <tr>\n",
       "      <th>num_friends</th>\n",
       "      <td>-1.0</td>\n",
       "      <td>6.333333</td>\n",
       "    </tr>\n",
       "  </tbody>\n",
       "</table>\n",
       "</div>"
      ],
      "text/plain": [
       "             age  num_friends\n",
       "age          1.0    -1.000000\n",
       "num_friends -1.0     6.333333"
      ]
     },
     "execution_count": 76,
     "metadata": {},
     "output_type": "execute_result"
    }
   ],
   "source": [
    "frame['num_friends']=[3,5,8]\n",
    "frame.cov()"
   ]
  },
  {
   "cell_type": "code",
   "execution_count": 77,
   "metadata": {},
   "outputs": [
    {
     "data": {
      "text/html": [
       "<div>\n",
       "<style scoped>\n",
       "    .dataframe tbody tr th:only-of-type {\n",
       "        vertical-align: middle;\n",
       "    }\n",
       "\n",
       "    .dataframe tbody tr th {\n",
       "        vertical-align: top;\n",
       "    }\n",
       "\n",
       "    .dataframe thead th {\n",
       "        text-align: right;\n",
       "    }\n",
       "</style>\n",
       "<table border=\"1\" class=\"dataframe\">\n",
       "  <thead>\n",
       "    <tr style=\"text-align: right;\">\n",
       "      <th></th>\n",
       "      <th>age</th>\n",
       "      <th>num_friends</th>\n",
       "    </tr>\n",
       "  </thead>\n",
       "  <tbody>\n",
       "    <tr>\n",
       "      <th>age</th>\n",
       "      <td>1.00000</td>\n",
       "      <td>-0.39736</td>\n",
       "    </tr>\n",
       "    <tr>\n",
       "      <th>num_friends</th>\n",
       "      <td>-0.39736</td>\n",
       "      <td>1.00000</td>\n",
       "    </tr>\n",
       "  </tbody>\n",
       "</table>\n",
       "</div>"
      ],
      "text/plain": [
       "                 age  num_friends\n",
       "age          1.00000     -0.39736\n",
       "num_friends -0.39736      1.00000"
      ]
     },
     "execution_count": 77,
     "metadata": {},
     "output_type": "execute_result"
    }
   ],
   "source": [
    "frame.corr()"
   ]
  },
  {
   "cell_type": "code",
   "execution_count": null,
   "metadata": {},
   "outputs": [],
   "source": []
  },
  {
   "cell_type": "code",
   "execution_count": null,
   "metadata": {},
   "outputs": [],
   "source": []
  },
  {
   "attachments": {
    "BMI_index.PNG": {
     "image/png": "[encoded data removed]"
    }
   },
   "cell_type": "markdown",
   "metadata": {},
   "source": [
    "<font color=#ff0000 size=5 face=\"黑体\">实践1：BMI计算 </font>\n",
    "\n",
    "身体质量指数BMI（Body Mass Index）的定义为体重(kg)除以身高(米)的平方；\n",
    "\n",
    "例如，一个人身高1.75米，体重75公斤，BMI值为24.49.\n",
    "\n",
    "\n",
    "国内和国际BMI指标如下图所示：\n",
    "![BMI_index.PNG](attachment:BMI_index.PNG)\n",
    "\n",
    "按照要求完成程序：\n",
    "1. 编写3个函数，分别用来计算BMI的值，国际BMI指标建议值，国内BMI指标建议值；\n",
    "2. 结合异常处理，根据用户输入的体重和身高，计算并输出BMI值，同时输出国际和国内的BMI指标建议值；"
   ]
  },
  {
   "cell_type": "code",
   "execution_count": 78,
   "metadata": {},
   "outputs": [],
   "source": [
    "def computeBMI(height,weight):\n",
    "    \"\"\"compute BMI value based on height and weight\"\"\"\n",
    "    res=weight/(height*height)\n",
    "    return res\n",
    "    "
   ]
  },
  {
   "cell_type": "code",
   "execution_count": 79,
   "metadata": {},
   "outputs": [],
   "source": [
    "def internationalBMI(BMI):\n",
    "    \"\"\"return international BMI index, the input parameter is BMI value\"\"\"\n",
    "    res=''\n",
    "    if BMI>=30:\n",
    "        res='肥胖'\n",
    "    elif BMI>=25:\n",
    "        res='偏胖'\n",
    "    elif BMI>18.5:\n",
    "        res='正常'\n",
    "    else:\n",
    "        res='偏瘦'\n",
    "    return res\n",
    "    "
   ]
  },
  {
   "cell_type": "code",
   "execution_count": 80,
   "metadata": {},
   "outputs": [],
   "source": [
    "def domesticBMI(BMI):\n",
    "    \"\"\"return domestic BMI index, the input parameter is BMI value\"\"\"\n",
    "    res=''\n",
    "    if BMI>=38:\n",
    "        res='肥胖'\n",
    "    elif BMI>=24:\n",
    "        res='偏胖'\n",
    "    elif BMI>18.5:\n",
    "        res='正常'\n",
    "    else:\n",
    "        res='偏瘦'\n",
    "    return res"
   ]
  },
  {
   "cell_type": "code",
   "execution_count": 90,
   "metadata": {},
   "outputs": [
    {
     "name": "stdout",
     "output_type": "stream",
     "text": [
      "请输入你的身高180\n",
      "请输入你的体重55\n",
      "BMI: 0.0016975308641975309\n",
      "国内BMI 偏瘦\n",
      "国际BMI 偏瘦\n"
     ]
    }
   ],
   "source": [
    "# use try, except, else, finally to finish the code \n",
    "try:\n",
    "    height=float(input('请输入你的身高'))\n",
    "    weight=float(input('请输入你的体重'))\n",
    "    BMI=computeBMI(height,weight)\n",
    "    print('BMI: '+str(BMI))\n",
    "    print('国内BMI '+domesticBMI(BMI))\n",
    "    print('国际BMI '+internationalBMI(BMI))\n",
    "except ValueError:\n",
    "    print('请输入数字')\n"
   ]
  },
  {
   "cell_type": "markdown",
   "metadata": {},
   "source": [
    "<font color=#ff0000 size=5 face=\"黑体\">实践2：按照要求输出字符串</font>"
   ]
  },
  {
   "attachments": {
    "output_string.PNG": {
     "image/png": "[encoded data removed]"
    }
   },
   "cell_type": "markdown",
   "metadata": {},
   "source": [
    "![output_string.PNG](attachment:output_string.PNG)"
   ]
  },
  {
   "cell_type": "code",
   "execution_count": 2,
   "metadata": {},
   "outputs": [
    {
     "name": "stdout",
     "output_type": "stream",
     "text": [
      "input your stringWheresoever you go, go with all your heart\n",
      "['wheresoever', 'you', 'go,', 'go', 'with', 'all', 'your', 'heart']\n",
      "WHERESOEVER\n",
      "YOU\n",
      "WITH\n",
      "YOUR\n",
      "HEART\n"
     ]
    }
   ],
   "source": [
    "# Create a program inputs a phrase (like a famous quotation) and \n",
    "# prints all of the words that start with h-z in upper case. \n",
    "\"\"\"\n",
    "Sample input:\n",
    "Wheresoever you go, go with all your heart\n",
    "\n",
    "Sample output:\n",
    "WHERESOEVER\n",
    "YOU\n",
    "WITH\n",
    "YOUR\n",
    "HEART\n",
    "\"\"\"\n",
    "\n",
    "\n",
    "# your code is here\n",
    "oristr=input('input your string')\n",
    "strlist=list(oristr.lower().split(' '))\n",
    "reslist=[]\n",
    "print(strlist)\n",
    "for word in strlist:\n",
    "    if ord(word[0])<ord('h') or ord(word[0])>ord('z'):\n",
    "        \n",
    "        continue\n",
    "    else:\n",
    "        reslist.append(word)\n",
    "for word in reslist:\n",
    "    print(word.upper())\n",
    "        \n",
    "        \n",
    "\n",
    "\n",
    "\n"
   ]
  },
  {
   "cell_type": "markdown",
   "metadata": {},
   "source": [
    "<font color=#ff0000 size=5 face=\"黑体\">实践3：按照要求检查列表中的字符串并对其进行操作</font>"
   ]
  },
  {
   "cell_type": "markdown",
   "metadata": {},
   "source": [
    "This program requires creating a function, takes string input and checks if that\n",
    "string is in a list of strings\n",
    "1. if string is in the list, it removes the first instance from list;\n",
    "2. if string is not in the list, the input gets appended to the list;\n",
    "3. if the string is empty, then the last item is popped from the list;\n",
    "4. if the list becomes empty, the program ends;\n",
    "5. if the user enters \"quit\" , then the program ends.\n",
    "\n",
    "program has 2 parts\n",
    "1. program flow which can be modified to ask for specific type of item. This is the programmers choice. Add a list of fish, trees, books, movies, songs.... your choice.\n",
    "2. **list-o-matic** Function which takes arguments of a string and a list.The function modifies the list and returns a message as seen below.\n"
   ]
  },
  {
   "cell_type": "code",
   "execution_count": 3,
   "metadata": {},
   "outputs": [
    {
     "name": "stdout",
     "output_type": "stream",
     "text": [
      "look at all the animals ['cat', 'goat', 'cat']\n",
      "enter the name of an animal:cat\n",
      "1 instance of cat removed from list\n",
      "\n",
      "\n",
      "look at all the animals ['goat', 'cat']\n",
      "enter the name of an animal:hourse\n",
      "1 instance of hourse appended to list\n",
      "\n",
      "\n",
      "look at all the animals ['goat', 'cat', 'hourse']\n",
      "enter the name of an animal:\n",
      "hourse pop from list\n",
      "\n",
      "\n",
      "look at all the animals ['goat', 'cat']\n",
      "enter the name of an animal:\n",
      "cat pop from list\n",
      "\n",
      "\n",
      "look at all the animals ['goat']\n",
      "enter the name of an animal:quit\n",
      "Goodbye!\n"
     ]
    }
   ],
   "source": [
    "\"\"\"\n",
    "example 1 input/output\n",
    "\n",
    "look at all the animals ['cat', 'goat', 'cat']\n",
    "enter the name of an animal: horse\n",
    "1 instance of horse appended to list\n",
    "\n",
    "look at all the animals ['cat', 'goat', 'cat', 'horse']\n",
    "enter the name of an animal: cat\n",
    "1 instance of cat removed from list\n",
    "\n",
    "look at all the animals ['goat', 'cat', 'horse']\n",
    "enter the name of an animal: cat\n",
    "1 instance of cat removed from list\n",
    "\n",
    "look at all the animals ['goat', 'horse']\n",
    "enter the name of an animal:          (<-- entered empty string)\n",
    "horse popped from list\n",
    "\n",
    "look at all the animals ['goat']\n",
    "enter the name of an animal:          (<-- entered empty string)\n",
    "goat popped from list\n",
    "\n",
    "Goodbye!\n",
    "\n",
    "example 2  input/output\n",
    "\n",
    "look at all the animals ['cat', 'goat', 'cat']\n",
    "enter the name of an animal: Quit\n",
    "Goodbye!\n",
    "\"\"\"\n",
    "def checklist(givenlist,oristr):\n",
    "    if oristr.strip()=='':\n",
    "        tmp=[]\n",
    "        tmp.extend(givenlist)\n",
    "        givenlist.pop()\n",
    "        print('{} pop from list'.format(tmp[-1]))\n",
    "        return 0\n",
    "    if oristr=='quit':\n",
    "        print('Goodbye!')\n",
    "        return 0\n",
    "    if oristr in givenlist:\n",
    "        givenlist.remove(oristr)\n",
    "        print('1 instance of {} removed from list'.format(oristr))\n",
    "        return 0\n",
    "    if oristr not in givenlist:\n",
    "        givenlist.append(oristr)\n",
    "        print('1 instance of {} appended to list'.format(oristr))\n",
    "        return 0\n",
    "    \n",
    "    return 0\n",
    "givenlist=['cat', 'goat', 'cat']\n",
    "while(1):\n",
    "    print('look at all the animals',givenlist)\n",
    "    oristr=input('enter the name of an animal:')\n",
    "    if oristr=='quit':\n",
    "        print('Goodbye!')\n",
    "        break\n",
    "    checklist(givenlist,oristr)\n",
    "    print('\\n')\n",
    "\n",
    "#  your code is here\n",
    "#givenlist=['cat', 'goat', 'cat']\n",
    "\n",
    "\n",
    "\n",
    "\n"
   ]
  },
  {
   "cell_type": "markdown",
   "metadata": {},
   "source": [
    "<font color=#ff0000 size=5 face=\"黑体\">实践4：实现一个非常简单的拼写检查程序</font>\n",
    "- In this assignment you are asked to write a spell checker (corrector). \n",
    "- This assignment includes 3 parts.\n",
    "    1. In the first part you are asked to write a function to compare two strings and return 0, 1, or 2 according to the condition.\n",
    "    2. In the second part you are asked to write a function to check if a string can match another string by either inserting or deleting a character.\n",
    "    3. In the third part you are asked to write a function to correct spelling of a string (sentence) by using a list of correct words. \n",
    "- The third function uses the first two functions as helper functions."
   ]
  },
  {
   "cell_type": "markdown",
   "metadata": {},
   "source": [
    "<font color=#ff00ff size=5> Part1 :</font>\n",
    "- Write a function named **find_mismatch** that accepts two strings as input arguments and returns:\n",
    "    - 0 if the two strings match exactly.\n",
    "    - 1 if the two strings have the same length and mismatch in only one character.\n",
    "    - 2 if the two strings do not have the same length or mismatch in two or more characters.\n",
    "- Capital letters are considered the same as lower case letters. \n",
    "- Here are some examples:\n",
    "\n",
    "First string      |      Second String   |   Function return\n",
    ":--- | --- | ---:\n",
    "    Python        |         Java         |      2\n",
    "    Hello There   |         helloothere  |      1\n",
    "    sin           |         sink         |      2 \n",
    "    dog           |         Dog          |      0\n"
   ]
  },
  {
   "cell_type": "code",
   "execution_count": 4,
   "metadata": {},
   "outputs": [
    {
     "name": "stdout",
     "output_type": "stream",
     "text": [
      "0\n",
      "1\n",
      "2\n"
     ]
    }
   ],
   "source": [
    "# Type your function here\n",
    "def find_mismatch(str1,str2):\n",
    "    str1=str1.lower()\n",
    "    str2=str2.lower()\n",
    "    if str1==str2:\n",
    "        return 0\n",
    "    if len(str1)==len(str2):\n",
    "        count=0\n",
    "        for i in range(len(str1)):\n",
    "            if str1[i]!=str2[i]:\n",
    "                count=count+1\n",
    "        i=i+1\n",
    "        if count==1:\n",
    "            return 1\n",
    "    else:\n",
    "        return 2\n",
    "print (find_mismatch('dog','DOg') )\n",
    "print (find_mismatch('dog','bOg') )\n",
    "print (find_mismatch('dog','DOsg') )\n",
    "\n",
    "\n"
   ]
  },
  {
   "cell_type": "code",
   "execution_count": 105,
   "metadata": {},
   "outputs": [
    {
     "data": {
      "text/plain": [
       "1"
      ]
     },
     "execution_count": 105,
     "metadata": {},
     "output_type": "execute_result"
    }
   ],
   "source": [
    "# use the examples to test your function\n",
    "find_mismatch('eesy','easy')    \n"
   ]
  },
  {
   "cell_type": "markdown",
   "metadata": {},
   "source": [
    "<font color=#ff00ff size=5> Part2 :</font>\n",
    "- Write a function named **single_insert_or_delete** that accepts two strings as input arguments and returns:\n",
    "     - 0 if the two strings match exactly.\n",
    "     - 1 if the first string can become the same as the second string by inserting or deleting a single character. Notice that inserting and deleting a character is not the same as replacing a character.\n",
    "     - 2 otherwise \n",
    "- Capital letters are considered the same as lower case letters. \n",
    "- Here are some examples:\n",
    "\n",
    "First string |\tSecond String\t| Function return\n",
    ":--- | --- | ---:\n",
    "    Python\t  |     Java\t    |      2\n",
    "    book\t  |     boot\t    |      2\n",
    "    sin\t      |     sink\t    |      1 (Inserting a single character at the end)\n",
    "    dog\t      |      Dog\t    |      0\n",
    "    poke\t  |     spoke\t    |      1 (Inserting a single character at the start)\n",
    "    poker\t  |    poke\t        |      1 (Deleting a single character from the end)\n",
    "    programing\t|   programming\t|      1 (Inserting a single character)"
   ]
  },
  {
   "cell_type": "code",
   "execution_count": 6,
   "metadata": {},
   "outputs": [],
   "source": [
    "# Type your function here\n",
    "def single_insert_or_delete(str1,str2):\n",
    "    str1=str1.lower()\n",
    "    str2=str2.lower()\n",
    "    if str1==str2:\n",
    "        return 0\n",
    "    flag=0\n",
    "    if len(str1)<len(str2):\n",
    "        str1,str2=str2,str1\n",
    "    i=0\n",
    "    for char in str1:\n",
    "        resstr=str1[:i]+str1[i+1:]\n",
    "        i=i+1\n",
    "        if resstr==str2:\n",
    "            return 1\n",
    "    \n",
    "    else:\n",
    "        return 2\n",
    "    \n",
    "\n",
    "    "
   ]
  },
  {
   "cell_type": "code",
   "execution_count": 8,
   "metadata": {},
   "outputs": [
    {
     "name": "stdout",
     "output_type": "stream",
     "text": [
      "0\n",
      "1\n",
      "2\n"
     ]
    }
   ],
   "source": [
    "# use the examples to test your function\n",
    "print(single_insert_or_delete('sy','sy'))\n",
    "print(single_insert_or_delete('sya','sy'))\n",
    "print(single_insert_or_delete('eesy','easy'))\n"
   ]
  },
  {
   "cell_type": "markdown",
   "metadata": {},
   "source": [
    "<font color=#ff00ff size=5> Part3 :</font>\n",
    "- Write a function named **spelling_corrector** that accepts two arguments. The first argument is a sentence (string) and the second argument is a list of words (correct_spells). \n",
    "- Your function should check each word in the input string against all the words in the correct_spells list and return a string such that:\n",
    "  1. If a word in the original sentence matches exactly with a word in the correct_spells, then the word is not modified and it should be directly copied to the output string.\n",
    "  2. if a word in the sentence can match a word in the correct_spells list by replacing, inserting, or deleting a single character,then that word should be replaced by the correct word in the correct_spelled list.\n",
    "  3. If neither of the two previous conditions is true, then the word in the original string should not be modified and should be directly copied to the output string.\n",
    "\n",
    "- **Notes**:\n",
    "    * Do not spell check one or two letter words (copy them directly to the output string).\n",
    "    * In case of a tie use the first word from the correct_spelled list.\n",
    "    * Ignore capitalization, i.e. consider capital letters to be the same as lower case letters.\n",
    "    * All characters in the output string should all be in lower case letters.\n",
    "    * Assume that the input string only includes alphabetic characters and spaces. (a-z and A-Z)\n",
    "    * Remove extra spaces between the words.\n",
    "    * Remove spaces at the start and end of the output string.\n",
    "\n",
    "- **Examples**:\n",
    "\n",
    "Sentence (str)\t         |         correct_spells (list)\t            |                  Function return (str)\n",
    ":--- | --- | ---:\n",
    "Thes is the Firs cas\t |         ['that','first','case','car']\t          |             thes is the first case\n",
    "programing is fan and eesy\t|   ['programming','this','fun','easy','book' ]\t   |     programming is fun and easy\n",
    "Thes is vary essy\t      |        ['this', 'is', 'very', 'very', 'easy']\t    |           this is very easy\n",
    "Wee lpve Pythen\t           |   ['we', 'Live', 'In', 'Python']\t                 |      we live python\n",
    "\n",
    "\n",
    "- Notice:\n",
    "    * In the first example 'thes' is not replaced with anything.\n",
    "    * In the first example both 'case' and 'car' could replace the 'cas' in the original sentence, but 'case' is selected because it was encountered first.\n",
    "\n",
    "- Please notice that this assignment is only an exercise and a real spell checker requires more functionalities.\n",
    "- Hint: You should use the functions that you developed in part 1 and part 2 to help you solve this problem.\n"
   ]
  },
  {
   "cell_type": "code",
   "execution_count": 108,
   "metadata": {},
   "outputs": [],
   "source": [
    "# Type your function here\n",
    "def spelling_corrector(oristr,correct_spell):\n",
    "    strlist=list(oristr.lower().split(' '))\n",
    "    res=''\n",
    "    count=0\n",
    "    for word in strlist:\n",
    "        for cword in correct_spell:\n",
    "            word=word.lower()\n",
    "            cword=cword.lower()\n",
    "            if single_insert_or_delete(word,cword)==1 or find_mismatch(word,cword)==1:\n",
    "                strlist[count]=cword\n",
    "                break\n",
    "        count=count+1\n",
    "    return ' '.join(strlist)\n",
    "                \n",
    "\n"
   ]
  },
  {
   "cell_type": "code",
   "execution_count": 112,
   "metadata": {},
   "outputs": [
    {
     "name": "stdout",
     "output_type": "stream",
     "text": [
      "thes is the first case\n",
      "this is vary easy\n",
      "programing is fan and easy\n",
      "we live python\n"
     ]
    }
   ],
   "source": [
    "# use the examples to test your function\n",
    "\n",
    "print(spelling_corrector('Thes is the Firs cas',['that','first','case','car']))\n",
    "print(spelling_corrector('Thes is vary essy',['programming','this','fun','easy','book' ]))\n",
    "print(spelling_corrector('programing is fan and eesy',['this', 'is', 'very', 'very', 'easy']))\n",
    "print(spelling_corrector('Wee lpve Pythen',['we', 'Live', 'In', 'Python']))\n",
    "\n",
    "\n",
    "\n"
   ]
  },
  {
   "cell_type": "code",
   "execution_count": null,
   "metadata": {},
   "outputs": [],
   "source": []
  },
  {
   "cell_type": "code",
   "execution_count": null,
   "metadata": {},
   "outputs": [],
   "source": []
  },
  {
   "cell_type": "code",
   "execution_count": null,
   "metadata": {},
   "outputs": [],
   "source": []
  },
  {
   "cell_type": "code",
   "execution_count": null,
   "metadata": {},
   "outputs": [],
   "source": []
  }
 ],
 "metadata": {
  "anaconda-cloud": {},
  "kernelspec": {
   "display_name": "Python 3",
   "language": "python",
   "name": "python3"
  },
  "language_info": {
   "codemirror_mode": {
    "name": "ipython",
    "version": 3
   },
   "file_extension": ".py",
   "mimetype": "text/x-python",
   "name": "python",
   "nbconvert_exporter": "python",
   "pygments_lexer": "ipython3",
   "version": "3.7.1"
  }
 },
 "nbformat": 4,
 "nbformat_minor": 1
}
