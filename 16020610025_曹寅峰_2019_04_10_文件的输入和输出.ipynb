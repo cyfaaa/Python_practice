{
 "cells": [
  {
   "cell_type": "markdown",
   "metadata": {},
   "source": [
    "### <font color=#ff00ff size=5 face=\"黑体\"> 练习1</font>\n",
    "写一个函数，接收两个正整数 a 和 b (a 小于 b)为参数， 函数返回 a 和 b 之间（包含a和b）所有奇数的列表，奇数按照从大到小的顺序排列。"
   ]
  },
  {
   "cell_type": "code",
   "execution_count": 2,
   "metadata": {},
   "outputs": [],
   "source": [
    "def find_odd(a,b):\n",
    "    res=[]\n",
    "    for i in range(a,b+1):\n",
    "        if i%2==1:\n",
    "            res.append(i)\n",
    "    #print(res)\n",
    "    return res"
   ]
  },
  {
   "cell_type": "code",
   "execution_count": 4,
   "metadata": {},
   "outputs": [
    {
     "name": "stdout",
     "output_type": "stream",
     "text": [
      "[1, 3, 5, 7, 9, 11, 13, 15, 17, 19, 21, 23, 25, 27, 29, 31, 33, 35, 37, 39, 41, 43, 45, 47, 49, 51, 53, 55, 57, 59, 61, 63, 65, 67, 69, 71, 73, 75, 77, 79, 81, 83, 85, 87, 89, 91, 93, 95, 97, 99]\n"
     ]
    },
    {
     "data": {
      "text/plain": [
       "[1,\n",
       " 3,\n",
       " 5,\n",
       " 7,\n",
       " 9,\n",
       " 11,\n",
       " 13,\n",
       " 15,\n",
       " 17,\n",
       " 19,\n",
       " 21,\n",
       " 23,\n",
       " 25,\n",
       " 27,\n",
       " 29,\n",
       " 31,\n",
       " 33,\n",
       " 35,\n",
       " 37,\n",
       " 39,\n",
       " 41,\n",
       " 43,\n",
       " 45,\n",
       " 47,\n",
       " 49,\n",
       " 51,\n",
       " 53,\n",
       " 55,\n",
       " 57,\n",
       " 59,\n",
       " 61,\n",
       " 63,\n",
       " 65,\n",
       " 67,\n",
       " 69,\n",
       " 71,\n",
       " 73,\n",
       " 75,\n",
       " 77,\n",
       " 79,\n",
       " 81,\n",
       " 83,\n",
       " 85,\n",
       " 87,\n",
       " 89,\n",
       " 91,\n",
       " 93,\n",
       " 95,\n",
       " 97,\n",
       " 99]"
      ]
     },
     "execution_count": 4,
     "metadata": {},
     "output_type": "execute_result"
    }
   ],
   "source": [
    "find_odd(1,100)"
   ]
  },
  {
   "cell_type": "markdown",
   "metadata": {},
   "source": [
    "### <font color=#ff00ff size=5 face=\"黑体\"> 练习2</font>"
   ]
  },
  {
   "cell_type": "code",
   "execution_count": 14,
   "metadata": {},
   "outputs": [],
   "source": [
    "\"\"\"\n",
    "写一个函数名为 construct_dictionary_from_lists，\n",
    "接收3个一维列表为参数（假设三个列表的长度相同），并且返回一个字典.\n",
    "\n",
    "1) 第一个列表有 n 个字符串，表示每个人的姓名；\n",
    "2) 第二个列表有 n 个整数， 表示每个人的年龄；\n",
    "3) 第三个列表有 n 个整数， 表示每个人的分数。\n",
    "\n",
    "如果一个人的分数在60分及以上，表示通过，否则未通过。\n",
    "\n",
    "函数返回的字典的键是每个人的名字，键所对应的值是一个列表，\n",
    "包括年龄，分数，以及是否通过 'pass' or 'fail'.\n",
    "\n",
    "比如，函数接收如下参数:\n",
    "([\"paul\", \"saul\", \"steve\", \"chimpy\"], [28, 59, 22, 5], [59, 85, 55, 60])\n",
    "函数的返回值为一个字典:\n",
    "{'steve': [22, 55, 'fail'],\n",
    "'saul': [59, 85, 'pass'],\n",
    "'paul': [28, 59, 'fail'],\n",
    "'chimpy': [5, 60, 'pass']}\n",
    "\"\"\"\n",
    "# your code is here\n",
    "def construct_dictionary_from_lists(list1,list2,list3):\n",
    "    resdic={}\n",
    "    grade=''\n",
    "    for i in range(len(list1)):\n",
    "        if list3[i]>=60:\n",
    "            grade='pass'\n",
    "        else:\n",
    "            grade='fail'\n",
    "        resdic.update({list1[i]:[list2[i],list3[i],grade]})\n",
    "    return (resdic)\n",
    "        "
   ]
  },
  {
   "cell_type": "code",
   "execution_count": 15,
   "metadata": {},
   "outputs": [
    {
     "name": "stdout",
     "output_type": "stream",
     "text": [
      "{'paul': [28, 59, 'fail'], 'saul': [59, 85, 'pass'], 'steve': [22, 55, 'fail'], 'chimpy': [5, 60, 'pass']}\n"
     ]
    }
   ],
   "source": [
    "#\n",
    "names = [\"paul\", \"saul\", \"steve\", \"chimpy\"]\n",
    "ages = [28, 59, 22, 5]\n",
    "scores = [59, 85, 55, 60]\n",
    "print(construct_dictionary_from_lists(names,ages,scores))"
   ]
  },
  {
   "cell_type": "markdown",
   "metadata": {},
   "source": [
    "### <font color=#ff00ff size=5 face=\"黑体\"> 练习3</font>"
   ]
  },
  {
   "cell_type": "code",
   "execution_count": 23,
   "metadata": {},
   "outputs": [],
   "source": [
    "def add_a_capitol(a_dict, a_state, a_city):\n",
    "    a_dict.update({a_state:a_city})\n",
    "    return a_dict"
   ]
  },
  {
   "cell_type": "code",
   "execution_count": 24,
   "metadata": {},
   "outputs": [
    {
     "name": "stdout",
     "output_type": "stream",
     "text": [
      "{'Georgia': 'Atlanta', 'Idaho': 'Boise', 'Maine': 'Augusta'}\n",
      "{'Georgia': 'Atlanta', 'Idaho': 'Boise', 'Maine': 'Augusta', 'Texas': 'Austin'}\n"
     ]
    }
   ],
   "source": [
    "my_capitols = {\"Georgia\": \"Atlanta\", \"Idaho\": \"Boise\", \"Maine\": \"Augusta\"}\n",
    "print(my_capitols)\n",
    "my_capitols = add_a_capitol(my_capitols, \"Texas\", \"Austin\")\n",
    "print(my_capitols)"
   ]
  },
  {
   "cell_type": "markdown",
   "metadata": {},
   "source": [
    "### 文件\n",
    "- open()\n",
    "- read(),readline,readlines()\n",
    "- write(),writelines()"
   ]
  },
  {
   "cell_type": "markdown",
   "metadata": {},
   "source": [
    "### [Reading and writing files](https://docs.python.org/3.6/tutorial/inputoutput.html#reading-and-writing-files)"
   ]
  },
  {
   "cell_type": "code",
   "execution_count": 30,
   "metadata": {},
   "outputs": [
    {
     "name": "stdout",
     "output_type": "stream",
     "text": [
      "my_str1 is: Aaa\n",
      "B\n",
      "my_str2 is: bb\n",
      "Ccc\n",
      "Ddd\n",
      "my_str3 is: \n",
      "Eee\n",
      "Fff\n",
      "\n"
     ]
    }
   ],
   "source": [
    "# open(filename,mode): returns a file object\n",
    "my_file = open('test_file.txt','r')\n",
    "my_str1 = my_file.read(5)\n",
    "my_str2 = my_file.read(10)\n",
    "my_str3 = my_file.read()\n",
    "print(\"my_str1 is:\",my_str1)\n",
    "print(\"my_str2 is:\",my_str2)\n",
    "print(\"my_str3 is:\",my_str3)\n",
    "my_file.close()"
   ]
  },
  {
   "cell_type": "code",
   "execution_count": 32,
   "metadata": {},
   "outputs": [
    {
     "name": "stdout",
     "output_type": "stream",
     "text": [
      "<_io.TextIOWrapper name='OutputFile1.txt' mode='r' encoding='UTF-8'>\n"
     ]
    }
   ],
   "source": [
    "inputFile = open(\"OutputFile1.txt\", \"r\")\n",
    "print(inputFile)"
   ]
  },
  {
   "cell_type": "code",
   "execution_count": 33,
   "metadata": {},
   "outputs": [
    {
     "data": {
      "text/plain": [
       "'Aaa\\n'"
      ]
     },
     "execution_count": 33,
     "metadata": {},
     "output_type": "execute_result"
    }
   ],
   "source": [
    "#Print the next line of inputFile\n",
    "inputFile.readline()"
   ]
  },
  {
   "cell_type": "code",
   "execution_count": 34,
   "metadata": {},
   "outputs": [
    {
     "name": "stdout",
     "output_type": "stream",
     "text": [
      "Bbb\n",
      "Ccc\n",
      "\n",
      "Hello\n"
     ]
    }
   ],
   "source": [
    "#Print the next line of inputFile\n",
    "print(inputFile.readline().strip())\n",
    "#Print the next line of inputFile\n",
    "print(inputFile.readline())\n",
    "# a newline character (\\n) is left at the end of the string,\n",
    "# and is only omitted on the last line of the file if the file\n",
    "# doesn't end in a newline.\n",
    "print('Hello')\n",
    "inputFile.close()"
   ]
  },
  {
   "cell_type": "markdown",
   "metadata": {},
   "source": [
    "<font color=#ff00ff size=5 face=\"黑体\"> 练习4： </font>"
   ]
  },
  {
   "cell_type": "code",
   "execution_count": 47,
   "metadata": {},
   "outputs": [],
   "source": [
    "# Write a function called \"load_file\" that accepts one parameter: a filename. \n",
    "# The function should open the file and return the contents.\n",
    "\n",
    "# If the contents of the file can be interpreted as an integer, return the contents as an integer.\n",
    "# Otherwise, if the contents of the file can be interpreted as a float, return the contents as a float.\n",
    "# Otherwise, return the contents of the file as a string.\n",
    "# You may assume that the file has only one line.\n",
    "\n",
    "\n",
    "# Write your function here!\n",
    "def load_file(filename):\n",
    "    try:\n",
    "        my_file = open(filename,'r')\n",
    "        contents=my_file.read().strip()\n",
    "        my_file.close()\n",
    "        if type(eval(contents))==int:\n",
    "            return eval(contents)\n",
    "        elif type(eval(contents))==float:\n",
    "            return eval(contents)\n",
    "    except:\n",
    "            return contents\n",
    "        \n",
    "        \n",
    "        \n"
   ]
  },
  {
   "cell_type": "code",
   "execution_count": 48,
   "metadata": {},
   "outputs": [
    {
     "name": "stdout",
     "output_type": "stream",
     "text": [
      "123.1\n",
      "<class 'float'>\n"
     ]
    }
   ],
   "source": [
    "filename = \"./test_file.txt\"  # fill your filename here\n",
    "contents = load_file(filename)\n",
    "print(contents)\n",
    "print(type(contents))"
   ]
  },
  {
   "cell_type": "markdown",
   "metadata": {},
   "source": [
    "##### readlines用法"
   ]
  },
  {
   "cell_type": "code",
   "execution_count": 77,
   "metadata": {},
   "outputs": [
    {
     "name": "stdout",
     "output_type": "stream",
     "text": [
      "['Aaa\\n', 'Bbb\\n', 'Ccc\\n', 'Ddd\\n', 'Eee\\n', 'fff\\n']\n"
     ]
    }
   ],
   "source": [
    "poem2_file = open(\"./test_file.txt\",\"r\")\n",
    "poem2_lines = poem2_file.readlines()\n",
    "print(poem2_lines)\n",
    "\n",
    "for i in range(len(poem2_lines)):\n",
    "    poem2_lines[i] = poem2_lines[i].strip()\n",
    "\n",
    "poem2_lines.reverse()\n",
    "#print(poem2_lines)"
   ]
  },
  {
   "cell_type": "markdown",
   "metadata": {},
   "source": [
    "<font color=#ff00ff size=5 face=\"黑体\"> 练习5： </font>"
   ]
  },
  {
   "cell_type": "code",
   "execution_count": 55,
   "metadata": {},
   "outputs": [
    {
     "name": "stdout",
     "output_type": "stream",
     "text": [
      "Aaa\n",
      "Bbb\n",
      "Ccc\n",
      "Ddd\n",
      "Eee\n",
      "fff\n"
     ]
    }
   ],
   "source": [
    "# open poem2_messy.txt as poem2_messy in read mode\n",
    "\n",
    "# use while loop to strip the leading and trailing parentheses,\n",
    "# and print the poem without blank lines\n",
    "poem2_messy_file=open(\"./test_file.txt\",\"r\")\n",
    "poem2_messy=poem2_messy_file.readlines()\n",
    "poem2_messy_file.close()\n",
    "count=0\n",
    "while count<len(poem2_messy):\n",
    "    poem2_messy[count]=poem2_messy[count].strip()\n",
    "    print(poem2_messy[count])\n",
    "    count=count+1\n",
    "    \n",
    "\n",
    "# close poem2_messy\n"
   ]
  },
  {
   "cell_type": "markdown",
   "metadata": {},
   "source": [
    "##### write用法"
   ]
  },
  {
   "cell_type": "code",
   "execution_count": 57,
   "metadata": {},
   "outputs": [],
   "source": [
    "myInt = 12\n",
    "myString = \"Hello,world!\"\n",
    "myFloat = 3.0\n",
    "\n",
    "outputFile = open(\"OutputFile2.txt\",\"w\")\n",
    "# outputFile.write() can only write strings\n",
    "# so we have to convert our variables to strings\n",
    "# before writing them\n",
    "outputFile.write(str(myInt))\n",
    "outputFile.write(myString)\n",
    "outputFile.write(str(myFloat))\n",
    "outputFile.close()"
   ]
  },
  {
   "cell_type": "code",
   "execution_count": 58,
   "metadata": {},
   "outputs": [],
   "source": [
    "myList = [\"David\", \"Lucy\", \"Vrushali\", \"Ping\",\n",
    "          \"Natalie\", \"Dana\", \"Addison\", \"Jasmine\"]\n",
    "\n",
    "#Open OutputFile.txt in write mode\n",
    "outputFile = open(\"OutputFile3.txt\", \"w\")\n",
    "\n",
    "#For each name in myList\n",
    "for name in myList:\n",
    "    #Write the name to the file on its own line\n",
    "    outputFile.write(name+'\\n')\n",
    "\n",
    "outputFile.close()"
   ]
  },
  {
   "cell_type": "code",
   "execution_count": 60,
   "metadata": {},
   "outputs": [],
   "source": [
    "myList = [\"David\", \"Lucy\", \"Vrushali\", \"Ping\",\n",
    "          \"Natalie\", \"Dana\", \"Addison\", \"Jasmine\"]\n",
    "\n",
    "# Open OutputFile.txt in write mode\n",
    "outputFile = open(\"OutputFile3.txt\", \"w\")\n",
    "\n",
    "# For each name in myList\n",
    "for name in myList:\n",
    "    # Write the name to the file on its own line\n",
    "    print(name, file=outputFile)\n",
    "\n",
    "outputFile.close()"
   ]
  },
  {
   "cell_type": "markdown",
   "metadata": {},
   "source": [
    "### file.seek(offset[,whence=0])\n",
    "- offset开始的偏移量，whence表示从哪个位置开始偏移\n",
    "\n",
    "whence mode    |             description\n",
    ":---|---:\n",
    "    0    |               points to the beginning of the file\n",
    "    1    |              points to the current location\n",
    "    2    |             points to the end of the file & offset is always 0\n",
    "\n"
   ]
  },
  {
   "cell_type": "markdown",
   "metadata": {},
   "source": [
    "<font color=#ff00ff size=5 face=\"黑体\"> 练习6： </font>"
   ]
  },
  {
   "cell_type": "code",
   "execution_count": 73,
   "metadata": {},
   "outputs": [
    {
     "name": "stdout",
     "output_type": "stream",
     "text": [
      "Monday\n",
      "Tuesday\n",
      "Wednesday\n",
      "Thusday\n",
      "Friday\n",
      "\n",
      "Monday\n",
      "Tuesday\n",
      "Wednesday\n",
      "Thusday\n",
      "Friday\n",
      "Saturday\n",
      "Sunday\n",
      "\n"
     ]
    }
   ],
   "source": [
    "# open a new file days.txt in write plus read mode 'w+'\n",
    "daysfile = open(\"./days.txt\", \"w+\")\n",
    "# write week days (Monday - Friday) on separate lines to the file\n",
    "daylist = [\"Monday\", \"Tuesday\", \"Wednesday\", \"Thusday\",\"Friday\"]\n",
    "for day in daylist:\n",
    "    print(day,file=daysfile)\n",
    "# use .seek() to move the pointer to the start of the file\n",
    "daysfile.seek(0)\n",
    "# use .read() to read the entire file contents\n",
    "daycontent=daysfile.read()\n",
    "# print the entire file contents\n",
    "print(daycontent)\n",
    "# use .seek() to move the pointer to the end of the file\n",
    "daysfile.seek(0,2)\n",
    "# write the weekend days (Saturday & Sunday)\n",
    "print('Saturday',file=daysfile)\n",
    "print('Sunday',file=daysfile)\n",
    "\n",
    "# use .seek() to move the pointer to the start of the file\n",
    "daysfile.seek(0)\n",
    "\n",
    "# use .read() to read the entire file contents\n",
    "daycontent=daysfile.read()\n",
    "\n",
    "# print the entire file contents and close the file\n",
    "print(daycontent)\n"
   ]
  },
  {
   "cell_type": "markdown",
   "metadata": {},
   "source": [
    "### 上下文管理语句with\n",
    "- with可以自动管理资源，不论因为什么原因（哪怕是代码引发了异常）跳出with块，总能保证文件被正确关闭，可以在代码块执行完毕后自动还原进入该代码块时的上下文。 "
   ]
  },
  {
   "cell_type": "code",
   "execution_count": 61,
   "metadata": {},
   "outputs": [],
   "source": [
    "string1 = \"Hello world\\n文本文件的读取方法\\n文本文件的写入方法\\n\"\n",
    "with open('sample.txt','w') as fp:\n",
    "    fp.write(string1)"
   ]
  },
  {
   "cell_type": "code",
   "execution_count": 62,
   "metadata": {},
   "outputs": [
    {
     "name": "stdout",
     "output_type": "stream",
     "text": [
      "Hello world\n",
      "文本文件的读取方法\n",
      "文本文件的写入方法\n",
      "\n"
     ]
    }
   ],
   "source": [
    "with open('sample.txt','r') as fp:\n",
    "    print(fp.read())"
   ]
  },
  {
   "cell_type": "markdown",
   "metadata": {},
   "source": [
    "<font color=#ff00ff size=5 face=\"黑体\"> 作业： </font>\n",
    "# Part1 : write a function to read a file and create a dictionary"
   ]
  },
  {
   "cell_type": "code",
   "execution_count": 162,
   "metadata": {},
   "outputs": [],
   "source": [
    "\"\"\"\n",
    "Part 1: Read file and create dictionary\n",
    "Write a function named create_grades_dict that accepts a string as the name of a file.\n",
    "Assuming that the file is a text file which includes name and grades of students,\n",
    "your function should read the file and return a dictionary with the exact format as shown below:\n",
    "\n",
    "The format of the input file is:\n",
    "Student ID, Last_name,  Test_x, grade, Test_x, grade, ..\n",
    "Student ID, Last_name,  Test_x, grade, Test_x, grade, ..\n",
    "Student ID, Last_name,  Test_x, grade, Test_x, grade, ..\n",
    "....\n",
    "\n",
    "An example of the input file is shown below.\n",
    "Sample Input\n",
    "Assuming that the input file \"student_grades.txt\" contains the following text:\n",
    "1000123456, Rubble, Test_3,  80, Test_4 , 80\n",
    "1000123459, Chipmunk, Test_4, 96, Test_1, 86 , Quiz_1 , 88\n",
    "\n",
    "Notes:\n",
    "1)Items are separated by comma and one or more spaces may exist between the items.\n",
    "2)The \"ID\" of each student is unique. Two students may have the same Name (but IDs will be different);\n",
    "3)The \"Name\" of each student will only include a last name with no punctuation. Maximum of 15 characters.\n",
    "4)There will be an integer grade for each test (0-100) \n",
    "5)There are only four valid tests, i.e. Test_1, Test_2, Test_3, Test_4. \n",
    "There may be other grades in the file and you should ignore those grades.\n",
    "6)Each student may have missing grade(s) for the tests.A missing grades should be considered as 0.\n",
    "7)Grades may not be in order i.e. Test_3 may appear before Test_1.\n",
    "\n",
    "Your function should read the input file, calculate the average test grade for each student and \n",
    "return a dictionary with the following format:\n",
    "{'Student_ID':[Last_name,Test_1_grade,Test_2_grade,Test_3_grade,Test_4_grade,average], ...}\n",
    "\n",
    "For example in the case of sample input file shown above,your function should return the following dictionary:\n",
    "{'1000123456': ['Rubble', 0, 0, 80, 80, 40.0],\n",
    "'1000123459': ['Chipmunk', 86, 0, 0, 96, 45.5]}\n",
    "\"\"\"\n",
    "# Type your code here\n",
    "def create_grades_dict(gradefile):\n",
    "    gradecontent=open(gradefile,'r')\n",
    "    gradelist=gradecontent.readlines()\n",
    "    gradecontent.close()\n",
    "    gradedic={}\n",
    "    testlist=['Test_1','Test_2','Test_3','Test_4']\n",
    "    #print(gradelist)\n",
    "    for record in gradelist:\n",
    "        recordlist=list(record.split(','))\n",
    "        #print(recordlist)\n",
    "        for i in range(len(recordlist)):\n",
    "            recordlist[i]=recordlist[i].strip()\n",
    "        #print(recordlist)\n",
    "        for test in testlist:\n",
    "            if test not in recordlist:\n",
    "                recordlist.append(test)\n",
    "                recordlist.append('0')\n",
    "        #print(recordlist)\n",
    "        sumgrade=0\n",
    "        for test in testlist:\n",
    "            sumgrade=sumgrade+float(recordlist[recordlist.index(test)+1])\n",
    "        avggrade=sumgrade/len(testlist)\n",
    "       # print(avggrade)\n",
    "        recordvalue=[recordlist[1]]\n",
    "        recordvalue.extend([float(recordlist[recordlist.index(test)+1]) for test in testlist])\n",
    "        recordvalue.append(avggrade)\n",
    "        #print(recordvalue)\n",
    "        gradedic.update({recordlist[0]:recordvalue})\n",
    "    return(gradedic)\n",
    "        \n",
    "        \n",
    "\n"
   ]
  },
  {
   "cell_type": "code",
   "execution_count": 163,
   "metadata": {},
   "outputs": [
    {
     "name": "stdout",
     "output_type": "stream",
     "text": [
      "{'1000123456': ['Rubble', 0.0, 0.0, 80.0, 80.0, 40.0], '1000123210': ['Bunny', 100.0, 100.0, 100.0, 100.0, 100.0], '1000123458': ['Duck', 86.0, 93.0, 0.0, 94.0, 68.25]}\n"
     ]
    }
   ],
   "source": [
    "# print the return value of your function\n",
    "print(create_grades_dict('./name_grade.txt'))"
   ]
  },
  {
   "cell_type": "markdown",
   "metadata": {},
   "source": [
    "# Part2: write a function to print the grades"
   ]
  },
  {
   "cell_type": "code",
   "execution_count": 223,
   "metadata": {},
   "outputs": [],
   "source": [
    "\"\"\"\n",
    "Part 2: Print grades\n",
    "Write a function called print_grades that accepts the name of a file (string) as input argument. \n",
    "Assuming the format of the file is the same as the file in part 1, your function should call \n",
    "the function that you developed in part 1 to read the file and create the grades dictionary. \n",
    "Using the grades dictionary, your function should print the names, grades, and averages of students with \n",
    "the exact format shown below. \n",
    "Notice that you are asked to write a function (NOT a program) and that function prints the grades. \n",
    "Your function should return None after printing the grades.\n",
    "\n",
    "Sample Input file:\n",
    "\n",
    "1000123456, Rubble, Test_3,  80, Test_4 , 80, quiz , 90\n",
    "1000123210, Bunny, Test_2, 100, Test_1, 100,Test_3   , 100 ,Test_4 , 100\n",
    "1000123458, Duck, Test_1, 86, Test_5   , 100 , Test_2 ,93 ,Test_4, 94\n",
    "\n",
    "# Your program's output should be:\n",
    "    ID     |       Name       | Test_1 | Test_2 | Test_3 | Test_4 |  Avg.  |\n",
    "1000123210 | Bunny            |    100 |    100 |    100 |    100 | 100.00 |\n",
    "1000123456 | Rubble           |      0 |      0 |     80 |     80 |  40.00 |\n",
    "1000123458 | Duck             |     86 |     93 |      0 |     94 |  68.25 |\n",
    "\n",
    "# Notes:\n",
    "1)Column titles are all centered\n",
    "2)The printed output is sorted in ascending order based on the student IDs\n",
    "3)Each column is separated from a neighboring column(s) by three characters '| ' (space vertical_bar space).\n",
    "4)IDs are always 10 characters and they are left justified (not counting the boundary characters)\n",
    "5)Names are left justified (maximum of 16 characters, not counting the boundary characters).\n",
    "6)Grades and averages are right justified. The width of the columns for the grades and averages is 6 characters \n",
    "(not counting the boundary characters).\n",
    "7)Averages are right justified with two digits of accuracy after the decimal point.\n",
    "\n",
    "# Hint: Use the function which you developed in part 1 to read the input file and create a dictionary. \n",
    "Use .format() to format the output.\n",
    "\"\"\"\n",
    "# Type your code here\n",
    "def print_grade(gradefile):\n",
    "    gradedic=create_grades_dict(gradefile)\n",
    "    print('    ID     |       Name       | Test_1 | Test_2 | Test_3 | Test_4 |  Avg.  |')\n",
    "    for  key,value in gradedic.items():\n",
    "        print(key.ljust(11)+'|'+value[0].center(18)+'|'+str(int(value[1])).rjust(8)+'|'+str(int(value[2])).rjust(8)\\\n",
    "        +'|'+str(int(value[3])).rjust(8)+'|'+str(int(value[4])).rjust(8)+'|'+str(value[5]).rjust(8)+'|')\n",
    "    \n",
    "    \n",
    "    \n",
    "    \n",
    "\n"
   ]
  },
  {
   "cell_type": "code",
   "execution_count": 224,
   "metadata": {},
   "outputs": [
    {
     "name": "stdout",
     "output_type": "stream",
     "text": [
      "    ID     |       Name       | Test_1 | Test_2 | Test_3 | Test_4 |  Avg.  |\n",
      "1000123456 |      Rubble      |       0|       0|      80|      80|    40.0|\n",
      "1000123210 |      Bunny       |     100|     100|     100|     100|   100.0|\n",
      "1000123458 |       Duck       |      86|      93|       0|      94|   68.25|\n"
     ]
    }
   ],
   "source": [
    "# print the return value of your function\n",
    "print_grade('./name_grade.txt')\n"
   ]
  },
  {
   "cell_type": "code",
   "execution_count": null,
   "metadata": {},
   "outputs": [],
   "source": []
  }
 ],
 "metadata": {
  "kernelspec": {
   "display_name": "Python 3",
   "language": "python",
   "name": "python3"
  },
  "language_info": {
   "codemirror_mode": {
    "name": "ipython",
    "version": 3
   },
   "file_extension": ".py",
   "mimetype": "text/x-python",
   "name": "python",
   "nbconvert_exporter": "python",
   "pygments_lexer": "ipython3",
   "version": "3.7.1"
  }
 },
 "nbformat": 4,
 "nbformat_minor": 2
}
