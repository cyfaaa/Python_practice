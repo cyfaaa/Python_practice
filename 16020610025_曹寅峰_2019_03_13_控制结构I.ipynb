{
 "cells": [
  {
   "cell_type": "markdown",
   "metadata": {},
   "source": [
    "## <font color=\"0000ff\">条件语句</font>\n",
    "\n",
    "- 单分支选择结构；\n",
    "- 双分支选择结构；\n",
    "- 多分支选择结构;"
   ]
  },
  {
   "cell_type": "markdown",
   "metadata": {},
   "source": [
    "### 练习1：<font color='#0000FF'>请用户输入一个学生的成绩，成绩是0到100之间的一个实数，打印出该成绩的等级和绩点。输入的提示信息为“Enter a grade(0-100): ”</font>\n",
    "\n",
    "\n",
    "\n",
    "百分制分数|等级|绩点\n",
    ":---|:---|:---\n",
    "95-100|$A^{+}$|4\n",
    "90-94|$A$|3.9\n",
    "84-89|$A^{-}$|3.8\n",
    "80-83|$B^{+}$|3.6\n",
    "76-79|$B$|3.4"
   ]
  },
  {
   "cell_type": "code",
   "execution_count": 19,
   "metadata": {},
   "outputs": [
    {
     "name": "stdout",
     "output_type": "stream",
     "text": [
      "Enter a grade(0-100): 90\n",
      "成绩等级为：A\n",
      "成绩绩点为：3.9\n",
      "done\n"
     ]
    }
   ],
   "source": [
    "grade = float(input(\"Enter a grade(0-100): \"))\n",
    "\n",
    "if grade >= 95:\n",
    "    print('成绩等级为：A plus')\n",
    "    print('成绩绩点为：4.0')\n",
    "elif grade>=90:\n",
    "    print('成绩等级为：A')\n",
    "    print('成绩绩点为：3.9')\n",
    "elif grade>=84:\n",
    "    print('成绩等级为：A minus')\n",
    "    print('成绩绩点为：3.8')\n",
    "elif grade>=80:\n",
    "    print('成绩等级为：B plus')\n",
    "    print('成绩绩点为：3.6')\n",
    "else: \n",
    "    print('成绩在80分以下')\n",
    "print('done')"
   ]
  },
  {
   "cell_type": "markdown",
   "metadata": {},
   "source": [
    "### 练习2：<font color='#0000FF'>分析下面程序，若输入score为80，输出grade为多少？是否符合逻辑，为什么？"
   ]
  },
  {
   "cell_type": "code",
   "execution_count": null,
   "metadata": {},
   "outputs": [],
   "source": [
    "score = float(input(\"Please input the socre: \"))\n",
    "if score >= 60:\n",
    "    grade = 'D'\n",
    "elif score >= 70.0:\n",
    "    grade = 'C'\n",
    "elif score >= 80.0:\n",
    "    grade = 'B'\n",
    "elif score >= 90.0:\n",
    "    grade = 'A'\n",
    "print(\"grade is\",grade)"
   ]
  },
  {
   "cell_type": "code",
   "execution_count": 11,
   "metadata": {},
   "outputs": [
    {
     "name": "stdout",
     "output_type": "stream",
     "text": [
      "Please input the socre: 90\n",
      "grade is A\n"
     ]
    }
   ],
   "source": [
    "# modity the code above, and write here \n",
    "score = float(input(\"Please input the socre: \"))\n",
    "if score >= 90:\n",
    "    grade = 'A'\n",
    "elif score >= 80.0:\n",
    "    grade = 'B'\n",
    "elif score >= 70.0:\n",
    "    grade = 'C'\n",
    "elif score >= 60.0:\n",
    "    grade = 'D'\n",
    "print(\"grade is\",grade)"
   ]
  },
  {
   "attachments": {
    "even.PNG": {
     "image/png": "[encoded data removed]"
    },
    "odd.PNG": {
     "image/png": "[encoded data removed]"
    }
   },
   "cell_type": "markdown",
   "metadata": {},
   "source": [
    "### 练习3：<font color='#0000FF'>请用户输入一个整数，然后判断这个数是奇数还是偶数，打印出如下信息</font>\n",
    "\n",
    "![odd.PNG](attachment:odd.PNG)\n",
    "\n",
    "![even.PNG](attachment:even.PNG)"
   ]
  },
  {
   "cell_type": "code",
   "execution_count": 18,
   "metadata": {},
   "outputs": [
    {
     "name": "stdout",
     "output_type": "stream",
     "text": [
      "please input an integer: 1353\n",
      "1353 is odd\n"
     ]
    }
   ],
   "source": [
    "number=int(input(\"please input an integer: \"))\n",
    "if number%2==0:\n",
    "    print(\"%s is even\"%number)\n",
    "else:\n",
    "    print(\"%s is odd\"%number)"
   ]
  },
  {
   "cell_type": "markdown",
   "metadata": {},
   "source": [
    "## <font color=\"0000ff\">循环语句</font>\n",
    "\n",
    "- for循环\n",
    "- while循环"
   ]
  },
  {
   "cell_type": "code",
   "execution_count": null,
   "metadata": {},
   "outputs": [],
   "source": [
    "for i in range(1,11):\n",
    "    print(i)"
   ]
  },
  {
   "cell_type": "code",
   "execution_count": null,
   "metadata": {},
   "outputs": [],
   "source": [
    "i = 1\n",
    "while i <= 10:\n",
    "    print(i)\n",
    "    i += 1"
   ]
  },
  {
   "cell_type": "code",
   "execution_count": null,
   "metadata": {},
   "outputs": [],
   "source": [
    "total = 0\n",
    "numCount = int(input(\"How many numbers will you average?\"))\n",
    "for i in range(1,numCount+1):\n",
    "    nextNumber = int(input(\"Enter number #\" + str(i) + \": \"))\n",
    "    total += nextNumber\n",
    "print(total/numCount)"
   ]
  },
  {
   "cell_type": "markdown",
   "metadata": {},
   "source": [
    "### 练习4：<font color='#0000FF'>利用while循环，重新改写上面的代码，使得它们具有相同的效果。</font>"
   ]
  },
  {
   "cell_type": "code",
   "execution_count": 21,
   "metadata": {},
   "outputs": [
    {
     "name": "stdout",
     "output_type": "stream",
     "text": [
      "How many numbers will you average?3\n",
      "Enter number #0: 1\n",
      "Enter number #1: 2\n",
      "Enter number #2: 3\n",
      "2.0\n"
     ]
    }
   ],
   "source": [
    "total=0\n",
    "numCount = int(input(\"How many numbers will you average?\"))\n",
    "i=0\n",
    "while(i<numCount):\n",
    "    nextNumber = int(input(\"Enter number #\" + str(i) + \": \"))\n",
    "    total += nextNumber\n",
    "    i+=1\n",
    "print(total/numCount)\n",
    "    "
   ]
  },
  {
   "cell_type": "markdown",
   "metadata": {},
   "source": [
    "### 练习5： <font color=\"0000ff\">输出200以内能被17整除的最大正整数</font>"
   ]
  },
  {
   "cell_type": "code",
   "execution_count": 26,
   "metadata": {},
   "outputs": [
    {
     "name": "stdout",
     "output_type": "stream",
     "text": [
      "187\n"
     ]
    }
   ],
   "source": [
    "res=0\n",
    "aim=17\n",
    "while res<=200:\n",
    "    res=res+aim\n",
    "print (res-aim)\n"
   ]
  },
  {
   "cell_type": "markdown",
   "metadata": {},
   "source": [
    "### 猜数游戏，程序随机生成一个[a,b]之间的数，由用户去猜；程序会根据用户所猜测的数，给出提示信息，如：所猜的数过大；所猜的数过小；恭喜猜对了。"
   ]
  },
  {
   "cell_type": "code",
   "execution_count": 27,
   "metadata": {},
   "outputs": [
    {
     "name": "stdout",
     "output_type": "stream",
     "text": [
      "10和100之间的随机数为61\n"
     ]
    }
   ],
   "source": [
    "# 生成一个[a,b]之间的数，代码如下\n",
    "import random\n",
    "\n",
    "a = 10\n",
    "b = 100\n",
    "hiddenNumber = random.randint(a, b)\n",
    "# random.randint(a,b) creates a integer [a,b]\n",
    "#print(\"{}和{}之间的随机数为{}\".format(a,b,hiddenNumber))"
   ]
  },
  {
   "attachments": {
    "guess_number.PNG": {
     "image/png": "[encoded data removed]"
    }
   },
   "cell_type": "markdown",
   "metadata": {},
   "source": [
    "<font color=#ff0000 size=5 face=\"黑体\"> 作业1：写一个猜数游戏，让用户能够决定是否接着玩，代码运行示意图如下：</font>\n",
    "![guess_number.PNG](attachment:guess_number.PNG)\n"
   ]
  },
  {
   "cell_type": "code",
   "execution_count": 9,
   "metadata": {},
   "outputs": [
    {
     "name": "stdout",
     "output_type": "stream",
     "text": [
      "Hello,what is your name?cyf\n",
      "well, cyf ,i am thinking of a number between 10 and 100\n",
      "Take a guess: 50\n",
      "Your guess is too low\n",
      "Take a guess: 75\n",
      "Your guess is too low\n",
      "Take a guess: 82\n",
      "Your guess is too low\n",
      "Take a guess: 95\n",
      "Your guess is too high\n",
      "Take a guess: 90\n",
      "Your guess is too low\n",
      "Take a guess: 93\n",
      "Your guess is too low\n",
      "Take a guess: 94\n",
      "Your guess is too high\n",
      "goode job, cyf You guessed my number in 7 guesses !\n",
      "\n",
      "\n",
      "Plat again (y for yes , n for no) ?y\n",
      "well, cyf ,i am thinking of a number between 10 and 100\n",
      "Take a guess: 70\n",
      "Your guess is too low\n",
      "Take a guess: 80\n",
      "Your guess is too high\n",
      "Take a guess: 75\n",
      "Your guess is too high\n",
      "Take a guess: 73\n",
      "Your guess is too low\n",
      "Take a guess: 74\n",
      "Your guess is too high\n",
      "goode job, cyf You guessed my number in 5 guesses !\n",
      "\n",
      "\n",
      "Plat again (y for yes , n for no) ?n\n"
     ]
    }
   ],
   "source": [
    "import random\n",
    "a = 10\n",
    "b = 100\n",
    "hiddenNumber = random.randint(a, b)\n",
    "name=input(\"Hello,what is your name?\")\n",
    "flag=0\n",
    "while flag==0:\n",
    "    i=0\n",
    "    print(\"well, {} ,i am thinking of a number between {} and {}\".format(name,a,b))\n",
    "    guess=0\n",
    "    while guess!=hiddenNumber:\n",
    "        guess=int(input(\"Take a guess: \"))\n",
    "        i+=1\n",
    "        if guess<hiddenNumber:\n",
    "            print(\"Your guess is too low\")\n",
    "        else:\n",
    "            print(\"Your guess is too high\")\n",
    "    print(\"goode job, {} You guessed my number in {} guesses !\".format(name,i))\n",
    "    print('\\n')\n",
    "    \n",
    "    choose=input(\"Play again (y for yes , n for no) ?\")\n",
    "    hiddenNumber = random.randint(a, b)\n",
    "    if choose=='n':\n",
    "        flag=1\n",
    "\n",
    "        \n",
    "        \n",
    "    "
   ]
  },
  {
   "cell_type": "markdown",
   "metadata": {},
   "source": [
    "<font color=#ff0000 size=5 face=\"黑体\"> 作业2：在游戏编程中，经常需要检测两个图形之间的关系；\n",
    "编程判断平面内两个圆的位置关系； </font> \n",
    "\n",
    "## 设两个圆半径分别为R和r(R>=r),两圆心距为d,则\n",
    "1)外离 ($d>R+r$);\n",
    "\n",
    "2)外切 ($d=R+r$);\n",
    "\n",
    "3)相交 ($R-r<d<R+r$);\n",
    "\n",
    "4)内切 ($d=R-r,R\\neq r$);\n",
    "\n",
    "5)内含 ($d<R-r$);\n",
    "\n",
    "6)重合 ($d=0,R=r$);\n",
    "\n",
    "两个圆的圆心位置和半径由用户输入。"
   ]
  },
  {
   "cell_type": "code",
   "execution_count": 11,
   "metadata": {},
   "outputs": [
    {
     "name": "stdout",
     "output_type": "stream",
     "text": [
      "Please input the center of the first circle (x1,y1): 1,2\n",
      "Please input the radius of the first circle: 6\n",
      "Please input the center of the second circle (x2,y2): 1,3\n",
      "Please input the radius of the second circle: 100\n",
      "内含\n"
     ]
    }
   ],
   "source": [
    "import math\n",
    "\n",
    "circle1_x,circle1_y = eval(input(\"Please input the center of the first circle (x1,y1): \"))\n",
    "radius1 = float(input(\"Please input the radius of the first circle: \"))\n",
    "\n",
    "circle2_x,circle2_y = eval(input(\"Please input the center of the second circle (x2,y2): \"))\n",
    "radius2 = float(input(\"Please input the radius of the second circle: \"))\n",
    "\n",
    "if radius1<radius2:\n",
    "    n=radius1\n",
    "    radius1=radius2\n",
    "    radius2=n\n",
    "d = math.hypot(circle1_x - circle2_x,circle1_y-circle2_y)\n",
    "if d>radius1+radius2:\n",
    "    print('外离')\n",
    "elif d==radius1+radius2:\n",
    "    print(\"外切\")\n",
    "elif d>radius1-radius2 and d<radius1+radius2:\n",
    "    print('相交')\n",
    "elif d==radius1-radius2 and d!=0:\n",
    "    print('内切')\n",
    "elif d<radius1-radius2:\n",
    "    print('内含')\n",
    "elif d==0:\n",
    "    print ('重合')\n"
   ]
  },
  {
   "cell_type": "code",
   "execution_count": 10,
   "metadata": {},
   "outputs": [
    {
     "name": "stdout",
     "output_type": "stream",
     "text": [
      "相交\n"
     ]
    }
   ],
   "source": [
    "if d>radius1+radius2:\n",
    "    print('外离')\n",
    "elif d==radius1+radius2:\n",
    "    print(\"外切\")\n",
    "elif d>radius1-radius2 and d<radius1+radius2:\n",
    "    print('相交')\n",
    "elif d==radius1-radius2 and d!=0:\n",
    "    print('内切')\n",
    "elif d<radius1-radius2:\n",
    "    print('内含')\n",
    "elif d==0:\n",
    "    print ('重合')\n",
    "          "
   ]
  }
 ],
 "metadata": {
  "kernelspec": {
   "display_name": "Python 3",
   "language": "python",
   "name": "python3"
  },
  "language_info": {
   "codemirror_mode": {
    "name": "ipython",
    "version": 3
   },
   "file_extension": ".py",
   "mimetype": "text/x-python",
   "name": "python",
   "nbconvert_exporter": "python",
   "pygments_lexer": "ipython3",
   "version": "3.7.1"
  }
 },
 "nbformat": 4,
 "nbformat_minor": 2
}
